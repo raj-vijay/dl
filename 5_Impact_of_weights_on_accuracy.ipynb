{
  "nbformat": 4,
  "nbformat_minor": 0,
  "metadata": {
    "colab": {
      "name": "03. Impact of weights on accuracy.ipynb",
      "provenance": [],
      "collapsed_sections": [],
      "authorship_tag": "ABX9TyMKdiyIsT6VcPxlsKV7XIoV",
      "include_colab_link": true
    },
    "kernelspec": {
      "name": "python3",
      "display_name": "Python 3"
    }
  },
  "cells": [
    {
      "cell_type": "markdown",
      "metadata": {
        "id": "view-in-github",
        "colab_type": "text"
      },
      "source": [
        "<a href=\"https://colab.research.google.com/github/raj-vijay/dl/blob/master/5_Impact_of_weights_on_accuracy.ipynb\" target=\"_parent\"><img src=\"https://colab.research.google.com/assets/colab-badge.svg\" alt=\"Open In Colab\"/></a>"
      ]
    },
    {
      "cell_type": "markdown",
      "metadata": {
        "id": "s3AeWQKblvxV",
        "colab_type": "text"
      },
      "source": [
        "**Impact of weights on accuracy**"
      ]
    },
    {
      "cell_type": "code",
      "metadata": {
        "id": "AoBn605nlwdH",
        "colab_type": "code",
        "colab": {}
      },
      "source": [
        "import numpy as np"
      ],
      "execution_count": null,
      "outputs": []
    },
    {
      "cell_type": "code",
      "metadata": {
        "id": "ZOzVkQYamG2v",
        "colab_type": "code",
        "colab": {}
      },
      "source": [
        "def predict_with_network(input_data_point, weights):\n",
        "    node_0_input = (input_data_point * weights['node_0']).sum()\n",
        "    node_0_output = relu(node_0_input)\n",
        "\n",
        "    node_1_input = (input_data_point * weights['node_1']).sum()\n",
        "    node_1_output = relu(node_1_input)\n",
        "\n",
        "    hidden_layer_values = np.array([node_0_output, node_1_output])\n",
        "    input_to_final_layer = (hidden_layer_values * weights['output']).sum()\n",
        "    model_output = relu(input_to_final_layer)\n",
        "    \n",
        "    return(model_output)"
      ],
      "execution_count": null,
      "outputs": []
    },
    {
      "cell_type": "code",
      "metadata": {
        "id": "WPH0ZLMjmopA",
        "colab_type": "code",
        "colab": {}
      },
      "source": [
        "weights_0 = {'node_0': [2, 1], 'node_1': [1, 2], 'output': [1, 1]}\n",
        "weights_1 = {'node_0': [2, 1], 'node_1': [1, 2], 'output': [1, 1]}"
      ],
      "execution_count": null,
      "outputs": []
    },
    {
      "cell_type": "code",
      "metadata": {
        "id": "nJDar3MymyhE",
        "colab_type": "code",
        "colab": {}
      },
      "source": [
        "def relu(input):\n",
        "    '''Define your relu activation function here'''\n",
        "    # Calculate the value for the output of the relu function: output\n",
        "    output = max(0, input)\n",
        "    \n",
        "    # Return the value just calculated\n",
        "    return(output)"
      ],
      "execution_count": null,
      "outputs": []
    },
    {
      "cell_type": "code",
      "metadata": {
        "id": "z6h-CG4dlrbO",
        "colab_type": "code",
        "colab": {
          "base_uri": "https://localhost:8080/",
          "height": 51
        },
        "outputId": "412fc041-e7d7-46fa-cb54-db4353494ee4"
      },
      "source": [
        "# The data point you will make a prediction for\n",
        "input_data = np.array([0, 3])\n",
        "\n",
        "# Sample weights\n",
        "weights_0 = {'node_0': [2, 1],\n",
        "             'node_1': [1, 2],\n",
        "             'output': [1, 1]\n",
        "            }\n",
        "\n",
        "# The actual target value, used to calculate the error\n",
        "target_actual = 3\n",
        "\n",
        "# Make prediction using original weights\n",
        "model_output_0 = predict_with_network(input_data, weights_0)\n",
        "\n",
        "# Calculate error: error_0\n",
        "error_0 = model_output_0 - target_actual\n",
        "\n",
        "# Create weights that cause the network to make perfect prediction (3): weights_1\n",
        "weights_1 = {'node_0': [2, 1],\n",
        "             'node_1': [1, 2],\n",
        "             'output': [1, 0]\n",
        "            }\n",
        "\n",
        "# Make prediction using new weights: model_output_1\n",
        "model_output_1 = predict_with_network(input_data, weights_1)\n",
        "\n",
        "# Calculate error: error_1\n",
        "error_1 = model_output_1 - target_actual\n",
        "\n",
        "# Print error_0 and error_1\n",
        "print(error_0)\n",
        "print(error_1)\n"
      ],
      "execution_count": null,
      "outputs": [
        {
          "output_type": "stream",
          "text": [
            "6\n",
            "0\n"
          ],
          "name": "stdout"
        }
      ]
    },
    {
      "cell_type": "markdown",
      "metadata": {
        "id": "Lrv74kLOpLJx",
        "colab_type": "text"
      },
      "source": [
        "**Impact of different weights on model accuracy**"
      ]
    },
    {
      "cell_type": "markdown",
      "metadata": {
        "id": "GzApz4L-pIdz",
        "colab_type": "text"
      },
      "source": [
        "Compare model accuracies for two different sets of weights, which have been stored as weights_0 and weights_1."
      ]
    },
    {
      "cell_type": "code",
      "metadata": {
        "id": "07JH7I8ao0lt",
        "colab_type": "code",
        "colab": {}
      },
      "source": [
        "input_data = [np.array([0, 3]), np.array([1, 2]), np.array([-1, -2]), np.array([4, 0])]"
      ],
      "execution_count": null,
      "outputs": []
    },
    {
      "cell_type": "code",
      "metadata": {
        "id": "jyoxxY7aolPK",
        "colab_type": "code",
        "colab": {}
      },
      "source": [
        "target_actuals = [1, 3, 5, 7]"
      ],
      "execution_count": null,
      "outputs": []
    },
    {
      "cell_type": "code",
      "metadata": {
        "id": "78737z9moKN1",
        "colab_type": "code",
        "colab": {}
      },
      "source": [
        "weights_0 = {'node_0': np.array([2, 1]), 'node_1': np.array([1, 2]), 'output': np.array([1, 1])}\n",
        "weights_1 = {'node_0': np.array([2, 1]), 'node_1': np.array([1, 2]), 'output': np.array([1, 1])}"
      ],
      "execution_count": null,
      "outputs": []
    },
    {
      "cell_type": "code",
      "metadata": {
        "id": "M8l2wueznjNs",
        "colab_type": "code",
        "colab": {}
      },
      "source": [
        "def predict_with_network(input_data_point, weights):\n",
        "        node_0_input = (input_data_point * weights['node_0']).sum()\n",
        "        node_0_output = relu(node_0_input)\n",
        "    \n",
        "        node_1_input = (input_data_point * weights['node_1']).sum()\n",
        "        node_1_output = relu(node_1_input)\n",
        "    \n",
        "        hidden_layer_values = np.array([node_0_output, node_1_output])\n",
        "        input_to_final_layer = (hidden_layer_values * weights['output']).sum()\n",
        "        model_output = relu(input_to_final_layer)\n",
        "        \n",
        "        return(model_output)"
      ],
      "execution_count": null,
      "outputs": []
    },
    {
      "cell_type": "code",
      "metadata": {
        "id": "54QgD5gbnKuc",
        "colab_type": "code",
        "colab": {
          "base_uri": "https://localhost:8080/",
          "height": 51
        },
        "outputId": "9ec5465e-f558-411f-f5d6-e4c9f63524c8"
      },
      "source": [
        "from sklearn.metrics import mean_squared_error\n",
        "\n",
        "# Create model_output_0 \n",
        "model_output_0 = []\n",
        "# Create model_output_1\n",
        "model_output_1 = []\n",
        "\n",
        "# Loop over input_data\n",
        "for row in input_data:\n",
        "    # Append prediction to model_output_0\n",
        "    model_output_0.append(predict_with_network(row, weights_0))\n",
        "    \n",
        "    # Append prediction to model_output_1\n",
        "    model_output_1.append(predict_with_network(row, weights_1))\n",
        "\n",
        "# Calculate the mean squared error for model_output_0: mse_0\n",
        "mse_0 = mean_squared_error(target_actuals, model_output_0)\n",
        "\n",
        "# Calculate the mean squared error for model_output_1: mse_1\n",
        "mse_1 = mean_squared_error(target_actuals, model_output_1)\n",
        "\n",
        "# Print mse_0 and mse_1\n",
        "print(\"Mean squared error with weights_0: %f\" %mse_0)\n",
        "print(\"Mean squared error with weights_1: %f\" %mse_1)"
      ],
      "execution_count": null,
      "outputs": [
        {
          "output_type": "stream",
          "text": [
            "Mean squared error with weights_0: 37.500000\n",
            "Mean squared error with weights_1: 37.500000\n"
          ],
          "name": "stdout"
        }
      ]
    }
  ]
}