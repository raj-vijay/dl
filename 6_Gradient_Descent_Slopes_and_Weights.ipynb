{
  "nbformat": 4,
  "nbformat_minor": 0,
  "metadata": {
    "colab": {
      "name": "04. Gradient Descent - Slopes and Weights.ipynb",
      "provenance": [],
      "collapsed_sections": [],
      "authorship_tag": "ABX9TyPc9hshDrESCZe3UMUZ2SOg",
      "include_colab_link": true
    },
    "kernelspec": {
      "name": "python3",
      "display_name": "Python 3"
    }
  },
  "cells": [
    {
      "cell_type": "markdown",
      "metadata": {
        "id": "view-in-github",
        "colab_type": "text"
      },
      "source": [
        "<a href=\"https://colab.research.google.com/github/raj-vijay/dl/blob/master/6_Gradient_Descent_Slopes_and_Weights.ipynb\" target=\"_parent\"><img src=\"https://colab.research.google.com/assets/colab-badge.svg\" alt=\"Open In Colab\"/></a>"
      ]
    },
    {
      "cell_type": "markdown",
      "metadata": {
        "id": "dLgsKR6UqTIa",
        "colab_type": "text"
      },
      "source": [
        "**Calculate slopes and update weights**"
      ]
    },
    {
      "cell_type": "code",
      "metadata": {
        "id": "39XVHN1upm-C",
        "colab_type": "code",
        "colab": {
          "base_uri": "https://localhost:8080/",
          "height": 34
        },
        "outputId": "8892bd8f-f88a-403d-d203-5cd85d69e775"
      },
      "source": [
        "import numpy as np\n",
        "weights = np.array([1, 2])\n",
        "input_data = np.array([3, 4])\n",
        "target = 6\n",
        "learning_rate = 0.01\n",
        "preds = (weights * input_data).sum()\n",
        "error = preds - target\n",
        "print(error)"
      ],
      "execution_count": null,
      "outputs": [
        {
          "output_type": "stream",
          "text": [
            "5\n"
          ],
          "name": "stdout"
        }
      ]
    },
    {
      "cell_type": "markdown",
      "metadata": {
        "id": "KmPsXJhtqk6z",
        "colab_type": "text"
      },
      "source": [
        "When plotting the mean-squared error loss function against predictions, the slope is 2 * x * (xb-y), or 2 * input_data * error. \n",
        "\n",
        "Note that x and b may have multiple numbers (x is a vector for each data point, and b is a vector). In this case, the output will also be a vector."
      ]
    },
    {
      "cell_type": "code",
      "metadata": {
        "id": "sAz0DFBdqeY8",
        "colab_type": "code",
        "colab": {
          "base_uri": "https://localhost:8080/",
          "height": 34
        },
        "outputId": "6401caae-60d1-4f2b-d207-297919a2b0bc"
      },
      "source": [
        "# Calculate the predictions: preds\n",
        "preds = (weights * input_data).sum()\n",
        "\n",
        "# Calculate the error: error\n",
        "error = preds - target\n",
        "\n",
        "# Calculate the slope: slope\n",
        "slope = 2 * input_data * error\n",
        "\n",
        "# Print the slope\n",
        "print(slope)\n"
      ],
      "execution_count": null,
      "outputs": [
        {
          "output_type": "stream",
          "text": [
            "[30 40]\n"
          ],
          "name": "stdout"
        }
      ]
    },
    {
      "cell_type": "markdown",
      "metadata": {
        "id": "4s1Qo1BDriMf",
        "colab_type": "text"
      },
      "source": [
        "**Improving model weights**"
      ]
    },
    {
      "cell_type": "markdown",
      "metadata": {
        "id": "r_SZ8_ScrAl3",
        "colab_type": "text"
      },
      "source": [
        "The slopes have just been calculated. \n",
        "\n",
        "Now these slopes are used to improve the model. Adding the slopes to the weights will help move the model in the right direction. \n",
        "\n",
        "However, it's possible to move too far in that direction. So small incremental steps needs to be taken in that direction first, using a lower learning rate, and verifying if the model is improving."
      ]
    },
    {
      "cell_type": "code",
      "metadata": {
        "id": "uRoxGYmFq4V-",
        "colab_type": "code",
        "colab": {
          "base_uri": "https://localhost:8080/",
          "height": 51
        },
        "outputId": "a0675407-441c-409a-8bd0-139949605ead"
      },
      "source": [
        "# Set the learning rate: learning_rate\n",
        "learning_rate = 0.01\n",
        "\n",
        "# Calculate the predictions: preds\n",
        "preds = (weights * input_data).sum()\n",
        "\n",
        "# Calculate the error: error\n",
        "error = preds - target\n",
        "\n",
        "# Calculate the slope: slope\n",
        "slope = 2 * input_data * error\n",
        "\n",
        "# Update the weights: weights_updated\n",
        "weights_updated = weights - learning_rate * slope\n",
        "\n",
        "# Get updated predictions: preds_updated\n",
        "preds_updated = (weights_updated * input_data).sum()\n",
        "\n",
        "# Calculate updated error: error_updated\n",
        "error_updated = preds_updated - target\n",
        "\n",
        "# Print the original error\n",
        "print(error)\n",
        "\n",
        "# Print the updated error\n",
        "print(error_updated)\n"
      ],
      "execution_count": null,
      "outputs": [
        {
          "output_type": "stream",
          "text": [
            "5\n",
            "2.5\n"
          ],
          "name": "stdout"
        }
      ]
    },
    {
      "cell_type": "markdown",
      "metadata": {
        "id": "4kTrYCqYsO8e",
        "colab_type": "text"
      },
      "source": [
        "**Making multiple updates to weights**"
      ]
    },
    {
      "cell_type": "markdown",
      "metadata": {
        "id": "jaUoZqTVsba3",
        "colab_type": "text"
      },
      "source": [
        "Now, we make multiple updates to dramatically improve the model weights, and see how the predictions improve with each update. Note that this network does not have any hidden layers, and it goes directly from the input (with 3 nodes) to an output node."
      ]
    },
    {
      "cell_type": "code",
      "metadata": {
        "id": "2K8xRWlcsD0E",
        "colab_type": "code",
        "colab": {}
      },
      "source": [
        "def get_error(input_data, target, weights):\n",
        "    preds = (weights * input_data).sum()\n",
        "    error = preds - target\n",
        "    return(error)"
      ],
      "execution_count": null,
      "outputs": []
    },
    {
      "cell_type": "code",
      "metadata": {
        "id": "Pxl-c8DZsKYl",
        "colab_type": "code",
        "colab": {}
      },
      "source": [
        "def get_mse(input_data, target, weights):\n",
        "    errors = get_error(input_data, target, weights)\n",
        "    mse = np.mean(errors**2)\n",
        "    return(mse)\n"
      ],
      "execution_count": null,
      "outputs": []
    },
    {
      "cell_type": "code",
      "metadata": {
        "id": "2xRXhujbr-lT",
        "colab_type": "code",
        "colab": {}
      },
      "source": [
        "def get_slope(input_data, target, weights):\n",
        "    error = get_error(input_data, target, weights)\n",
        "    slope = 2 * input_data * error\n",
        "    return(slope)"
      ],
      "execution_count": null,
      "outputs": []
    },
    {
      "cell_type": "code",
      "metadata": {
        "id": "B5cPt3Pirp4x",
        "colab_type": "code",
        "colab": {
          "base_uri": "https://localhost:8080/",
          "height": 279
        },
        "outputId": "e1e14fa6-88b1-4576-eb6e-8d9bfd4ce898"
      },
      "source": [
        "import matplotlib.pyplot as plt\n",
        "\n",
        "n_updates = 20\n",
        "mse_hist = []\n",
        "\n",
        "# Iterate over the number of updates\n",
        "for i in range(n_updates):\n",
        "    # Calculate the slope: slope\n",
        "    slope = get_slope(input_data, target, weights)\n",
        "    \n",
        "    # Update the weights: weights\n",
        "    weights = weights - 0.01 * slope\n",
        "    \n",
        "    # Calculate mse with new weights: mse\n",
        "    mse = get_mse(input_data, target, weights)\n",
        "    \n",
        "    # Append the mse to mse_hist\n",
        "    mse_hist.append(mse)\n",
        "\n",
        "# Plot the mse history\n",
        "plt.plot(mse_hist)\n",
        "plt.xlabel('Iterations')\n",
        "plt.ylabel('Mean Squared Error')\n",
        "plt.show()\n"
      ],
      "execution_count": null,
      "outputs": [
        {
          "output_type": "display_data",
          "data": {
            "image/png": "[encoded data removed]",
            "text/plain": [
              "<Figure size 432x288 with 1 Axes>"
            ]
          },
          "metadata": {
            "tags": [],
            "needs_background": "light"
          }
        }
      ]
    }
  ]
}