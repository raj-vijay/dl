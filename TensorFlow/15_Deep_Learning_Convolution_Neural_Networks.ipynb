{
  "nbformat": 4,
  "nbformat_minor": 0,
  "metadata": {
    "colab": {
      "name": "15. Deep Learning Convolution Neural Networks.ipynb",
      "provenance": [],
      "collapsed_sections": [],
      "authorship_tag": "ABX9TyN0MnKOV4FJ7593cYaEnxu/",
      "include_colab_link": true
    },
    "kernelspec": {
      "name": "python3",
      "display_name": "Python 3"
    }
  },
  "cells": [
    {
      "cell_type": "markdown",
      "metadata": {
        "id": "view-in-github",
        "colab_type": "text"
      },
      "source": [
        "<a href=\"https://colab.research.google.com/github/raj-vijay/dl/blob/master/15_Deep_Learning_Convolution_Neural_Networks.ipynb\" target=\"_parent\"><img src=\"https://colab.research.google.com/assets/colab-badge.svg\" alt=\"Open In Colab\"/></a>"
      ]
    },
    {
      "cell_type": "markdown",
      "metadata": {
        "id": "0DDoHb60TL2d",
        "colab_type": "text"
      },
      "source": [
        "**Deep learning network**\n",
        "\n",
        "A deep convolutional neural network is a network that has more than one layer. Each layer in a deep network receives its input from the preceding layer, with the very first layer receiving its input from the images used as training or test data."
      ]
    },
    {
      "cell_type": "code",
      "metadata": {
        "id": "QTyK-diFJtBa",
        "colab_type": "code",
        "colab": {}
      },
      "source": [
        "# Import fundamental libraries used for the tensorflow\n",
        "import tensorflow as tf\n",
        "from tensorflow import keras\n",
        "import numpy as np"
      ],
      "execution_count": 0,
      "outputs": []
    },
    {
      "cell_type": "code",
      "metadata": {
        "id": "0CD2Yc08KgPM",
        "colab_type": "code",
        "colab": {}
      },
      "source": [
        "# Load the Fashion MNIST Data from TensorFlow Keras\n",
        "fashion_mnist = tf.keras.datasets.fashion_mnist\n",
        "(train_images, train_labels), (test_images, test_labels) = fashion_mnist.load_data()"
      ],
      "execution_count": 0,
      "outputs": []
    },
    {
      "cell_type": "code",
      "metadata": {
        "id": "02aSFg43LVRz",
        "colab_type": "code",
        "outputId": "be777360-dd93-421f-c28a-a66c0c533011",
        "colab": {
          "base_uri": "https://localhost:8080/",
          "height": 51
        }
      },
      "source": [
        "# Shape of data\n",
        "print(\"Train Images: \", train_images.shape)\n",
        "print(\"Test Images: \", test_images.shape)"
      ],
      "execution_count": 0,
      "outputs": [
        {
          "output_type": "stream",
          "text": [
            "Train Images:  (60000, 28, 28)\n",
            "Test Images:  (10000, 28, 28)\n"
          ],
          "name": "stdout"
        }
      ]
    },
    {
      "cell_type": "code",
      "metadata": {
        "id": "MZkrm9kryYId",
        "colab_type": "code",
        "outputId": "83c1f635-2054-49be-ca0a-d651b75b3acc",
        "colab": {
          "base_uri": "https://localhost:8080/",
          "height": 51
        }
      },
      "source": [
        "# Reshape input data from (28, 28) to (28, 28, 1)\n",
        "w, h = 28, 28\n",
        "train_images = train_images.reshape(train_images.shape[0], w, h, 1)\n",
        "test_images = test_images.reshape(test_images.shape[0], w, h, 1)\n",
        "\n",
        "# One-hot encode the labels\n",
        "train_labels = tf.keras.utils.to_categorical(train_labels, 10)\n",
        "test_labels = tf.keras.utils.to_categorical(test_labels, 10)\n",
        "\n",
        "# Shape of data\n",
        "print(\"Reshaped Train Images: \", train_images.shape)\n",
        "print(\"Reshaped Test Images: \", test_images.shape)"
      ],
      "execution_count": 0,
      "outputs": [
        {
          "output_type": "stream",
          "text": [
            "Reshaped Train Images:  (60000, 28, 28, 1)\n",
            "Reshaped Test Images:  (10000, 28, 28, 1)\n"
          ],
          "name": "stdout"
        }
      ]
    },
    {
      "cell_type": "markdown",
      "metadata": {
        "id": "8ZZjnqmauxyL",
        "colab_type": "text"
      },
      "source": [
        "**Convolutional network for image classification**\n",
        "\n",
        "Convolutional networks for classification are constructed from a sequence of convolutional layers (for image processing) and fully connected (Dense) layers (for readout). \n",
        "\n",
        "Here, we construct a small convolutional network for classification of the data from the fashion dataset."
      ]
    },
    {
      "cell_type": "code",
      "metadata": {
        "id": "QYbM4ZyFu-6e",
        "colab_type": "code",
        "colab": {}
      },
      "source": [
        "from keras.models import Sequential\n",
        "from keras.layers import Dense, Conv2D, Flatten\n",
        "\n",
        "model = Sequential()\n",
        "\n",
        "# Add a convolutional layer (100 units)\n",
        "model.add(Conv2D(100, kernel_size=2, activation='relu', input_shape=(28, 28, 1)))\n",
        "\n",
        "\n",
        "# Add another convolutional layer (50 units)\n",
        "model.add(Conv2D(50, kernel_size=2, activation='relu', input_shape=(28, 28, 1)))\n",
        "\n",
        "# Flatten and feed to output layer\n",
        "model.add(Flatten())\n",
        "model.add(Dense(10, activation='softmax'))"
      ],
      "execution_count": 0,
      "outputs": []
    },
    {
      "cell_type": "markdown",
      "metadata": {
        "id": "dL6qqYTGUFpn",
        "colab_type": "text"
      },
      "source": [
        "**Train a deep CNN to classify clothing images**\n",
        "\n",
        "Training a deep learning model is very similar to training a single layer network. Once the model is constructed , the model needs to be compiled with the right set of parameters. \n",
        "\n",
        "Then, the model is fit by providing it with training data, as well as training labels. After training is done, the model can be evaluated on test data."
      ]
    },
    {
      "cell_type": "code",
      "metadata": {
        "id": "-cX4ettFZmG4",
        "colab_type": "code",
        "colab": {}
      },
      "source": [
        "# Compile the model \n",
        "model.compile(optimizer='adam', \n",
        "              loss='categorical_crossentropy', \n",
        "              metrics=['accuracy'])"
      ],
      "execution_count": 0,
      "outputs": []
    },
    {
      "cell_type": "code",
      "metadata": {
        "id": "G0WeKK0sv9CJ",
        "colab_type": "code",
        "outputId": "5e6c5382-664d-4f4e-99f1-1ec662376b31",
        "colab": {
          "base_uri": "https://localhost:8080/",
          "height": 153
        }
      },
      "source": [
        "# Fit the model to training data \n",
        "model.fit(train_images, train_labels, validation_split=0.2, epochs=3, batch_size=10)"
      ],
      "execution_count": 0,
      "outputs": [
        {
          "output_type": "stream",
          "text": [
            "Train on 48000 samples, validate on 12000 samples\n",
            "Epoch 1/3\n",
            "48000/48000 [==============================] - 182s 4ms/step - loss: 0.5640 - accuracy: 0.8365 - val_loss: 0.3874 - val_accuracy: 0.8568\n",
            "Epoch 2/3\n",
            "48000/48000 [==============================] - 183s 4ms/step - loss: 0.3218 - accuracy: 0.8844 - val_loss: 0.3604 - val_accuracy: 0.8758\n",
            "Epoch 3/3\n",
            "48000/48000 [==============================] - 187s 4ms/step - loss: 0.2646 - accuracy: 0.9031 - val_loss: 0.3497 - val_accuracy: 0.8749\n"
          ],
          "name": "stdout"
        },
        {
          "output_type": "execute_result",
          "data": {
            "text/plain": [
              "<keras.callbacks.callbacks.History at 0x7f525078bf98>"
            ]
          },
          "metadata": {
            "tags": []
          },
          "execution_count": 38
        }
      ]
    },
    {
      "cell_type": "code",
      "metadata": {
        "id": "tgrR1Q-kaNUL",
        "colab_type": "code",
        "outputId": "55c50d49-f399-4bfa-c009-068df1515c05",
        "colab": {
          "base_uri": "https://localhost:8080/",
          "height": 289
        }
      },
      "source": [
        "# Call the summary method\n",
        "model.summary()"
      ],
      "execution_count": 0,
      "outputs": [
        {
          "output_type": "stream",
          "text": [
            "Model: \"sequential_11\"\n",
            "_________________________________________________________________\n",
            "Layer (type)                 Output Shape              Param #   \n",
            "=================================================================\n",
            "conv2d_18 (Conv2D)           (None, 27, 27, 100)       500       \n",
            "_________________________________________________________________\n",
            "conv2d_19 (Conv2D)           (None, 26, 26, 50)        20050     \n",
            "_________________________________________________________________\n",
            "flatten_10 (Flatten)         (None, 33800)             0         \n",
            "_________________________________________________________________\n",
            "dense_10 (Dense)             (None, 10)                338010    \n",
            "=================================================================\n",
            "Total params: 358,560\n",
            "Trainable params: 358,560\n",
            "Non-trainable params: 0\n",
            "_________________________________________________________________\n"
          ],
          "name": "stdout"
        }
      ]
    },
    {
      "cell_type": "markdown",
      "metadata": {
        "id": "2m57eNEK0CBM",
        "colab_type": "text"
      },
      "source": [
        "**Evaluating a CNN with test data**\n",
        "\n",
        "To evaluate a trained neural network, provide a separate testing data set of labeled images."
      ]
    },
    {
      "cell_type": "code",
      "metadata": {
        "id": "UK_GCeW-0Il3",
        "colab_type": "code",
        "outputId": "399b87a6-345d-4d6b-bf8d-53d7053d8673",
        "colab": {
          "base_uri": "https://localhost:8080/",
          "height": 51
        }
      },
      "source": [
        "# Evaluate the model on separate test data\n",
        "model.evaluate(test_images, test_labels, batch_size=10)"
      ],
      "execution_count": 0,
      "outputs": [
        {
          "output_type": "stream",
          "text": [
            "10000/10000 [==============================] - 13s 1ms/step\n"
          ],
          "name": "stdout"
        },
        {
          "output_type": "execute_result",
          "data": {
            "text/plain": [
              "[0.3660142799364403, 0.8682000041007996]"
            ]
          },
          "metadata": {
            "tags": []
          },
          "execution_count": 40
        }
      ]
    }
  ]
}
