{
  "nbformat": 4,
  "nbformat_minor": 0,
  "metadata": {
    "colab": {
      "name": " 2. Logistic Regression for Image Classification.ipynb",
      "provenance": [],
      "authorship_tag": "ABX9TyNdSVNL/mT7Vw9fRrRp/11Q",
      "include_colab_link": true
    },
    "kernelspec": {
      "name": "python3",
      "display_name": "Python 3"
    }
  },
  "cells": [
    {
      "cell_type": "markdown",
      "metadata": {
        "id": "view-in-github",
        "colab_type": "text"
      },
      "source": [
        "<a href=\"https://colab.research.google.com/github/raj-vijay/dl/blob/master/2_Logistic_Regression_for_Image_Classification.ipynb\" target=\"_parent\"><img src=\"https://colab.research.google.com/assets/colab-badge.svg\" alt=\"Open In Colab\"/></a>"
      ]
    },
    {
      "cell_type": "markdown",
      "metadata": {
        "id": "gnIQj1hUxa-4",
        "colab_type": "text"
      },
      "source": [
        "**Logistic Regression for Image Classification**"
      ]
    },
    {
      "cell_type": "markdown",
      "metadata": {
        "id": "FWTL6Qruxi9H",
        "colab_type": "text"
      },
      "source": [
        "In the practical lab folder we will be developing a Logistic Regression model that will perform classification on a basic image dataset, called the Digits dataset. Each sample in the dataset is an 8x8 image representing a handwritten digit (see below for some samples). There are 1797 8x8 images. Each pixel is represented by an integer in the range 0 to 16, indicating varying levels of black. As logistic regression is a binary classifier we will be building a model to differentiate between two different digits. (This is a very basic image classification problem. We will be covering much more complex and realistic image classification tasks later in the module)."
      ]
    },
    {
      "cell_type": "code",
      "metadata": {
        "id": "XmCcdfINxdcf",
        "colab_type": "code",
        "colab": {}
      },
      "source": [
        "from sklearn import datasets\n",
        "import numpy as np\n",
        "import matplotlib.pyplot as plt\n",
        "from sklearn import preprocessing"
      ],
      "execution_count": 0,
      "outputs": []
    },
    {
      "cell_type": "markdown",
      "metadata": {
        "id": "KuTNVnP2x1-e",
        "colab_type": "text"
      },
      "source": [
        "Define the Sigmoid Function"
      ]
    },
    {
      "cell_type": "code",
      "metadata": {
        "id": "zNEfhhvGxPHk",
        "colab_type": "code",
        "colab": {}
      },
      "source": [
        "# Sigmoid function\n",
        "def logistic(x):\n",
        "  return 1.0 / (1.0 + np.exp(-1.0*x))"
      ],
      "execution_count": 0,
      "outputs": []
    },
    {
      "cell_type": "code",
      "metadata": {
        "id": "BOPs-VN1xxYE",
        "colab_type": "code",
        "colab": {}
      },
      "source": [
        "def hypothesisLogistic(X, coefficients, bias):\n",
        "    \n",
        "    # array of zeros. Length is same as number of training rows.  \n",
        "    predictedValues = np.zeros(X.shape[0])\n",
        "    \n",
        "    # for each feature multiple the X training data by the appropriate \n",
        "    # coefficient and add to to predictedvalues\n",
        "    for num in range(len(coefficients)):\n",
        "        predictedValues += coefficients[num] * X[:, num]\n",
        "    \n",
        "    # finally add the current bias to each of the predicted values\n",
        "    predictedValues += bias\n",
        "    \n",
        "    logisticPredicitons = logistic(predictedValues)\n",
        "    \n",
        "    return logisticPredicitons"
      ],
      "execution_count": 0,
      "outputs": []
    },
    {
      "cell_type": "markdown",
      "metadata": {
        "id": "btb90ObQydmN",
        "colab_type": "text"
      },
      "source": [
        "Define Gradient Descent"
      ]
    },
    {
      "cell_type": "code",
      "metadata": {
        "id": "qJtgRufOycFp",
        "colab_type": "code",
        "colab": {}
      },
      "source": [
        "def gradient_descent_log(bias, coefficients, alpha, X, Y, max_iter):\n",
        "\n",
        "    length = len(Y)\n",
        "    \n",
        "    # array is used to store change in cost function for each iteration of GD\n",
        "    errorValues = []\n",
        "    \n",
        "    for num in range(0, max_iter):\n",
        "        \n",
        "        # Calculate predicted y values for current coefficient and bias values \n",
        "        predictedY = hypothesisLogistic(X, coefficients, bias)\n",
        "        \n",
        "\n",
        "        # calculate gradient for bias\n",
        "        biasGrad =    (1.0/length) *  (np.sum( predictedY - Y))\n",
        "        \n",
        "        #update bias using GD update rule\n",
        "        bias = bias - (alpha*biasGrad)\n",
        "        \n",
        "        # for loop to update each coefficient value in turn\n",
        "        for coefNum in range(len(coefficients)):\n",
        "            \n",
        "            # calculate the gradient of the coefficient\n",
        "            gradCoef = (1.0/length)* (np.sum( (predictedY - Y)*X[:, coefNum]))\n",
        "            \n",
        "            # update coefficient using GD update rule\n",
        "            coefficients[coefNum] = coefficients[coefNum] - (alpha*gradCoef)\n",
        "        \n",
        "        # Cross Entropy Error \n",
        "        cost = np.average(((-1*Y)*(np.log(predictedY)))- ((1-Y)*(np.log(1-predictedY))))\n",
        "\n",
        "        errorValues.append(cost)\n",
        "\n",
        "    \n",
        "    # plot the cost for each iteration of gradient descent\n",
        "    plt.plot(errorValues)\n",
        "    plt.show()\n",
        "    \n",
        "    return bias, coefficients\n"
      ],
      "execution_count": 0,
      "outputs": []
    },
    {
      "cell_type": "markdown",
      "metadata": {
        "id": "ELI5jwJgymjl",
        "colab_type": "text"
      },
      "source": [
        "Calculate Accuracy"
      ]
    },
    {
      "cell_type": "code",
      "metadata": {
        "id": "2tXCLRVXyhNF",
        "colab_type": "code",
        "colab": {}
      },
      "source": [
        "def calculateAccuracy(bias, coefficients, X_test, y_test):\n",
        "    \n",
        "    # Get all predicted values for the text set\n",
        "    predictedYValues = hypothesisLogistic(X_test, coefficients, bias)\n",
        "   \n",
        "    # Logistic regression is a probabilistic classifier.\n",
        "    # If the probability is less than 0.5 set class to 0\n",
        "    # If probability is greater than 0.5 set class to 1 \n",
        "    predictedYValues[predictedYValues <= 0.5] = 0\n",
        "    predictedYValues[predictedYValues > 0.5] = 1\n",
        "\n",
        "    print (\"Final Accuracy: \", sum(predictedYValues==y_test)/len(y_test))"
      ],
      "execution_count": 0,
      "outputs": []
    },
    {
      "cell_type": "markdown",
      "metadata": {
        "id": "505P2oDqytJM",
        "colab_type": "text"
      },
      "source": [
        "Define Logistic Regression"
      ]
    },
    {
      "cell_type": "code",
      "metadata": {
        "id": "8CXSoUTGyqMd",
        "colab_type": "code",
        "colab": {}
      },
      "source": [
        "\n",
        "def logisticRegression(X_train, y_train, X_test, y_test):\n",
        "\n",
        "    # set the number of coefficients equal to the number of features\n",
        "    coefficients = np.zeros(X_train.shape[1])\n",
        "    bias = 0.0\n",
        "   \n",
        "    alpha = 0.001 # learning rate\n",
        "    \n",
        "    max_iter=200\n",
        "\n",
        "    # call gredient decent, and get intercept(bias) and coefficents\n",
        "    bias, coefficients = gradient_descent_log(bias, coefficients, alpha, X_train, y_train, max_iter)\n",
        "    \n",
        "    calculateAccuracy(bias, coefficients, X_test, y_test)\n",
        "    "
      ],
      "execution_count": 0,
      "outputs": []
    },
    {
      "cell_type": "code",
      "metadata": {
        "id": "I6B3XwWhywld",
        "colab_type": "code",
        "colab": {
          "base_uri": "https://localhost:8080/",
          "height": 476
        },
        "outputId": "b43f574b-6bc8-4f02-f08d-8723cc994bbb"
      },
      "source": [
        "digits = datasets.load_digits()\n",
        "\n",
        "# Display one of the images to the screen\n",
        "plt.figure(1, figsize=(3, 3))\n",
        "plt.imshow(digits.images[3], cmap=plt.cm.gray_r, interpolation='nearest')\n",
        "plt.show()\n",
        "\n",
        "# Load the feature data and the class labels\n",
        "X_digits = digits.data\n",
        "y_digits = digits.target\n",
        "\n",
        "# The logistic regression model will differentiate between two digits\n",
        "# Code allows you specify the two digits and extract the images \n",
        "# related to these digits from the dataset\n",
        "indexD1 = y_digits==1\n",
        "indexD2 = y_digits==7\n",
        "allindices = indexD1 | indexD2\n",
        "X_digits = X_digits[allindices]\n",
        "y_digits = y_digits[allindices]\n",
        " \n",
        "\n",
        "# We need to make sure that we conveert the labels to \n",
        "# 0 and 1 otherwise our cross entropy won't work \n",
        "lb = preprocessing.LabelBinarizer()\n",
        "y_digits = lb.fit_transform(y_digits)\n",
        "y_digits  =y_digits.flatten()\n",
        "\n",
        "n_samples = len(X_digits)\n",
        "\n",
        "\n",
        "# Seperate data in training and test\n",
        "# Training data \n",
        "X_train = X_digits[:int(.7 * n_samples)]\n",
        "y_train = y_digits[:int(.7 * n_samples)]\n",
        "\n",
        "# Test data\n",
        "X_test = X_digits[int(.7 * n_samples):]\n",
        "y_test = y_digits[int(.7 * n_samples):]\n",
        "\n",
        "   \n",
        "logisticRegression(X_train, y_train, X_test, y_test)\n"
      ],
      "execution_count": 8,
      "outputs": [
        {
          "output_type": "display_data",
          "data": {
            "image/png": "[encoded data removed]",
            "text/plain": [
              "<Figure size 216x216 with 1 Axes>"
            ]
          },
          "metadata": {
            "tags": []
          }
        },
        {
          "output_type": "display_data",
          "data": {
            "image/png": "[encoded data removed]",
            "text/plain": [
              "<Figure size 432x288 with 1 Axes>"
            ]
          },
          "metadata": {
            "tags": []
          }
        },
        {
          "output_type": "stream",
          "text": [
            "Final Accuracy:  0.9908256880733946\n"
          ],
          "name": "stdout"
        }
      ]
    }
  ]
}