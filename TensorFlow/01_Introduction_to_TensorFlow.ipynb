{
  "nbformat": 4,
  "nbformat_minor": 0,
  "metadata": {
    "colab": {
      "name": "01. Introduction to TensorFlow.ipynb",
      "provenance": [],
      "collapsed_sections": [],
      "authorship_tag": "ABX9TyOVl2Tx2QisJTUlLMflTtZj",
      "include_colab_link": true
    },
    "kernelspec": {
      "name": "python3",
      "display_name": "Python 3"
    }
  },
  "cells": [
    {
      "cell_type": "markdown",
      "metadata": {
        "id": "view-in-github",
        "colab_type": "text"
      },
      "source": [
        "<a href=\"https://colab.research.google.com/github/raj-vijay/dl/blob/master/01_Introduction_to_TensorFlow.ipynb\" target=\"_parent\"><img src=\"https://colab.research.google.com/assets/colab-badge.svg\" alt=\"Open In Colab\"/></a>"
      ]
    },
    {
      "cell_type": "markdown",
      "metadata": {
        "id": "gziz-f4OcxPz",
        "colab_type": "text"
      },
      "source": [
        "**Tensor**\n",
        "\n",
        "In mathematics, a tensor is an algebraic object that describes a (multilinear) relationship between sets of algebraic objects related to a vector space.\n",
        "\n",
        "Tensors can take several different forms – for example: scalars and vectors (which are the simplest tensors), dual vectors, multi-linear maps between vector spaces, and even some operations such as the dot product. Tensors are defined independent of any basis, although they are often referred to by their components in a basis related to a particular coordinate system. \n",
        "\n",
        "- Generalization of vectors and matrices\n",
        "- Collection of numbers\n",
        "- Specific shapes"
      ]
    },
    {
      "cell_type": "markdown",
      "metadata": {
        "id": "LoorKygscih7",
        "colab_type": "text"
      },
      "source": [
        "**Tensor Flow**\n",
        "\n",
        "Open-source library for graph-based numerical computation\n",
        "- Developed by the Google Brain Team\n",
        "\n",
        "Low and high level APIs\n",
        "- Addition, multiplication, differentiation\n",
        "- Machine learning models\n",
        "\n",
        "Important changes in TensorFlow 2.0\n",
        "- Eager execution by default\n",
        "- Model building with Keras and Estimators"
      ]
    },
    {
      "cell_type": "markdown",
      "metadata": {
        "id": "K9iinqjIcauP",
        "colab_type": "text"
      },
      "source": [
        "**Defining Tensors in Tensor Flow**"
      ]
    },
    {
      "cell_type": "code",
      "metadata": {
        "id": "iUAFaKZ5cZPN",
        "colab_type": "code",
        "colab": {}
      },
      "source": [
        "# Import Tensor Flow\n",
        "import tensorflow as tf"
      ],
      "execution_count": 0,
      "outputs": []
    },
    {
      "cell_type": "code",
      "metadata": {
        "id": "e6e8n6yTdrKO",
        "colab_type": "code",
        "colab": {}
      },
      "source": [
        "# 0D Tensor\n",
        "d0 = tf.ones((1,))"
      ],
      "execution_count": 0,
      "outputs": []
    },
    {
      "cell_type": "code",
      "metadata": {
        "id": "IBZWBrKGdtel",
        "colab_type": "code",
        "colab": {}
      },
      "source": [
        "# 1D Tensor\n",
        "d1 = tf.ones((2,))"
      ],
      "execution_count": 0,
      "outputs": []
    },
    {
      "cell_type": "code",
      "metadata": {
        "id": "Z37MjPxmdwlI",
        "colab_type": "code",
        "colab": {}
      },
      "source": [
        "# 2D Tensor\n",
        "d2 = tf.ones((2, 2))"
      ],
      "execution_count": 0,
      "outputs": []
    },
    {
      "cell_type": "code",
      "metadata": {
        "id": "7J8ATV5kdzmU",
        "colab_type": "code",
        "colab": {}
      },
      "source": [
        "# 3D Tensor\n",
        "d3 = tf.ones((2, 2, 2))"
      ],
      "execution_count": 0,
      "outputs": []
    },
    {
      "cell_type": "code",
      "metadata": {
        "id": "qxvMWGuud_Ps",
        "colab_type": "code",
        "outputId": "4dda4be1-1885-414e-9ca2-e6f5ac488442",
        "colab": {
          "base_uri": "https://localhost:8080/",
          "height": 102
        }
      },
      "source": [
        "# Print the 3D tensor\n",
        "print(d3.numpy())"
      ],
      "execution_count": 0,
      "outputs": [
        {
          "output_type": "stream",
          "text": [
            "[[[1. 1.]\n",
            "  [1. 1.]]\n",
            "\n",
            " [[1. 1.]\n",
            "  [1. 1.]]]\n"
          ],
          "name": "stdout"
        }
      ]
    },
    {
      "cell_type": "markdown",
      "metadata": {
        "id": "UtdmwOn_eC_5",
        "colab_type": "text"
      },
      "source": [
        "**Constants in Tensor Flow**"
      ]
    },
    {
      "cell_type": "markdown",
      "metadata": {
        "id": "qHhDZYhaeMuA",
        "colab_type": "text"
      },
      "source": [
        "A constant is the simplest category of tensor\n",
        "- Not trainable\n",
        "- Can have any dimension"
      ]
    },
    {
      "cell_type": "code",
      "metadata": {
        "id": "8dnIyZjReGHV",
        "colab_type": "code",
        "colab": {}
      },
      "source": [
        "from tensorflow import constant\n",
        "# Define a 2x3 constant.\n",
        "a = constant(3, shape=[2, 3])\n",
        "\n",
        "# Define a 2x2 constant.\n",
        "b = constant([1, 2, 3, 4], shape=[2, 2])"
      ],
      "execution_count": 0,
      "outputs": []
    },
    {
      "cell_type": "code",
      "metadata": {
        "id": "UeIg5FMDeWHA",
        "colab_type": "code",
        "outputId": "e6d80f9e-60c1-4c21-ad17-ed119d9cb16c",
        "colab": {
          "base_uri": "https://localhost:8080/",
          "height": 85
        }
      },
      "source": [
        "print(\"a =\", a.numpy(), \"\\nb =\", b.numpy())"
      ],
      "execution_count": 0,
      "outputs": [
        {
          "output_type": "stream",
          "text": [
            "a = [[3 3 3]\n",
            " [3 3 3]] \n",
            "b = [[1 2]\n",
            " [3 4]]\n"
          ],
          "name": "stdout"
        }
      ]
    },
    {
      "cell_type": "markdown",
      "metadata": {
        "id": "tpdvxPiifIab",
        "colab_type": "text"
      },
      "source": [
        "**Defining and initializing variables**"
      ]
    },
    {
      "cell_type": "markdown",
      "metadata": {
        "id": "0QV3GoG3gtyY",
        "colab_type": "text"
      },
      "source": [
        "Note: Unlike a constant, a variable's value can be modified. This will be quite useful when we want to train a model by updating its parameters. Constants can't be used for this purpose, so variables are the natural choice."
      ]
    },
    {
      "cell_type": "code",
      "metadata": {
        "id": "1WCkt-AlfHo8",
        "colab_type": "code",
        "colab": {}
      },
      "source": [
        "import tensorflow as tf\n",
        "# Define a variable\n",
        "a0 = tf.Variable([1, 2, 3, 4, 5, 6], dtype=tf.float32)\n",
        "a1 = tf.Variable([1, 2, 3, 4, 5, 6], dtype=tf.int16)\n",
        "\n",
        "# Define a constant\n",
        "b = tf.constant(2, tf.float32)"
      ],
      "execution_count": 0,
      "outputs": []
    },
    {
      "cell_type": "code",
      "metadata": {
        "id": "ZKI8vVvafOuF",
        "colab_type": "code",
        "colab": {}
      },
      "source": [
        "# Compute their product\n",
        "c0 = tf.multiply(a0, b)\n",
        "c1 = a0*b"
      ],
      "execution_count": 0,
      "outputs": []
    },
    {
      "cell_type": "code",
      "metadata": {
        "id": "703HgTfsfWa-",
        "colab_type": "code",
        "outputId": "3bc688c9-126d-48f4-baeb-3e612e957d3a",
        "colab": {
          "base_uri": "https://localhost:8080/",
          "height": 51
        }
      },
      "source": [
        "print(\"c0 =\", c0.numpy(), \"\\nc1 =\", c1.numpy())"
      ],
      "execution_count": 0,
      "outputs": [
        {
          "output_type": "stream",
          "text": [
            "c0 = [ 2.  4.  6.  8. 10. 12.] \n",
            "c1 = [ 2.  4.  6.  8. 10. 12.]\n"
          ],
          "name": "stdout"
        }
      ]
    },
    {
      "cell_type": "markdown",
      "metadata": {
        "id": "buwvsaFNhlpd",
        "colab_type": "text"
      },
      "source": [
        "**Tensorflow Operations**"
      ]
    },
    {
      "cell_type": "markdown",
      "metadata": {
        "id": "Rpm4YxNMhpXO",
        "colab_type": "text"
      },
      "source": [
        "Tensorflow has a model of computation that leverages graphs.\n",
        "\n",
        "Tensorflow graph contains edges and nodes, with edges as tensors and nodes as operations."
      ]
    },
    {
      "cell_type": "markdown",
      "metadata": {
        "id": "LOo69JyikX2L",
        "colab_type": "text"
      },
      "source": [
        "![alt text](https://raw.githubusercontent.com/raj-vijay/dl/master/images/Tensorflow%20Opeations.jpg)"
      ]
    },
    {
      "cell_type": "markdown",
      "metadata": {
        "id": "xKYDMZMRkxEu",
        "colab_type": "text"
      },
      "source": [
        "The **add()** operation performs element-wise addition with two tensors\n",
        "\n",
        "Element-wise addition requires both tensors to have the same shape"
      ]
    },
    {
      "cell_type": "code",
      "metadata": {
        "id": "EuH_BXCZkcf0",
        "colab_type": "code",
        "colab": {}
      },
      "source": [
        "#Import constant and add from tensorflow\n",
        "from tensorflow import constant, add\n",
        "\n",
        "# Define 0-dimensional tensors\n",
        "A0 = constant([1])\n",
        "B0 = constant([2])\n",
        "\n",
        "# Define 1-dimensional tensors\n",
        "A1 = constant([1, 2])\n",
        "B1 = constant([3, 4])\n",
        "\n",
        "# Define 2-dimensional tensors\n",
        "A2 = constant([[1, 2], [3, 4]])\n",
        "B2 = constant([[5, 6], [7, 8]])"
      ],
      "execution_count": 0,
      "outputs": []
    },
    {
      "cell_type": "code",
      "metadata": {
        "id": "Uqg-d2F2kjX-",
        "colab_type": "code",
        "colab": {}
      },
      "source": [
        "# Perform tensor addition with add()\n",
        "\n",
        "C0 = add(A0, B0)\n",
        "C1 = add(A1, B1)\n",
        "C2 = add(A2, B2)"
      ],
      "execution_count": 0,
      "outputs": []
    },
    {
      "cell_type": "markdown",
      "metadata": {
        "id": "Qxe9iFyJk5nE",
        "colab_type": "text"
      },
      "source": [
        "Element-wise multiplication performed using **multiply()** operation.\n",
        "\n",
        "The tensors multiplied must have the same shape."
      ]
    },
    {
      "cell_type": "code",
      "metadata": {
        "id": "uFA2dl5FlHrr",
        "colab_type": "code",
        "colab": {}
      },
      "source": [
        "# Import operators from tensorflow\n",
        "from tensorflow import ones, matmul, multiply\n",
        "\n",
        "# Define tensors\n",
        "A0 = ones(1)\n",
        "A31 = ones([3, 1])\n",
        "A34 = ones([3, 4])\n",
        "A43 = ones([4, 3])"
      ],
      "execution_count": 0,
      "outputs": []
    },
    {
      "cell_type": "markdown",
      "metadata": {
        "id": "4XWpkhW_lYSw",
        "colab_type": "text"
      },
      "source": [
        "The **reduce_sum()** operator sums over the dimensions of a tensor\n",
        "\n",
        "reduce_sum(A) sums over all dimensions of A\n",
        "\n",
        "reduce_sum(A, i) sums over dimension i"
      ]
    },
    {
      "cell_type": "code",
      "metadata": {
        "id": "t1uibA8Elbz7",
        "colab_type": "code",
        "colab": {}
      },
      "source": [
        "# Import operations from tensorflow\n",
        "from tensorflow import ones, reduce_sum\n",
        "\n",
        "# Define a 2x3x4 tensor of ones\n",
        "A = ones([2, 3, 4])"
      ],
      "execution_count": 0,
      "outputs": []
    },
    {
      "cell_type": "markdown",
      "metadata": {
        "id": "HGIufiQFmMR1",
        "colab_type": "text"
      },
      "source": [
        "**Performing element-wise multiplication**\n",
        "\n",
        "Element-wise multiplication in TensorFlow is performed using two tensors with identical shapes. This is because the operation multiplies elements in corresponding positions in the two tensors. An example of an element-wise multiplication, denoted by the ⊙ symbol"
      ]
    },
    {
      "cell_type": "code",
      "metadata": {
        "id": "5oXhwsJcmOpu",
        "colab_type": "code",
        "outputId": "adc8b4e1-924c-4390-9fa1-c27b72b228e8",
        "colab": {
          "base_uri": "https://localhost:8080/",
          "height": 68
        }
      },
      "source": [
        "# Import operations from tensorflow\n",
        "from tensorflow import ones_like, multiply, constant\n",
        "\n",
        "# Define tensors A1 and A23 as constants\n",
        "A1 = constant([1, 2, 3, 4])\n",
        "A23 = constant([[1, 2, 3], [1, 6, 4]])\n",
        "\n",
        "# Define B1 and B23 to have the correct shape\n",
        "B1 = ones_like(A1)\n",
        "B23 = ones_like(A23)\n",
        "\n",
        "# Perform element-wise multiplication\n",
        "C1 = multiply(A1, B1) \n",
        "C23 = multiply(A23, B23)\n",
        "\n",
        "# Print the tensors C1 and C23\n",
        "print('C1: {}'.format(C1.numpy()))\n",
        "print('C23: {}'.format(C23.numpy()))"
      ],
      "execution_count": 0,
      "outputs": [
        {
          "output_type": "stream",
          "text": [
            "C1: [1 2 3 4]\n",
            "C23: [[1 2 3]\n",
            " [1 6 4]]\n"
          ],
          "name": "stdout"
        }
      ]
    },
    {
      "cell_type": "markdown",
      "metadata": {
        "id": "sDruqW4sm96Z",
        "colab_type": "text"
      },
      "source": [
        "**Making predictions with matrix multiplication**"
      ]
    },
    {
      "cell_type": "markdown",
      "metadata": {
        "id": "v3Hk-fFbm_bt",
        "colab_type": "text"
      },
      "source": [
        "The matrix of input data, features, contains two columns: education level and age. The target vector, bill, is the size of the credit card borrower's bill."
      ]
    },
    {
      "cell_type": "code",
      "metadata": {
        "id": "eQ2wSyCInPTh",
        "colab_type": "code",
        "outputId": "c28a6de1-bdd8-4218-ae41-519e93fb7a11",
        "colab": {
          "base_uri": "https://localhost:8080/",
          "height": 85
        }
      },
      "source": [
        "# Define features, params, and bill as constants\n",
        "features = constant([[2, 24], [2, 26], [2, 57], [1, 37]])\n",
        "params = constant([[1000], [150]])\n",
        "bill = constant([[3913], [2682], [8617], [64400]])\n",
        "\n",
        "# Compute billpred using features and params\n",
        "billpred = matmul(features, params)\n",
        "\n",
        "# Compute and print the error\n",
        "error = bill - billpred\n",
        "print(error.numpy())"
      ],
      "execution_count": 0,
      "outputs": [
        {
          "output_type": "stream",
          "text": [
            "[[-1687]\n",
            " [-3218]\n",
            " [-1933]\n",
            " [57850]]\n"
          ],
          "name": "stdout"
        }
      ]
    }
  ]
}
