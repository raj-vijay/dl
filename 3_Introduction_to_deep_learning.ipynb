{
  "nbformat": 4,
  "nbformat_minor": 0,
  "metadata": {
    "colab": {
      "name": "01. Introduction to deep learning.ipynb",
      "provenance": [],
      "authorship_tag": "ABX9TyPuXErJ6LE1UnkL+1c4Zt7t",
      "include_colab_link": true
    },
    "kernelspec": {
      "name": "python3",
      "display_name": "Python 3"
    }
  },
  "cells": [
    {
      "cell_type": "markdown",
      "metadata": {
        "id": "view-in-github",
        "colab_type": "text"
      },
      "source": [
        "<a href=\"https://colab.research.google.com/github/raj-vijay/dl/blob/master/3_Introduction_to_deep_learning.ipynb\" target=\"_parent\"><img src=\"https://colab.research.google.com/assets/colab-badge.svg\" alt=\"Open In Colab\"/></a>"
      ]
    },
    {
      "cell_type": "code",
      "metadata": {
        "id": "r0njtCKGOiOe",
        "colab_type": "code",
        "colab": {
          "base_uri": "https://localhost:8080/",
          "height": 204
        },
        "outputId": "200435d6-1ec2-4be9-b8cf-260334022977"
      },
      "source": [
        "!wget https://assets.datacamp.com/production/repositories/654/datasets/8a57adcdb5bfb3e603dad7d3c61682dfe63082b8/hourly_wages.csv"
      ],
      "execution_count": null,
      "outputs": [
        {
          "output_type": "stream",
          "text": [
            "--2020-05-22 16:33:05--  https://assets.datacamp.com/production/repositories/654/datasets/8a57adcdb5bfb3e603dad7d3c61682dfe63082b8/hourly_wages.csv\n",
            "Resolving assets.datacamp.com (assets.datacamp.com)... 13.227.223.35, 13.227.223.24, 13.227.223.56, ...\n",
            "Connecting to assets.datacamp.com (assets.datacamp.com)|13.227.223.35|:443... connected.\n",
            "HTTP request sent, awaiting response... 200 OK\n",
            "Length: 13436 (13K)\n",
            "Saving to: ‘hourly_wages.csv’\n",
            "\n",
            "\rhourly_wages.csv      0%[                    ]       0  --.-KB/s               \rhourly_wages.csv    100%[===================>]  13.12K  --.-KB/s    in 0s      \n",
            "\n",
            "2020-05-22 16:33:05 (375 MB/s) - ‘hourly_wages.csv’ saved [13436/13436]\n",
            "\n"
          ],
          "name": "stdout"
        }
      ]
    },
    {
      "cell_type": "code",
      "metadata": {
        "id": "kunyGhzoOzSo",
        "colab_type": "code",
        "colab": {
          "base_uri": "https://localhost:8080/",
          "height": 204
        },
        "outputId": "3d8633cf-55a9-4996-f8e2-baa2121f7733"
      },
      "source": [
        "!wget https://assets.datacamp.com/production/repositories/654/datasets/24769dae9dc51a77b9baa785d42ea42e3f8f7538/mnist.csv"
      ],
      "execution_count": null,
      "outputs": [
        {
          "output_type": "stream",
          "text": [
            "--2020-05-22 16:33:16--  https://assets.datacamp.com/production/repositories/654/datasets/24769dae9dc51a77b9baa785d42ea42e3f8f7538/mnist.csv\n",
            "Resolving assets.datacamp.com (assets.datacamp.com)... 13.227.223.35, 13.227.223.24, 13.227.223.56, ...\n",
            "Connecting to assets.datacamp.com (assets.datacamp.com)|13.227.223.35|:443... connected.\n",
            "HTTP request sent, awaiting response... 200 OK\n",
            "Length: 3654466 (3.5M)\n",
            "Saving to: ‘mnist.csv’\n",
            "\n",
            "\rmnist.csv             0%[                    ]       0  --.-KB/s               \rmnist.csv           100%[===================>]   3.48M  --.-KB/s    in 0.05s   \n",
            "\n",
            "2020-05-22 16:33:16 (72.8 MB/s) - ‘mnist.csv’ saved [3654466/3654466]\n",
            "\n"
          ],
          "name": "stdout"
        }
      ]
    },
    {
      "cell_type": "code",
      "metadata": {
        "id": "sPWrzKXsO6L8",
        "colab_type": "code",
        "colab": {
          "base_uri": "https://localhost:8080/",
          "height": 204
        },
        "outputId": "42f033f8-5836-44ff-8897-9fdb9bd47e1e"
      },
      "source": [
        "!wget https://assets.datacamp.com/production/repositories/654/datasets/92b75b9bc0c0a8a30999d76f4a1ee786ef072a9c/titanic_all_numeric.csv"
      ],
      "execution_count": null,
      "outputs": [
        {
          "output_type": "stream",
          "text": [
            "--2020-05-22 16:33:54--  https://assets.datacamp.com/production/repositories/654/datasets/92b75b9bc0c0a8a30999d76f4a1ee786ef072a9c/titanic_all_numeric.csv\n",
            "Resolving assets.datacamp.com (assets.datacamp.com)... 13.227.223.35, 13.227.223.24, 13.227.223.56, ...\n",
            "Connecting to assets.datacamp.com (assets.datacamp.com)|13.227.223.35|:443... connected.\n",
            "HTTP request sent, awaiting response... 200 OK\n",
            "Length: 31708 (31K)\n",
            "Saving to: ‘titanic_all_numeric.csv’\n",
            "\n",
            "\rtitanic_all_numeric   0%[                    ]       0  --.-KB/s               \rtitanic_all_numeric 100%[===================>]  30.96K  --.-KB/s    in 0.002s  \n",
            "\n",
            "2020-05-22 16:33:54 (12.8 MB/s) - ‘titanic_all_numeric.csv’ saved [31708/31708]\n",
            "\n"
          ],
          "name": "stdout"
        }
      ]
    },
    {
      "cell_type": "markdown",
      "metadata": {
        "id": "Idmq0UUqbWFU",
        "colab_type": "text"
      },
      "source": [
        "**Forward propagation**\n",
        "- Multiply - add process\n",
        "- Dot product\n",
        "- Forward propagation for one data point at a time\n",
        "- Output is the prediction for that data point"
      ]
    },
    {
      "cell_type": "code",
      "metadata": {
        "id": "2_jesDCabU_M",
        "colab_type": "code",
        "colab": {}
      },
      "source": [
        "import numpy as np\n",
        "input_data = np.array([2, 3])\n",
        "weights = {'node_0': np.array([1, 1]),\n",
        "'node_1': np.array([-1, 1]),\n",
        "'output': np.array([2, -1])}\n",
        "node_0_value = (input_data * weights['node_0']).sum()\n",
        "node_1_value = (input_data * weights['node_1']).sum()"
      ],
      "execution_count": null,
      "outputs": []
    },
    {
      "cell_type": "code",
      "metadata": {
        "id": "k5DSMdOObZPL",
        "colab_type": "code",
        "colab": {
          "base_uri": "https://localhost:8080/",
          "height": 34
        },
        "outputId": "5623f070-3f57-4b07-f1a1-c2b6e1c7bb56"
      },
      "source": [
        "hidden_layer_values = np.array([node_0_value, node_1_value])\n",
        "print(hidden_layer_values)"
      ],
      "execution_count": null,
      "outputs": [
        {
          "output_type": "stream",
          "text": [
            "[5 1]\n"
          ],
          "name": "stdout"
        }
      ]
    },
    {
      "cell_type": "code",
      "metadata": {
        "id": "0dJHQdudbgVv",
        "colab_type": "code",
        "colab": {
          "base_uri": "https://localhost:8080/",
          "height": 34
        },
        "outputId": "3a9ae871-7dda-407c-fa00-451f064eeb73"
      },
      "source": [
        "output = (hidden_layer_values * weights['output']).sum()\n",
        "print(output)"
      ],
      "execution_count": null,
      "outputs": [
        {
          "output_type": "stream",
          "text": [
            "9\n"
          ],
          "name": "stdout"
        }
      ]
    },
    {
      "cell_type": "markdown",
      "metadata": {
        "id": "-A9OmLsPcDhN",
        "colab_type": "text"
      },
      "source": [
        "**Forward propagation (prediction) for the first neural network**\n",
        "\n",
        "Here, each data point is a customer. \n",
        "\n",
        "The first input is how many accounts they have, and the second input is how many children they have. The model will predict how many transactions the user makes in the next year."
      ]
    },
    {
      "cell_type": "code",
      "metadata": {
        "id": "9n7uofXWcB2D",
        "colab_type": "code",
        "colab": {
          "base_uri": "https://localhost:8080/",
          "height": 34
        },
        "outputId": "33fa7782-1c0d-4876-a3bb-bb2c63400916"
      },
      "source": [
        "# Calculate node 0 value: node_0_value\n",
        "node_0_value = (input_data * weights['node_0']).sum()\n",
        "\n",
        "# Calculate node 1 value: node_1_value\n",
        "node_1_value = (input_data * weights['node_1']).sum()\n",
        "\n",
        "# Put node values into array: hidden_layer_outputs\n",
        "hidden_layer_outputs = np.array([node_0_value, node_1_value])\n",
        "\n",
        "# Calculate output: output\n",
        "output = (hidden_layer_outputs * weights['output']).sum()\n",
        "\n",
        "# Print output\n",
        "print(output)\n"
      ],
      "execution_count": null,
      "outputs": [
        {
          "output_type": "stream",
          "text": [
            "9\n"
          ],
          "name": "stdout"
        }
      ]
    },
    {
      "cell_type": "markdown",
      "metadata": {
        "id": "ghLbdzZqdmXQ",
        "colab_type": "text"
      },
      "source": [
        "**Activation Functions**"
      ]
    },
    {
      "cell_type": "markdown",
      "metadata": {
        "id": "jTyXw1XoeJ0S",
        "colab_type": "text"
      },
      "source": [
        "In artificial neural networks, the activation function of a node defines the output of that node given an input or set of inputs.\n",
        "\n",
        "A standard integrated circuit can be seen as a digital network of activation functions that can be \"ON\" (1) or \"OFF\" (0), depending on input. This is similar to the behavior of the linear perceptron in neural networks. \n",
        "\n",
        "However, only nonlinear activation functions allow such networks to compute nontrivial problems using only a small number of nodes."
      ]
    },
    {
      "cell_type": "markdown",
      "metadata": {
        "id": "3oeL_tKuextM",
        "colab_type": "text"
      },
      "source": [
        "![alt text](https://raw.githubusercontent.com/raj-vijay/dl/master/images/Activation%20Function.png)"
      ]
    },
    {
      "cell_type": "code",
      "metadata": {
        "id": "MBknE7UGdowO",
        "colab_type": "code",
        "colab": {}
      },
      "source": [
        "import numpy as np\n",
        "input_data = np.array([-1, 2])\n",
        "weights = {'node_0': np.array([3, 3]),\n",
        "'node_1': np.array([1, 5]),\n",
        "'output': np.array([2, -1])}\n",
        "node_0_input = (input_data * weights['node_0']).sum()\n",
        "node_0_output = np.tanh(node_0_input)\n",
        "node_1_input = (input_data * weights['node_1']).sum()\n",
        "node_1_output = np.tanh(node_1_input)\n",
        "hidden_layer_outputs = np.array([node_0_output, node_1_output])\n",
        "output = (hidden_layer_outputs * weights['output']).sum()"
      ],
      "execution_count": null,
      "outputs": []
    },
    {
      "cell_type": "code",
      "metadata": {
        "id": "nPlztEy-dxBB",
        "colab_type": "code",
        "colab": {
          "base_uri": "https://localhost:8080/",
          "height": 34
        },
        "outputId": "08fcd4e1-67af-4b2c-e46b-4e8bb019fa02"
      },
      "source": [
        "print(output)"
      ],
      "execution_count": null,
      "outputs": [
        {
          "output_type": "stream",
          "text": [
            "0.9901095378334199\n"
          ],
          "name": "stdout"
        }
      ]
    },
    {
      "cell_type": "markdown",
      "metadata": {
        "id": "RcAhAz7ee_9E",
        "colab_type": "text"
      },
      "source": [
        "**ReLU Activation Function**"
      ]
    },
    {
      "cell_type": "code",
      "metadata": {
        "id": "WSWH1JiHe-aw",
        "colab_type": "code",
        "colab": {
          "base_uri": "https://localhost:8080/",
          "height": 34
        },
        "outputId": "1d69cdfd-0d91-4bf1-d2af-e73997c3282d"
      },
      "source": [
        "def relu(input):\n",
        "    '''Define your relu activation function here'''\n",
        "    # Calculate the value for the output of the relu function: output\n",
        "    output = max(0, input)\n",
        "    \n",
        "    # Return the value just calculated\n",
        "    return(output)\n",
        "\n",
        "# Calculate node 0 value: node_0_output\n",
        "node_0_input = (input_data * weights['node_0']).sum()\n",
        "node_0_output = relu(node_0_input)\n",
        "\n",
        "# Calculate node 1 value: node_1_output\n",
        "node_1_input = (input_data * weights['node_1']).sum()\n",
        "node_1_output = relu(node_1_input)\n",
        "\n",
        "# Put node values into array: hidden_layer_outputs\n",
        "hidden_layer_outputs = np.array([node_0_output, node_1_output])\n",
        "\n",
        "# Calculate model output (do not apply relu)\n",
        "model_output = (hidden_layer_outputs * weights['output']).sum()\n",
        "\n",
        "# Print model output\n",
        "print(model_output)"
      ],
      "execution_count": null,
      "outputs": [
        {
          "output_type": "stream",
          "text": [
            "-3\n"
          ],
          "name": "stdout"
        }
      ]
    },
    {
      "cell_type": "markdown",
      "metadata": {
        "id": "Y-drJ2wIf3OZ",
        "colab_type": "text"
      },
      "source": [
        "**Applying the network to many observations/rows of data**\n",
        "\n",
        "A function called predict_with_network() is defined which will generate predictions for multiple data observations. "
      ]
    },
    {
      "cell_type": "code",
      "metadata": {
        "id": "8emt3mS0fxhO",
        "colab_type": "code",
        "colab": {
          "base_uri": "https://localhost:8080/",
          "height": 34
        },
        "outputId": "71ad8b9a-080b-454e-ea52-4fd67072a3d7"
      },
      "source": [
        "# Define predict_with_network()\n",
        "def predict_with_network(input_data_row, weights):\n",
        "\n",
        "    # Calculate node 0 value\n",
        "    node_0_input = (input_data_row * weights['node_0']).sum()\n",
        "    node_0_output = relu(node_0_input)\n",
        "\n",
        "    # Calculate node 1 value\n",
        "    node_1_input = (input_data_row * weights['node_1']).sum()\n",
        "    node_1_output = relu(node_1_input)\n",
        "\n",
        "    # Put node values into array: hidden_layer_outputs\n",
        "    hidden_layer_outputs = np.array([node_0_output, node_1_output])\n",
        "    \n",
        "    # Calculate model output\n",
        "    input_to_final_layer = (hidden_layer_outputs * weights['output']).sum()\n",
        "    model_output = relu(input_to_final_layer)\n",
        "    \n",
        "    # Return model output\n",
        "    return(model_output)\n",
        "\n",
        "\n",
        "# Create empty list to store prediction results\n",
        "results = []\n",
        "for input_data_row in input_data:\n",
        "    # Append prediction to results\n",
        "    results.append(predict_with_network(input_data_row, weights))\n",
        "\n",
        "# Print results\n",
        "print(results)\n",
        "        "
      ],
      "execution_count": null,
      "outputs": [
        {
          "output_type": "stream",
          "text": [
            "[0, 12]\n"
          ],
          "name": "stdout"
        }
      ]
    }
  ]
}