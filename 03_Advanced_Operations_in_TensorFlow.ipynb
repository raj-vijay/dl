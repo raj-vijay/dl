{
  "nbformat": 4,
  "nbformat_minor": 0,
  "metadata": {
    "colab": {
      "name": "03. Advanced Operations in TensorFlow.ipynb",
      "provenance": [],
      "authorship_tag": "ABX9TyOEMT4uSwJ1TWMa5YJsHdOO",
      "include_colab_link": true
    },
    "kernelspec": {
      "name": "python3",
      "display_name": "Python 3"
    }
  },
  "cells": [
    {
      "cell_type": "markdown",
      "metadata": {
        "id": "view-in-github",
        "colab_type": "text"
      },
      "source": [
        "<a href=\"https://colab.research.google.com/github/raj-vijay/dl/blob/master/03_Advanced_Operations_in_TensorFlow.ipynb\" target=\"_parent\"><img src=\"https://colab.research.google.com/assets/colab-badge.svg\" alt=\"Open In Colab\"/></a>"
      ]
    },
    {
      "cell_type": "markdown",
      "metadata": {
        "id": "SZjWkU5qoAXl",
        "colab_type": "text"
      },
      "source": [
        "**Advanced Operations in TensorFlow**\n",
        "\n",
        "Basic operations in TensorFlow: add() , multiply() , matmul() , and reduce_sum()\n",
        "\n",
        "Advanced operations: gradient() , reshape() , and random()"
      ]
    },
    {
      "cell_type": "markdown",
      "metadata": {
        "id": "t-67avKmoPBk",
        "colab_type": "text"
      },
      "source": [
        "**gradient()** : Computes the slope of a function at a point\n",
        "\n",
        "**reshape()** : Reshapes a tensor (e.g. 10x10 to 100x1)\n",
        "\n",
        "**random()** : Populates tensor with entries drawn from a probability distribution"
      ]
    },
    {
      "cell_type": "markdown",
      "metadata": {
        "id": "X-lSX_VApP0i",
        "colab_type": "text"
      },
      "source": [
        "**Gradient Operator**\n",
        "\n",
        "- Used for finding the optimum.\n",
        "- Minimum: Lowest value of a loss function.\n",
        "- Maximum: Highest value of objective function.\n",
        "\n",
        "Use the gradient() operation.\n",
        "- Optimum: Find a point where gradient = 0.\n",
        "- Minimum: Change in gradient > 0\n",
        "- Maximum: Change in gradient < 0"
      ]
    },
    {
      "cell_type": "code",
      "metadata": {
        "id": "b0qoW4tHn7oq",
        "colab_type": "code",
        "outputId": "6961ee62-1d52-40e9-90fe-5654de6f3b82",
        "colab": {
          "base_uri": "https://localhost:8080/",
          "height": 34
        }
      },
      "source": [
        "# Import tensorflow under the alias tf\n",
        "import tensorflow as tf\n",
        "\n",
        "# Define x\n",
        "x = tf.Variable(-1.0)\n",
        "\n",
        "# Define y within instance of GradientTape\n",
        "with tf.GradientTape() as tape:\n",
        "  tape.watch(x)\n",
        "  y = tf.multiply(x, x)\n",
        "\n",
        "# Evaluate the gradient of y at x = -1\n",
        "g = tape.gradient(y, x)\n",
        "print(g.numpy())"
      ],
      "execution_count": 0,
      "outputs": [
        {
          "output_type": "stream",
          "text": [
            "-2.0\n"
          ],
          "name": "stdout"
        }
      ]
    },
    {
      "cell_type": "markdown",
      "metadata": {
        "id": "SPS_5doFqmqN",
        "colab_type": "text"
      },
      "source": [
        "**Reshape a grayscale image**"
      ]
    },
    {
      "cell_type": "code",
      "metadata": {
        "id": "11_XhHy_qqxr",
        "colab_type": "code",
        "outputId": "3054a4c4-dc0c-4a7a-c0ed-c5ef74b0a7da",
        "colab": {
          "base_uri": "https://localhost:8080/",
          "height": 281
        }
      },
      "source": [
        "import matplotlib.pyplot as plt\n",
        "# Import tensorflow as alias tf\n",
        "import tensorflow as tf\n",
        "\n",
        "# Generate grayscale image\n",
        "gray = tf.random.uniform([2, 2], maxval=255, dtype='int32')\n",
        "plt.title(\"Original Image\")\n",
        "plt.imshow(gray, cmap ='gray')\n",
        "\n",
        "# Reshape grayscale image\n",
        "gray = tf.reshape(gray, [2*2, 1])"
      ],
      "execution_count": 0,
      "outputs": [
        {
          "output_type": "display_data",
          "data": {
            "image/png": "[encoded data removed]",
            "text/plain": [
              "<Figure size 432x288 with 1 Axes>"
            ]
          },
          "metadata": {
            "tags": []
          }
        }
      ]
    },
    {
      "cell_type": "code",
      "metadata": {
        "id": "lHCw87haqxuc",
        "colab_type": "code",
        "outputId": "d1155de7-eeb7-45f6-d1d9-fde2c64622e3",
        "colab": {
          "base_uri": "https://localhost:8080/",
          "height": 298
        }
      },
      "source": [
        "plt.title(\"Reshaped Image\")\n",
        "plt.imshow(gray, cmap ='gray')"
      ],
      "execution_count": 0,
      "outputs": [
        {
          "output_type": "execute_result",
          "data": {
            "text/plain": [
              "<matplotlib.image.AxesImage at 0x7ff14b470e48>"
            ]
          },
          "metadata": {
            "tags": []
          },
          "execution_count": 15
        },
        {
          "output_type": "display_data",
          "data": {
            "image/png": "[encoded data removed]",
            "text/plain": [
              "<Figure size 432x288 with 1 Axes>"
            ]
          },
          "metadata": {
            "tags": []
          }
        }
      ]
    },
    {
      "cell_type": "markdown",
      "metadata": {
        "id": "pdOFilXnr-l-",
        "colab_type": "text"
      },
      "source": [
        "**Reshape a color image**"
      ]
    },
    {
      "cell_type": "code",
      "metadata": {
        "id": "2xgfTSKJsC8h",
        "colab_type": "code",
        "outputId": "6c2fef41-7259-429d-e34a-920e009a4fae",
        "colab": {
          "base_uri": "https://localhost:8080/",
          "height": 281
        }
      },
      "source": [
        "# Import tensorflow as alias tf\n",
        "import tensorflow as tf\n",
        "# Generate color image\n",
        "color = tf.random.uniform([2, 2, 3], maxval=255, dtype='int32')\n",
        "plt.title(\"Original Image\")\n",
        "plt.imshow(color)\n",
        "# Reshape color image\n",
        "color = tf.reshape(color, [2*2, 3])"
      ],
      "execution_count": 0,
      "outputs": [
        {
          "output_type": "display_data",
          "data": {
            "image/png": "[encoded data removed]",
            "text/plain": [
              "<Figure size 432x288 with 1 Axes>"
            ]
          },
          "metadata": {
            "tags": []
          }
        }
      ]
    },
    {
      "cell_type": "code",
      "metadata": {
        "id": "-UKTZrcVsOYy",
        "colab_type": "code",
        "outputId": "439e98df-e55c-4d16-de07-07fab0a97eab",
        "colab": {
          "base_uri": "https://localhost:8080/",
          "height": 298
        }
      },
      "source": [
        "plt.title(\"Reshaped Image\")\n",
        "plt.imshow(color)"
      ],
      "execution_count": 0,
      "outputs": [
        {
          "output_type": "execute_result",
          "data": {
            "text/plain": [
              "<matplotlib.image.AxesImage at 0x7ff14b083748>"
            ]
          },
          "metadata": {
            "tags": []
          },
          "execution_count": 18
        },
        {
          "output_type": "display_data",
          "data": {
            "image/png": "[encoded data removed]",
            "text/plain": [
              "<Figure size 432x288 with 1 Axes>"
            ]
          },
          "metadata": {
            "tags": []
          }
        }
      ]
    },
    {
      "cell_type": "markdown",
      "metadata": {
        "id": "wOMhEo1LtY4O",
        "colab_type": "text"
      },
      "source": [
        "**Optimizing with gradients**"
      ]
    },
    {
      "cell_type": "markdown",
      "metadata": {
        "id": "SGtzOm2Ttdvg",
        "colab_type": "text"
      },
      "source": [
        "Minimize the loss function, y=x^2\n",
        "![alt text](https://assets.datacamp.com/production/repositories/3953/datasets/4a3d06616c28aed697d57914a26da3d831bac83c/gradient_plot.png)"
      ]
    },
    {
      "cell_type": "markdown",
      "metadata": {
        "id": "kf8P5tACt0TY",
        "colab_type": "text"
      },
      "source": [
        "To achieve this compute the slope using the GradientTape() operation at different values of x. \n",
        "\n",
        "- If the slope is positive, decrease the loss by lowering x. \n",
        "- If it is negative, decrease the loss by increasing x.\n",
        "\n",
        "This is how gradient descent works."
      ]
    },
    {
      "cell_type": "code",
      "metadata": {
        "id": "_d0YlNItuF6I",
        "colab_type": "code",
        "outputId": "637c5a1a-94fb-4865-8588-56d6e9ec8c22",
        "colab": {
          "base_uri": "https://localhost:8080/",
          "height": 68
        }
      },
      "source": [
        "# Import operations from tensorflow\n",
        "from tensorflow import Variable, GradientTape, multiply\n",
        "\n",
        "def compute_gradient(x0):\n",
        "  \t# Define x as a variable with an initial value of x0\n",
        "\tx = Variable(x0)\n",
        "\twith GradientTape() as tape:\n",
        "\t\ttape.watch(x)\n",
        "        # Define y using the multiply operation\n",
        "\t\ty = multiply(x, x)\n",
        "    # Return the gradient of y with respect to x\n",
        "\treturn tape.gradient(y, x).numpy()\n",
        "\n",
        "# Compute and print gradients at x = -1, 1, and 0\n",
        "print(compute_gradient(-1.0))\n",
        "print(compute_gradient(1.0))\n",
        "print(compute_gradient(0.0))"
      ],
      "execution_count": 0,
      "outputs": [
        {
          "output_type": "stream",
          "text": [
            "-2.0\n",
            "2.0\n",
            "0.0\n"
          ],
          "name": "stdout"
        }
      ]
    },
    {
      "cell_type": "code",
      "metadata": {
        "id": "QagTYUG1vaBT",
        "colab_type": "code",
        "colab": {}
      },
      "source": [
        "gray_tensor = tf.constant([[187,189,190,192,195,198,198,198,200,200,201,205,206,203,206,206,206,207,209,207,205,205,208,208,206,207,206,206]\n",
        ",[189,191,193,195,197,199,200,199,200,201,202,206,206,208,204,204,210,209,208,208,207,206,208,208,207,207,207,207]\n",
        ",[189,192,195,198,198,201,202,203,205,206,205,209,207,204,211,210,205,208,211,208,206,207,209,210,210,208,210,210]\n",
        ",[191,192,195,197,199,199,204,201,203,208,206,207,209,207,213,208,209,211,221,205,204,239,182,212,213,212,209,209]\n",
        ",[193,195,195,199,201,201,203,205,206,216,223,203,207,239,225,193,188,230,232,195,176,239,191,205,215,212,211,213]\n",
        ",[194,196,199,200,206,202,205,207,196,255,238,197,160,235,226,191,146,190,226,201,160,228,211,162,215,214,216,213]\n",
        ",[195,198,201,202,202,203,232,215,197,246,230,215,153,235,221,205,162,181,224,210,166,202,209,163,190,213,211,213]\n",
        ",[196,198,201,208,202,243,240,215,166,246,233,223,171,235,212,214,165,206,224,199,152,126,206,199,170,165,214,215]\n",
        ",[198,201,197,204,189,247,244,230,206,246,235,220,188,235,211,218,142,227,223,176,152,74,192,206,200,145,177,215]\n",
        ",[200,203,206,206,236,254,254,233,215,205,242,219,185,234,230,223,131,201,209,156,141,83,175,220,196,157,185,222]\n",
        ",[201,200,201,193,253,231,245,246,209,159,241,214,176,219,234,212,133,132,175,149,109,100,225,226,209,147,219,221]\n",
        ",[202,203,203,196,253,209,241,233,194,150,234,204,174,160,208,189,146,101,172,145,76,195,230,226,194,121,227,224]\n",
        ",[204,203,210,245,251,222,207,198,152,112,207,171,163,97,163,154,122,105,175,169,175,227,226,206,154,147,219,225]\n",
        ",[204,205,201,250,246,217,167,204,146,116,192,170,161,78,151,165,115,181,228,225,223,215,203,181,144,202,220,227]\n",
        ",[205,207,198,252,254,228,198,185,162,128,202,194,144,64,135,155,237,241,237,226,211,177,179,155,142,227,227,228]\n",
        ",[210,211,208,255,252,240,219,187,168,148,187,202,151,103,192,246,253,244,233,221,199,179,157,154,116,234,228,231]\n",
        ",[208,211,209,254,254,248,231,216,193,175,178,201,208,240,253,254,249,238,222,206,185,160,143,143,214,231,230,230]\n",
        ",[209,212,205,254,254,252,241,229,217,187,207,224,249,253,251,250,242,228,206,183,166,150,143,172,229,234,235,230]\n",
        ",[208,211,206,254,254,255,249,238,231,211,213,230,250,254,252,246,233,217,188,164,150,143,120,235,231,230,231,231]\n",
        ",[209,213,211,253,255,255,252,244,233,222,217,224,246,251,242,234,225,195,173,153,134,116,225,232,235,232,233,233]\n",
        ",[209,214,214,246,254,253,252,240,224,214,213,217,233,233,230,214,199,190,150,145,127,201,233,234,232,234,233,234]\n",
        ",[211,215,215,243,254,254,245,232,221,208,213,218,225,223,206,195,169,157,132,126,170,238,234,235,234,234,234,234]\n",
        ",[214,216,217,209,254,250,236,229,212,197,206,210,221,210,196,170,148,140,118,134,240,235,234,235,235,236,235,236]\n",
        ",[186,175,180,150,156,158,144,124,132,134,148,153,150,146,137,134,126,109,114,235,237,234,238,236,236,236,236,237]\n",
        ",[145,135,137,134,122,136,112,95,94,90,93,65,60,66,61,66,58,66,80,164,247,235,236,237,239,237,237,235]\n",
        ",[140,146,136,132,129,134,100,103,100,100,87,64,66,65,57,57,61,61,64,65,177,242,238,238,239,238,238,238]\n",
        ",[141,146,140,131,130,136,93,97,102,96,78,71,68,64,60,61,60,55,58,48,254,238,240,239,238,237,237,238]\n",
        ",[146,143,137,138,129,113,94,98,101,87,75,70,68,63,60,58,56,57,63,81,237,237,240,240,239,240,240,240]] , \n",
        "dtype='float32')"
      ],
      "execution_count": 0,
      "outputs": []
    },
    {
      "cell_type": "code",
      "metadata": {
        "id": "-5iIE_IWw8LK",
        "colab_type": "code",
        "outputId": "9439b978-e500-4dea-852e-ae1bc89f2e82",
        "colab": {
          "base_uri": "https://localhost:8080/",
          "height": 282
        }
      },
      "source": [
        "plt.imshow(gray_tensor, cmap = 'gray')"
      ],
      "execution_count": 0,
      "outputs": [
        {
          "output_type": "execute_result",
          "data": {
            "text/plain": [
              "<matplotlib.image.AxesImage at 0x7ff14ac91a90>"
            ]
          },
          "metadata": {
            "tags": []
          },
          "execution_count": 44
        },
        {
          "output_type": "display_data",
          "data": {
            "image/png": "[encoded data removed]",
            "text/plain": [
              "<Figure size 432x288 with 1 Axes>"
            ]
          },
          "metadata": {
            "tags": []
          }
        }
      ]
    },
    {
      "cell_type": "code",
      "metadata": {
        "id": "xw1rqzQdy2lQ",
        "colab_type": "code",
        "colab": {}
      },
      "source": [
        "# Import operations from tensorflow\n",
        "from tensorflow import reshape\n",
        "\n",
        "# Reshape the grayscale image tensor into a vector\n",
        "gray_vector = reshape(gray_tensor, (784, 1))"
      ],
      "execution_count": 0,
      "outputs": []
    }
  ]
}