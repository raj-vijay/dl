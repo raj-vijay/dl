{
  "nbformat": 4,
  "nbformat_minor": 0,
  "metadata": {
    "colab": {
      "name": "05. Keras Model Buidling.ipynb",
      "provenance": [],
      "authorship_tag": "ABX9TyPAiWIegVkztEdB/Ckt2PdT",
      "include_colab_link": true
    },
    "kernelspec": {
      "name": "python3",
      "display_name": "Python 3"
    }
  },
  "cells": [
    {
      "cell_type": "markdown",
      "metadata": {
        "id": "view-in-github",
        "colab_type": "text"
      },
      "source": [
        "<a href=\"https://colab.research.google.com/github/raj-vijay/dl/blob/master/7_Keras_Model_Buidling.ipynb\" target=\"_parent\"><img src=\"https://colab.research.google.com/assets/colab-badge.svg\" alt=\"Open In Colab\"/></a>"
      ]
    },
    {
      "cell_type": "markdown",
      "metadata": {
        "id": "6U9MYTJsyCrn",
        "colab_type": "text"
      },
      "source": [
        "**Model building steps in Keras**\n",
        "1. Specify Architecture\n",
        "2. Compile\n",
        "3. Fit\n",
        "4. Predict"
      ]
    },
    {
      "cell_type": "code",
      "metadata": {
        "id": "LIMKReahyAmj",
        "colab_type": "code",
        "colab": {
          "base_uri": "https://localhost:8080/",
          "height": 34
        },
        "outputId": "16b0f8ec-e9af-4ec8-a43e-b443e5cba65f"
      },
      "source": [
        "import numpy as np\n",
        "from keras.layers import Dense\n",
        "from keras.models import Sequential"
      ],
      "execution_count": null,
      "outputs": [
        {
          "output_type": "stream",
          "text": [
            "Using TensorFlow backend.\n"
          ],
          "name": "stderr"
        }
      ]
    },
    {
      "cell_type": "markdown",
      "metadata": {
        "id": "p_ns2wDQ3XKa",
        "colab_type": "text"
      },
      "source": [
        "**Keras Model on the Hourly Wages Dataset**"
      ]
    },
    {
      "cell_type": "code",
      "metadata": {
        "id": "-E4cIXo6zgkV",
        "colab_type": "code",
        "colab": {
          "base_uri": "https://localhost:8080/",
          "height": 204
        },
        "outputId": "da9f1811-189f-4fae-964f-d7641b5ee73c"
      },
      "source": [
        "!wget https://assets.datacamp.com/production/repositories/654/datasets/8a57adcdb5bfb3e603dad7d3c61682dfe63082b8/hourly_wages.csv"
      ],
      "execution_count": null,
      "outputs": [
        {
          "output_type": "stream",
          "text": [
            "--2020-05-22 19:13:39--  https://assets.datacamp.com/production/repositories/654/datasets/8a57adcdb5bfb3e603dad7d3c61682dfe63082b8/hourly_wages.csv\n",
            "Resolving assets.datacamp.com (assets.datacamp.com)... 13.226.45.81, 13.226.45.22, 13.226.45.82, ...\n",
            "Connecting to assets.datacamp.com (assets.datacamp.com)|13.226.45.81|:443... connected.\n",
            "HTTP request sent, awaiting response... 200 OK\n",
            "Length: 13436 (13K)\n",
            "Saving to: ‘hourly_wages.csv’\n",
            "\n",
            "\rhourly_wages.csv      0%[                    ]       0  --.-KB/s               \rhourly_wages.csv    100%[===================>]  13.12K  --.-KB/s    in 0s      \n",
            "\n",
            "2020-05-22 19:13:39 (186 MB/s) - ‘hourly_wages.csv’ saved [13436/13436]\n",
            "\n"
          ],
          "name": "stdout"
        }
      ]
    },
    {
      "cell_type": "code",
      "metadata": {
        "id": "3JgfbsFMzuDN",
        "colab_type": "code",
        "colab": {}
      },
      "source": [
        "import pandas as pd\n",
        "df = pd.read_csv('hourly_wages.csv')"
      ],
      "execution_count": null,
      "outputs": []
    },
    {
      "cell_type": "code",
      "metadata": {
        "id": "zyWtY1tqz4rz",
        "colab_type": "code",
        "colab": {
          "base_uri": "https://localhost:8080/",
          "height": 204
        },
        "outputId": "91541dd3-5db4-4170-bd9b-fc2ae6c7a076"
      },
      "source": [
        "df.head()"
      ],
      "execution_count": null,
      "outputs": [
        {
          "output_type": "execute_result",
          "data": {
            "text/html": [
              "<div>\n",
              "<style scoped>\n",
              "    .dataframe tbody tr th:only-of-type {\n",
              "        vertical-align: middle;\n",
              "    }\n",
              "\n",
              "    .dataframe tbody tr th {\n",
              "        vertical-align: top;\n",
              "    }\n",
              "\n",
              "    .dataframe thead th {\n",
              "        text-align: right;\n",
              "    }\n",
              "</style>\n",
              "<table border=\"1\" class=\"dataframe\">\n",
              "  <thead>\n",
              "    <tr style=\"text-align: right;\">\n",
              "      <th></th>\n",
              "      <th>wage_per_hour</th>\n",
              "      <th>union</th>\n",
              "      <th>education_yrs</th>\n",
              "      <th>experience_yrs</th>\n",
              "      <th>age</th>\n",
              "      <th>female</th>\n",
              "      <th>marr</th>\n",
              "      <th>south</th>\n",
              "      <th>manufacturing</th>\n",
              "      <th>construction</th>\n",
              "    </tr>\n",
              "  </thead>\n",
              "  <tbody>\n",
              "    <tr>\n",
              "      <th>0</th>\n",
              "      <td>5.10</td>\n",
              "      <td>0</td>\n",
              "      <td>8</td>\n",
              "      <td>21</td>\n",
              "      <td>35</td>\n",
              "      <td>1</td>\n",
              "      <td>1</td>\n",
              "      <td>0</td>\n",
              "      <td>1</td>\n",
              "      <td>0</td>\n",
              "    </tr>\n",
              "    <tr>\n",
              "      <th>1</th>\n",
              "      <td>4.95</td>\n",
              "      <td>0</td>\n",
              "      <td>9</td>\n",
              "      <td>42</td>\n",
              "      <td>57</td>\n",
              "      <td>1</td>\n",
              "      <td>1</td>\n",
              "      <td>0</td>\n",
              "      <td>1</td>\n",
              "      <td>0</td>\n",
              "    </tr>\n",
              "    <tr>\n",
              "      <th>2</th>\n",
              "      <td>6.67</td>\n",
              "      <td>0</td>\n",
              "      <td>12</td>\n",
              "      <td>1</td>\n",
              "      <td>19</td>\n",
              "      <td>0</td>\n",
              "      <td>0</td>\n",
              "      <td>0</td>\n",
              "      <td>1</td>\n",
              "      <td>0</td>\n",
              "    </tr>\n",
              "    <tr>\n",
              "      <th>3</th>\n",
              "      <td>4.00</td>\n",
              "      <td>0</td>\n",
              "      <td>12</td>\n",
              "      <td>4</td>\n",
              "      <td>22</td>\n",
              "      <td>0</td>\n",
              "      <td>0</td>\n",
              "      <td>0</td>\n",
              "      <td>0</td>\n",
              "      <td>0</td>\n",
              "    </tr>\n",
              "    <tr>\n",
              "      <th>4</th>\n",
              "      <td>7.50</td>\n",
              "      <td>0</td>\n",
              "      <td>12</td>\n",
              "      <td>17</td>\n",
              "      <td>35</td>\n",
              "      <td>0</td>\n",
              "      <td>1</td>\n",
              "      <td>0</td>\n",
              "      <td>0</td>\n",
              "      <td>0</td>\n",
              "    </tr>\n",
              "  </tbody>\n",
              "</table>\n",
              "</div>"
            ],
            "text/plain": [
              "   wage_per_hour  union  education_yrs  ...  south  manufacturing  construction\n",
              "0           5.10      0              8  ...      0              1             0\n",
              "1           4.95      0              9  ...      0              1             0\n",
              "2           6.67      0             12  ...      0              1             0\n",
              "3           4.00      0             12  ...      0              0             0\n",
              "4           7.50      0             12  ...      0              0             0\n",
              "\n",
              "[5 rows x 10 columns]"
            ]
          },
          "metadata": {
            "tags": []
          },
          "execution_count": 8
        }
      ]
    },
    {
      "cell_type": "code",
      "metadata": {
        "id": "8JPU85Ygz7YC",
        "colab_type": "code",
        "colab": {}
      },
      "source": [
        "predictors = np.array(df.drop('wage_per_hour', axis = 1))"
      ],
      "execution_count": null,
      "outputs": []
    },
    {
      "cell_type": "code",
      "metadata": {
        "id": "m1u7c-Uo1g-b",
        "colab_type": "code",
        "colab": {}
      },
      "source": [
        "target = np.array(df['wage_per_hour'])"
      ],
      "execution_count": null,
      "outputs": []
    },
    {
      "cell_type": "code",
      "metadata": {
        "id": "J9vl-Qd80YBJ",
        "colab_type": "code",
        "colab": {}
      },
      "source": [
        "# Import necessary modules\n",
        "import keras\n",
        "from keras.layers import Dense\n",
        "from keras.models import Sequential\n",
        "\n",
        "# Save the number of columns in predictors: n_cols\n",
        "n_cols = predictors.shape[1]\n",
        "\n",
        "# Set up the model: model\n",
        "model = Sequential()\n",
        "\n",
        "# Add the first layer\n",
        "model.add(Dense(50, activation='relu', input_shape=(n_cols,)))\n",
        "\n",
        "# Add the second layer\n",
        "model.add(Dense(32, activation='relu'))\n",
        "\n",
        "# Add the output layer\n",
        "model.add(Dense(1))\n"
      ],
      "execution_count": null,
      "outputs": []
    },
    {
      "cell_type": "code",
      "metadata": {
        "id": "anTql1cv1GDG",
        "colab_type": "code",
        "colab": {
          "base_uri": "https://localhost:8080/",
          "height": 34
        },
        "outputId": "17f4b9d8-f5b8-4b11-a729-c0d8da07ce19"
      },
      "source": [
        "# Compile the model\n",
        "model.compile(optimizer='adam', loss='mean_squared_error')\n",
        "\n",
        "# Verify that model contains information from compiling\n",
        "print(\"Loss function: \" + model.loss)"
      ],
      "execution_count": null,
      "outputs": [
        {
          "output_type": "stream",
          "text": [
            "Loss function: mean_squared_error\n"
          ],
          "name": "stdout"
        }
      ]
    },
    {
      "cell_type": "code",
      "metadata": {
        "id": "PJYnsFfJ1WhD",
        "colab_type": "code",
        "colab": {
          "base_uri": "https://localhost:8080/",
          "height": 68
        },
        "outputId": "1f573746-a2c6-4915-fc78-184312ba0804"
      },
      "source": [
        "# Fit the model\n",
        "model.fit(predictors, target)"
      ],
      "execution_count": null,
      "outputs": [
        {
          "output_type": "stream",
          "text": [
            "Epoch 1/1\n",
            "534/534 [==============================] - 0s 653us/step - loss: 41.6335\n"
          ],
          "name": "stdout"
        },
        {
          "output_type": "execute_result",
          "data": {
            "text/plain": [
              "<keras.callbacks.callbacks.History at 0x7f7e837426a0>"
            ]
          },
          "metadata": {
            "tags": []
          },
          "execution_count": 26
        }
      ]
    },
    {
      "cell_type": "markdown",
      "metadata": {
        "id": "QZ25Qomq3boi",
        "colab_type": "text"
      },
      "source": [
        "**Keras Model on the Titanic Dataset**"
      ]
    },
    {
      "cell_type": "code",
      "metadata": {
        "id": "PRa6OJOx3kXO",
        "colab_type": "code",
        "colab": {
          "base_uri": "https://localhost:8080/",
          "height": 204
        },
        "outputId": "27322e0f-bd8d-4bb4-da4d-0f046e76d3ad"
      },
      "source": [
        "!wget https://assets.datacamp.com/production/repositories/654/datasets/92b75b9bc0c0a8a30999d76f4a1ee786ef072a9c/titanic_all_numeric.csv"
      ],
      "execution_count": null,
      "outputs": [
        {
          "output_type": "stream",
          "text": [
            "--2020-05-22 19:31:18--  https://assets.datacamp.com/production/repositories/654/datasets/92b75b9bc0c0a8a30999d76f4a1ee786ef072a9c/titanic_all_numeric.csv\n",
            "Resolving assets.datacamp.com (assets.datacamp.com)... 13.226.45.22, 13.226.45.82, 13.226.45.81, ...\n",
            "Connecting to assets.datacamp.com (assets.datacamp.com)|13.226.45.22|:443... connected.\n",
            "HTTP request sent, awaiting response... 200 OK\n",
            "Length: 31708 (31K)\n",
            "Saving to: ‘titanic_all_numeric.csv’\n",
            "\n",
            "\rtitanic_all_numeric   0%[                    ]       0  --.-KB/s               \rtitanic_all_numeric 100%[===================>]  30.96K  --.-KB/s    in 0.01s   \n",
            "\n",
            "2020-05-22 19:31:19 (2.88 MB/s) - ‘titanic_all_numeric.csv’ saved [31708/31708]\n",
            "\n"
          ],
          "name": "stdout"
        }
      ]
    },
    {
      "cell_type": "code",
      "metadata": {
        "id": "pG6-RTvD3mEn",
        "colab_type": "code",
        "colab": {}
      },
      "source": [
        "df = pd.read_csv('titanic_all_numeric.csv')"
      ],
      "execution_count": null,
      "outputs": []
    },
    {
      "cell_type": "code",
      "metadata": {
        "id": "AVzegXU13pqh",
        "colab_type": "code",
        "colab": {
          "base_uri": "https://localhost:8080/",
          "height": 204
        },
        "outputId": "5ec20018-26fb-48e9-8037-322c7c44c020"
      },
      "source": [
        "df.head()"
      ],
      "execution_count": null,
      "outputs": [
        {
          "output_type": "execute_result",
          "data": {
            "text/html": [
              "<div>\n",
              "<style scoped>\n",
              "    .dataframe tbody tr th:only-of-type {\n",
              "        vertical-align: middle;\n",
              "    }\n",
              "\n",
              "    .dataframe tbody tr th {\n",
              "        vertical-align: top;\n",
              "    }\n",
              "\n",
              "    .dataframe thead th {\n",
              "        text-align: right;\n",
              "    }\n",
              "</style>\n",
              "<table border=\"1\" class=\"dataframe\">\n",
              "  <thead>\n",
              "    <tr style=\"text-align: right;\">\n",
              "      <th></th>\n",
              "      <th>survived</th>\n",
              "      <th>pclass</th>\n",
              "      <th>age</th>\n",
              "      <th>sibsp</th>\n",
              "      <th>parch</th>\n",
              "      <th>fare</th>\n",
              "      <th>male</th>\n",
              "      <th>age_was_missing</th>\n",
              "      <th>embarked_from_cherbourg</th>\n",
              "      <th>embarked_from_queenstown</th>\n",
              "      <th>embarked_from_southampton</th>\n",
              "    </tr>\n",
              "  </thead>\n",
              "  <tbody>\n",
              "    <tr>\n",
              "      <th>0</th>\n",
              "      <td>0</td>\n",
              "      <td>3</td>\n",
              "      <td>22.0</td>\n",
              "      <td>1</td>\n",
              "      <td>0</td>\n",
              "      <td>7.2500</td>\n",
              "      <td>1</td>\n",
              "      <td>False</td>\n",
              "      <td>0</td>\n",
              "      <td>0</td>\n",
              "      <td>1</td>\n",
              "    </tr>\n",
              "    <tr>\n",
              "      <th>1</th>\n",
              "      <td>1</td>\n",
              "      <td>1</td>\n",
              "      <td>38.0</td>\n",
              "      <td>1</td>\n",
              "      <td>0</td>\n",
              "      <td>71.2833</td>\n",
              "      <td>0</td>\n",
              "      <td>False</td>\n",
              "      <td>1</td>\n",
              "      <td>0</td>\n",
              "      <td>0</td>\n",
              "    </tr>\n",
              "    <tr>\n",
              "      <th>2</th>\n",
              "      <td>1</td>\n",
              "      <td>3</td>\n",
              "      <td>26.0</td>\n",
              "      <td>0</td>\n",
              "      <td>0</td>\n",
              "      <td>7.9250</td>\n",
              "      <td>0</td>\n",
              "      <td>False</td>\n",
              "      <td>0</td>\n",
              "      <td>0</td>\n",
              "      <td>1</td>\n",
              "    </tr>\n",
              "    <tr>\n",
              "      <th>3</th>\n",
              "      <td>1</td>\n",
              "      <td>1</td>\n",
              "      <td>35.0</td>\n",
              "      <td>1</td>\n",
              "      <td>0</td>\n",
              "      <td>53.1000</td>\n",
              "      <td>0</td>\n",
              "      <td>False</td>\n",
              "      <td>0</td>\n",
              "      <td>0</td>\n",
              "      <td>1</td>\n",
              "    </tr>\n",
              "    <tr>\n",
              "      <th>4</th>\n",
              "      <td>0</td>\n",
              "      <td>3</td>\n",
              "      <td>35.0</td>\n",
              "      <td>0</td>\n",
              "      <td>0</td>\n",
              "      <td>8.0500</td>\n",
              "      <td>1</td>\n",
              "      <td>False</td>\n",
              "      <td>0</td>\n",
              "      <td>0</td>\n",
              "      <td>1</td>\n",
              "    </tr>\n",
              "  </tbody>\n",
              "</table>\n",
              "</div>"
            ],
            "text/plain": [
              "   survived  pclass  ...  embarked_from_queenstown  embarked_from_southampton\n",
              "0         0       3  ...                         0                          1\n",
              "1         1       1  ...                         0                          0\n",
              "2         1       3  ...                         0                          1\n",
              "3         1       1  ...                         0                          1\n",
              "4         0       3  ...                         0                          1\n",
              "\n",
              "[5 rows x 11 columns]"
            ]
          },
          "metadata": {
            "tags": []
          },
          "execution_count": 29
        }
      ]
    },
    {
      "cell_type": "code",
      "metadata": {
        "id": "GBo8OHGl3rtG",
        "colab_type": "code",
        "colab": {}
      },
      "source": [
        "predictors = np.array(df.drop('survived', axis = 1))"
      ],
      "execution_count": null,
      "outputs": []
    },
    {
      "cell_type": "code",
      "metadata": {
        "id": "vpZWm_p43fQJ",
        "colab_type": "code",
        "colab": {
          "base_uri": "https://localhost:8080/",
          "height": 68
        },
        "outputId": "e156ece6-cdf5-4ed3-fb8e-6e8c66a73dc7"
      },
      "source": [
        "# Import necessary modules\n",
        "import keras\n",
        "from keras.layers import Dense\n",
        "from keras.models import Sequential\n",
        "from keras.utils import to_categorical\n",
        "\n",
        "\n",
        "# Save the number of columns in predictors: n_cols\n",
        "n_cols = predictors.shape[1]\n",
        "# Convert the target to categorical: target\n",
        "target = to_categorical(df.survived)\n",
        "\n",
        "# Set up the model\n",
        "model = Sequential()\n",
        "\n",
        "# Add the first layer\n",
        "model.add(Dense(32, activation='relu', input_shape=(n_cols,)))\n",
        "\n",
        "# Add the output layer\n",
        "model.add(Dense(2, activation='softmax'))\n",
        "\n",
        "# Compile the model\n",
        "model.compile(optimizer='sgd', \n",
        "              loss='categorical_crossentropy', \n",
        "              metrics=['accuracy'])\n",
        "\n",
        "# Fit the model\n",
        "model.fit(predictors, target)\n"
      ],
      "execution_count": null,
      "outputs": [
        {
          "output_type": "stream",
          "text": [
            "Epoch 1/1\n",
            "891/891 [==============================] - 0s 100us/step - loss: 2.7586 - accuracy: 0.5724\n"
          ],
          "name": "stdout"
        },
        {
          "output_type": "execute_result",
          "data": {
            "text/plain": [
              "<keras.callbacks.callbacks.History at 0x7f7e7c2dd390>"
            ]
          },
          "metadata": {
            "tags": []
          },
          "execution_count": 32
        }
      ]
    },
    {
      "cell_type": "markdown",
      "metadata": {
        "id": "wfMLE_u24I8a",
        "colab_type": "text"
      },
      "source": [
        "**Using a Keras Model**\n",
        "\n",
        "The following are the steps for using a keras model:\n",
        "\n",
        "1. Save\n",
        "2. Reload\n",
        "3. Make predictions"
      ]
    },
    {
      "cell_type": "code",
      "metadata": {
        "id": "lkpExUMk45Fa",
        "colab_type": "code",
        "colab": {}
      },
      "source": [
        "pred_data = predictors"
      ],
      "execution_count": null,
      "outputs": []
    },
    {
      "cell_type": "code",
      "metadata": {
        "id": "-DTOI_hd4k6v",
        "colab_type": "code",
        "colab": {
          "base_uri": "https://localhost:8080/",
          "height": 1000
        },
        "outputId": "4f3fcd3e-6e8d-4b66-c6d7-c4bec7bb4323"
      },
      "source": [
        "# Specify, compile, and fit the model\n",
        "model = Sequential()\n",
        "model.add(Dense(32, activation='relu', input_shape = (n_cols,)))\n",
        "model.add(Dense(2, activation='softmax'))\n",
        "model.compile(optimizer='sgd', \n",
        "              loss='categorical_crossentropy', \n",
        "              metrics=['accuracy'])\n",
        "model.fit(predictors, target)\n",
        "\n",
        "# Calculate predictions: predictions\n",
        "predictions = model.predict(pred_data)\n",
        "\n",
        "# Calculate predicted probability of survival: predicted_prob_true\n",
        "predicted_prob_true = predictions[:,1]\n",
        "\n",
        "# print predicted_prob_true\n",
        "print(predicted_prob_true)\n"
      ],
      "execution_count": null,
      "outputs": [
        {
          "output_type": "stream",
          "text": [
            "Epoch 1/1\n",
            "891/891 [==============================] - 0s 72us/step - loss: 3.7422 - accuracy: 0.5971\n",
            "[0.29391563 0.9962121  0.27146146 0.9753387  0.14743252 0.22482987\n",
            " 0.8502725  0.75756526 0.292953   0.91919595 0.6824189  0.24736069\n",
            " 0.35806447 0.44385898 0.51422465 0.09805807 0.8696159  0.3546667\n",
            " 0.4508396  0.20488498 0.5961929  0.2633511  0.48408753 0.8928483\n",
            " 0.7223421  0.47579917 0.19398728 1.         0.2255491  0.223955\n",
            " 0.47897246 0.9999877  0.22305898 0.01259187 0.9990282  0.93862\n",
            " 0.19405992 0.33644965 0.6853699  0.54724395 0.11088112 0.6031587\n",
            " 0.20586985 0.96276677 0.3809971  0.22669534 0.3993511  0.22305898\n",
            " 0.5148897  0.6992566  0.90908074 0.32874864 0.99465865 0.69562125\n",
            " 0.83405346 0.88182765 0.44411755 0.19440052 0.8286506  0.9002041\n",
            " 0.27995405 0.9988373  0.9987404  0.7941647  0.6937253  0.33285502\n",
            " 0.2934371  0.38745016 0.3363765  0.25982198 0.22955933 0.92805845\n",
            " 0.9974726  0.38830274 0.9893958  0.26526684 0.223955   0.22669534\n",
            " 0.9033939  0.32704473 0.34757861 0.24701436 0.22377951 0.9759157\n",
            " 0.53109264 0.3299384  0.8757853  0.22669534 1.         0.28761387\n",
            " 0.22059074 0.35032612 0.9730722  0.53232855 0.01053202 0.22669542\n",
            " 0.20246212 0.99459594 0.49776074 0.5946935  0.24373999 0.223955\n",
            " 0.9974354  0.18468952 0.08850239 0.2302532  0.3430447  0.22182451\n",
            " 0.10738014 0.64136094 0.9099201  0.6318093  0.31831273 0.42912653\n",
            " 0.59753907 0.33258796 0.00382514 0.5550337  1.         0.8870508\n",
            " 0.99665064 0.22669534 0.68234587 0.3054731  0.99254084 0.57819307\n",
            " 0.2114514  0.26904416 0.5219326  0.04254072 0.15735516 0.3263736\n",
            " 0.13707067 0.69562125 0.42920846 0.47628465 0.7873348  0.9697215\n",
            " 0.5081961  0.9986091  0.32065362 0.32777667 0.5324093  0.32570532\n",
            " 0.5307968  0.9404211  0.24121733 0.8468086  0.4810166  0.15770032\n",
            " 0.08602158 0.99642986 0.0188101  0.1719282  0.21368065 0.93742996\n",
            " 0.44797108 0.20861864 0.23781337 0.9898694  0.17036414 0.25537303\n",
            " 0.2540572  0.46085903 0.95726186 0.74818873 0.98755497 0.31726116\n",
            " 0.6940755  0.99180496 0.3317262  0.8359949  0.61291546 0.33258796\n",
            " 0.30346483 0.35309124 0.60825586 0.3552009  0.3320117  0.01806807\n",
            " 0.98994654 0.37190798 0.76578414 0.967357   0.7637746  0.98264897\n",
            " 0.41104126 0.41500813 0.18960096 0.12974682 0.3141584  0.5530432\n",
            " 0.37687775 0.8470367  0.41758457 0.99999785 0.21145156 0.07906622\n",
            " 0.22305898 0.45821077 0.2604646  0.9898694  0.11293535 0.04321452\n",
            " 0.40860495 0.6081692  0.36311847 0.5340513  0.44868475 0.5721663\n",
            " 0.26721218 0.46306685 0.3001968  0.3320117  0.20517346 0.9998913\n",
            " 0.2576412  0.46083194 0.99880576 0.25998595 0.46115428 0.38858396\n",
            " 0.03013237 0.2239549  0.9996165  0.36050075 0.47961673 0.32304928\n",
            " 0.57317406 0.6163121  0.99936694 0.21581449 0.05512408 0.8414829\n",
            " 0.365456   0.23000154 0.4048764  0.81631446 0.47961673 0.2598293\n",
            " 0.35506833 0.41104126 0.27614558 0.29753003 0.17767163 0.9993926\n",
            " 0.2826313  0.42035285 0.9587176  0.26575485 0.21251981 0.2598363\n",
            " 0.17999375 0.40936998 0.29901552 0.3160529  0.9992933  0.9995105\n",
            " 1.         0.32027233 0.21145156 0.853256   0.995106   0.01391997\n",
            " 0.22305898 0.18187442 0.9271155  0.26189834 0.9999988  0.99998343\n",
            " 0.80170935 0.05568863 0.31108972 0.55383664 0.22305898 0.9822776\n",
            " 0.05153795 0.04617511 0.77302384 0.39862704 0.00688008 0.2295035\n",
            " 0.5172828  0.3830187  0.69589293 0.16894652 0.23403887 0.31418827\n",
            " 0.15770032 0.31896016 0.9989279  0.99890864 0.20622998 0.32511458\n",
            " 0.2844078  0.6937253  0.2583119  0.9999999  0.7928555  1.\n",
            " 0.22305898 0.5881671  0.10058419 0.33964857 0.22669534 0.9999999\n",
            " 0.9999063  0.9998472  0.56836855 0.98984295 0.9989711  1.\n",
            " 0.71107876 0.2302532  0.39164132 0.2700383  0.7748189  0.08119886\n",
            " 0.9999956  0.99998    0.3001968  0.24308549 0.3179408  0.8235034\n",
            " 0.9898694  0.9999838  0.00651754 0.2481558  0.47999606 0.98775303\n",
            " 0.59636235 0.4463798  0.99999356 0.7126523  0.9999746  0.223955\n",
            " 0.9969169  0.9999883  0.05583999 0.6463066  0.8636528  1.\n",
            " 0.3694667  0.42920846 0.23265438 0.45821077 0.19185618 0.43637973\n",
            " 0.6545441  0.08762653 0.33607054 0.87409705 0.37310284 0.55896294\n",
            " 0.19398728 0.2604646  0.9914163  0.2187044  0.2255491  0.2255491\n",
            " 0.37244532 0.68619096 0.13740045 0.11702166 0.3993511  0.19290116\n",
            " 0.97671515 0.20496103 0.22305898 0.9976138  0.99073374 0.33870998\n",
            " 0.3830187  0.99997914 0.76543814 0.9993819  0.31609806 1.\n",
            " 0.22861125 0.37185398 1.         0.6739562  0.18396842 0.9712172\n",
            " 0.223955   0.99679035 0.9719353  0.2481558  0.21106756 0.5178691\n",
            " 0.99990845 0.32862002 0.20319751 0.9997942  0.49305248 0.3119987\n",
            " 0.2005748  0.39129293 0.38476324 0.3771455  0.09820687 0.25939965\n",
            " 0.4031312  0.44238907 0.39897    0.45309785 0.02788516 0.7239298\n",
            " 0.3279835  0.6163121  0.223955   0.19545054 0.9996401  0.04617511\n",
            " 0.05987415 0.2399567  0.72888136 0.4964779  0.3320117  0.8100533\n",
            " 0.20586985 0.31975687 0.21754263 0.37966993 0.7134114  0.21251981\n",
            " 0.7126667  0.85484433 0.21145156 0.18605629 0.72531825 0.43637973\n",
            " 0.4451903  0.39590833 0.91823244 0.99995005 0.8727059  0.45131338\n",
            " 1.         0.24445239 0.37656525 0.4174538  0.26189834 0.3879823\n",
            " 0.22781299 0.99953485 0.77649754 0.61773974 0.6879374  0.3949621\n",
            " 0.519224   0.5396194  0.6764627  0.99896    0.22669534 0.20028466\n",
            " 0.14677778 0.9844155  0.0659734  0.21145156 0.3740454  0.161435\n",
            " 0.6861336  0.10893074 0.22669534 0.08763812 0.04617511 0.26328397\n",
            " 0.2109899  0.7923976  0.21251981 0.12855488 0.5881652  0.44823822\n",
            " 0.3963318  0.9863979  0.45309785 0.17610322 0.30602053 0.65985423\n",
            " 0.9219464  0.04617511 0.03343105 0.0126809  0.99928135 0.6163121\n",
            " 0.9996731  0.26401186 0.20861864 0.7274007  0.5396194  0.31533033\n",
            " 0.3547781  0.46728903 0.33644965 0.35042435 0.99237293 0.419012\n",
            " 0.99999154 0.28234047 0.46085903 0.337638   0.22074854 0.16740017\n",
            " 0.99878794 0.9997912  0.5607977  0.7090323  0.6501343  0.992304\n",
            " 0.2057538  0.22669542 0.5710858  0.9097696  0.27619264 0.5671112\n",
            " 0.2163593  0.65371305 0.5630778  0.18348329 0.99968016 0.31418827\n",
            " 0.19398728 0.9529133  0.19405992 0.08757924 0.0659734  1.\n",
            " 0.09820687 0.3513609  0.88326705 0.19405992 0.33424515 0.5011076\n",
            " 0.23213162 0.80403435 0.41500813 0.999845   0.39775196 0.9771259\n",
            " 0.995654   0.7739283  0.7893366  0.63345754 0.9998672  0.14792587\n",
            " 0.8353355  0.3450253  0.43102482 0.90429485 0.9997857  0.7396855\n",
            " 0.21291806 0.27986047 0.32854167 0.17999375 0.6375971  1.\n",
            " 0.9983677  0.3532197  0.21145156 0.0884774  0.38486168 0.22669534\n",
            " 0.23995686 0.72244424 0.37674227 0.4305265  0.19405992 0.18279386\n",
            " 0.01921123 0.8365222  0.5738832  0.22305898 0.46115422 0.6059285\n",
            " 0.28015116 0.9738481  0.355161   0.18396842 0.80541825 0.9999088\n",
            " 0.28038558 0.8376121  0.22105396 0.9963534  0.13919222 0.98345727\n",
            " 0.31831273 0.22669534 0.11909922 0.99394363 0.03713912 0.19871968\n",
            " 0.5344171  0.47282597 0.8462931  0.00459237 0.19398728 0.9160739\n",
            " 0.74652636 0.223955   0.95283633 0.06177387 0.5476537  0.28371084\n",
            " 0.20603845 0.81973493 0.9342298  0.9999962  0.45225137 0.2088357\n",
            " 0.41104126 0.21145156 0.14743252 0.99320227 0.25930023 0.4986798\n",
            " 0.95308703 0.3281596  0.36878452 0.94307023 0.5081251  0.33041063\n",
            " 0.6125489  0.3110789  0.05295661 0.99831367 0.2563952  0.21114323\n",
            " 0.07402734 0.02328231 0.70852804 0.05016333 0.7605844  0.3879823\n",
            " 0.18396842 0.6191818  0.66695917 0.42966864 0.35032612 0.9976138\n",
            " 0.85776246 0.9921669  0.7923976  0.9953408  0.37674227 0.39053574\n",
            " 0.21789561 0.30740812 0.223955   0.7827861  0.3487439  0.22458315\n",
            " 0.36183104 0.99736243 0.223955   0.3265115  0.47143605 0.9998287\n",
            " 0.999992   0.07534834 0.3693535  0.118196   0.3406749  0.99811125\n",
            " 0.42920846 0.22182451 0.06829239 0.9846742  0.775731   0.9808785\n",
            " 0.00823414 0.3140006  0.04617511 0.39717454 0.28039086 0.49218217\n",
            " 0.74469054 1.         0.23058611 0.99872786 0.40594587 0.91575253\n",
            " 0.40397093 0.9171855  0.9173489  0.47245055 0.39803532 1.\n",
            " 0.9896024  0.6356904  0.9921669  0.23770593 0.20523088 0.08826646\n",
            " 0.06177387 0.22273836 0.9999064  0.0683476  1.         0.59100467\n",
            " 0.53592825 0.25767133 0.2499073  0.5155626  0.1464063  0.451953\n",
            " 0.99999666 0.33285502 0.98456556 0.7090323  0.895338   0.24669848\n",
            " 0.08425485 0.3668232  1.         0.32871783 0.41378847 0.16610831\n",
            " 0.90809643 0.37488928 0.2633511  0.09588551 0.98790747 0.38273802\n",
            " 0.499251   0.22281902 0.7539793  0.27963844 1.         0.8013319\n",
            " 0.04617511 0.47143605 0.47143608 0.4593666  0.44252592 1.\n",
            " 0.223955   0.223955   0.7833112  0.99888617 1.         0.53107494\n",
            " 0.19512539 0.91337085 0.74431086 0.35017362 0.9891216  0.18280262\n",
            " 0.8093147  0.6620565  0.1980098  0.2990855  0.9677454  0.69826424\n",
            " 0.2284538  0.5307968  0.161435   0.9995958  0.39775196 0.06631382\n",
            " 0.31046906 0.99991393 0.44937086 0.9955401  0.9141703  0.19900653\n",
            " 0.6335178  0.1909967  0.32627714 0.03909893 0.03225491 0.19398728\n",
            " 0.14997983 0.39614072 0.21145156 0.7262085  0.21122062 0.9999999\n",
            " 0.4582511  0.9905151  0.78305155 0.5533359  0.25353277 0.2574057\n",
            " 0.40195885 0.78278726 0.75478345 0.9975594  0.21145156 0.889203\n",
            " 0.98994654 0.75880903 0.2701728  0.1914642  0.36093968 0.22007288\n",
            " 0.17773965 0.6025654  0.2633511  0.627151   0.99996674 0.5524152\n",
            " 0.22625396 0.19264346 0.0154588  0.4136085  0.1914642  0.98034805\n",
            " 0.25623396 0.47630832 0.19268574 0.8210215  0.20281455 0.05016333\n",
            " 0.31559628 0.8136831  0.04569827 0.7664095  0.9991399  0.2577346\n",
            " 0.01716482 0.35297066 0.95141166 0.19705297 0.9921669  0.95710915\n",
            " 0.21145156 0.98719573 0.62210566 0.77829057 0.19405992 0.29819843\n",
            " 0.41908303 0.9987398  0.35779154 0.22669534 0.9893958  0.73841965\n",
            " 0.35311544 0.54174453 0.75738    0.10652773 0.46085903 0.06667288\n",
            " 0.9898694  0.13885878 0.82844    0.9995944  0.83401465 0.0024421\n",
            " 0.7038287  0.9651609  0.4171407  0.4343792  0.999998   0.33481252\n",
            " 0.47160643 0.19405992 0.17177314 0.44461223 0.37423602 0.98994654\n",
            " 0.4511021  0.16786411 0.3708848  0.9796587  0.25361243 0.5732525\n",
            " 0.2563952  0.89489824 0.09817579 0.05788706 0.61604923 0.41835055\n",
            " 0.4320518  0.37674227 0.223955   0.9947738  0.7446976  0.17060797\n",
            " 0.42472237 0.29291213 0.25353277 0.39198732 0.38858396 0.9114028\n",
            " 0.5617075  0.78959197 0.1720946 ]\n"
          ],
          "name": "stdout"
        }
      ]
    }
  ]
}