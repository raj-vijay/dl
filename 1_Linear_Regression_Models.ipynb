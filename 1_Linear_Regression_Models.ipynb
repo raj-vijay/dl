{
  "nbformat": 4,
  "nbformat_minor": 0,
  "metadata": {
    "colab": {
      "name": "1. Linear Regression Models.ipynb",
      "provenance": [],
      "toc_visible": true,
      "authorship_tag": "ABX9TyNVDiTdZROsF+nc5BSP8kBT",
      "include_colab_link": true
    },
    "kernelspec": {
      "name": "python3",
      "display_name": "Python 3"
    }
  },
  "cells": [
    {
      "cell_type": "markdown",
      "metadata": {
        "id": "view-in-github",
        "colab_type": "text"
      },
      "source": [
        "<a href=\"https://colab.research.google.com/github/raj-vijay/dl/blob/master/1_Linear_Regression_Models.ipynb\" target=\"_parent\"><img src=\"https://colab.research.google.com/assets/colab-badge.svg\" alt=\"Open In Colab\"/></a>"
      ]
    },
    {
      "cell_type": "markdown",
      "metadata": {
        "id": "P5cZVbPMvbFh",
        "colab_type": "text"
      },
      "source": [
        "**Linear Regression Models**\n",
        "\n",
        "Here we use a data file called data.xlsx.\n",
        "\n",
        "There are two columns in the dataset. The first column contains all the (input) X data and the second column contains all the output (Y) data.\n"
      ]
    },
    {
      "cell_type": "markdown",
      "metadata": {
        "id": "PSrqZHj_voh8",
        "colab_type": "text"
      },
      "source": [
        "The objective of this question is to build and assess the performance of a linear regression model for predicting the Y value by considering only the input X value. \n",
        "\n",
        "Throughout the code you should try to avoid the use of iterative ‘for loops’ and instead use NumPy as much as possible. \n",
        "\n",
        "You should only need to include a single for loop to control the number of iterations of gradient descent."
      ]
    },
    {
      "cell_type": "markdown",
      "metadata": {
        "id": "f_rO3UFWvwiR",
        "colab_type": "text"
      },
      "source": [
        "Import Python Libraries"
      ]
    },
    {
      "cell_type": "code",
      "metadata": {
        "id": "o8sIWoUEuL8U",
        "colab_type": "code",
        "colab": {}
      },
      "source": [
        "import matplotlib.pyplot as plt\n",
        "import numpy as np\n",
        "import pandas as pd"
      ],
      "execution_count": 0,
      "outputs": []
    },
    {
      "cell_type": "markdown",
      "metadata": {
        "id": "n9hL1OhuwFnE",
        "colab_type": "text"
      },
      "source": [
        "Define Function for Gradient Descent"
      ]
    },
    {
      "cell_type": "code",
      "metadata": {
        "id": "NUAsErOowKey",
        "colab_type": "code",
        "colab": {}
      },
      "source": [
        "def gradient_descent(bias, lambda1, alpha, X, Y, max_iter):\n",
        "\n",
        "\n",
        "    # array will track MSE for each iteration of GD\n",
        "    errorValues = []\n",
        "    length = len(Y)\n",
        "\n",
        "    \n",
        "    for num in range(0, max_iter):   \n",
        "\n",
        "        # calculate difference between predicted values and actual y values\n",
        "        predictionError = ((bias + lambda1*X) - Y)\n",
        "\n",
        "        # calculate the gradient for the bias and lambda\n",
        "        gradBias =    (1.0/(2*length))*  (np.sum((predictionError)))\n",
        "        gradLambda = (1.0/(2*length))*  (np.sum((predictionError*X)))\n",
        "\n",
        "        # gradient descent rule to calculate new values for parameters\n",
        "        bias = bias - (alpha * gradBias)\n",
        "        lambda1 = lambda1 - (alpha * gradLambda)\n",
        "    \n",
        "        \n",
        "        # calculate MSE for current values of lambda and bias\n",
        "        MSE = (np.sum((predictionError)**2))/(length)\n",
        "        errorValues.append(MSE)\n",
        "        \n",
        "\n",
        "    # plot improvement in MSE values \n",
        "    plt.plot(errorValues)\n",
        "    plt.show()\n",
        "  \n",
        "    return bias,lambda1"
      ],
      "execution_count": 0,
      "outputs": []
    },
    {
      "cell_type": "markdown",
      "metadata": {
        "id": "jq_fSaTCwM6V",
        "colab_type": "text"
      },
      "source": [
        "Define Function for Linear Regression"
      ]
    },
    {
      "cell_type": "code",
      "metadata": {
        "id": "EJ3zIdFVwUcW",
        "colab_type": "code",
        "colab": {}
      },
      "source": [
        "def linearRegression(X, Y):\n",
        "    \n",
        "    # set initial parameters for model\n",
        "    bias = 0\n",
        "    lambda1 = 0\n",
        "    \n",
        "    alpha = 0.1 # learning rate\n",
        "    max_iter=500\n",
        "\n",
        "    # call gredient decent to calculate intercept(=bias) and slope(lambda1)\n",
        "    bias, lambda1 = gradient_descent(bias, lambda1, alpha, X, Y, max_iter)\n",
        "    print ('Final bias and  lambda1 values are = ', bias, lambda1, \" respecively.\" )\n",
        "    \n",
        "    # plot the data and overlay the linear regression model\n",
        "    yPredictions = (lambda1*X)+bias\n",
        "    plt.scatter(X, Y)\n",
        "    plt.plot(X,yPredictions,'k-')\n",
        "    plt.show()"
      ],
      "execution_count": 0,
      "outputs": []
    },
    {
      "cell_type": "markdown",
      "metadata": {
        "id": "M2GE3yE4wYa3",
        "colab_type": "text"
      },
      "source": [
        "Load data.xlsx from github"
      ]
    },
    {
      "cell_type": "code",
      "metadata": {
        "id": "BHqIz0J3wdjl",
        "colab_type": "code",
        "colab": {
          "base_uri": "https://localhost:8080/",
          "height": 289
        },
        "outputId": "ab9ab858-3113-41c2-f914-8bfd347d91af"
      },
      "source": [
        "!wget https://github.com/raj-vijay/dl/raw/master/data/data.xlsx"
      ],
      "execution_count": 14,
      "outputs": [
        {
          "output_type": "stream",
          "text": [
            "--2020-03-03 14:22:15--  https://github.com/raj-vijay/dl/raw/master/data/data.xlsx\n",
            "Resolving github.com (github.com)... 140.82.114.3\n",
            "Connecting to github.com (github.com)|140.82.114.3|:443... connected.\n",
            "HTTP request sent, awaiting response... 302 Found\n",
            "Location: https://raw.githubusercontent.com/raj-vijay/dl/master/data/data.xlsx [following]\n",
            "--2020-03-03 14:22:16--  https://raw.githubusercontent.com/raj-vijay/dl/master/data/data.xlsx\n",
            "Resolving raw.githubusercontent.com (raw.githubusercontent.com)... 151.101.0.133, 151.101.64.133, 151.101.128.133, ...\n",
            "Connecting to raw.githubusercontent.com (raw.githubusercontent.com)|151.101.0.133|:443... connected.\n",
            "HTTP request sent, awaiting response... 200 OK\n",
            "Length: 24401 (24K) [application/octet-stream]\n",
            "Saving to: ‘data.xlsx’\n",
            "\n",
            "\rdata.xlsx             0%[                    ]       0  --.-KB/s               \rdata.xlsx           100%[===================>]  23.83K  --.-KB/s    in 0.01s   \n",
            "\n",
            "2020-03-03 14:22:16 (1.92 MB/s) - ‘data.xlsx’ saved [24401/24401]\n",
            "\n"
          ],
          "name": "stdout"
        }
      ]
    },
    {
      "cell_type": "code",
      "metadata": {
        "id": "q4ksInJrw6pt",
        "colab_type": "code",
        "colab": {
          "base_uri": "https://localhost:8080/",
          "height": 204
        },
        "outputId": "985c2c49-c667-4ae1-e0dd-dca2c1f6a887"
      },
      "source": [
        "# Read data into a dataframe\n",
        "df = pd.read_excel('data.xlsx')\n",
        "df = df.dropna() \n",
        "df.head()"
      ],
      "execution_count": 17,
      "outputs": [
        {
          "output_type": "execute_result",
          "data": {
            "text/html": [
              "<div>\n",
              "<style scoped>\n",
              "    .dataframe tbody tr th:only-of-type {\n",
              "        vertical-align: middle;\n",
              "    }\n",
              "\n",
              "    .dataframe tbody tr th {\n",
              "        vertical-align: top;\n",
              "    }\n",
              "\n",
              "    .dataframe thead th {\n",
              "        text-align: right;\n",
              "    }\n",
              "</style>\n",
              "<table border=\"1\" class=\"dataframe\">\n",
              "  <thead>\n",
              "    <tr style=\"text-align: right;\">\n",
              "      <th></th>\n",
              "      <th>X</th>\n",
              "      <th>Y</th>\n",
              "    </tr>\n",
              "  </thead>\n",
              "  <tbody>\n",
              "    <tr>\n",
              "      <th>0</th>\n",
              "      <td>24.0</td>\n",
              "      <td>21.549452</td>\n",
              "    </tr>\n",
              "    <tr>\n",
              "      <th>1</th>\n",
              "      <td>50.0</td>\n",
              "      <td>47.464463</td>\n",
              "    </tr>\n",
              "    <tr>\n",
              "      <th>2</th>\n",
              "      <td>15.0</td>\n",
              "      <td>17.218656</td>\n",
              "    </tr>\n",
              "    <tr>\n",
              "      <th>3</th>\n",
              "      <td>38.0</td>\n",
              "      <td>36.586398</td>\n",
              "    </tr>\n",
              "    <tr>\n",
              "      <th>4</th>\n",
              "      <td>87.0</td>\n",
              "      <td>87.288984</td>\n",
              "    </tr>\n",
              "  </tbody>\n",
              "</table>\n",
              "</div>"
            ],
            "text/plain": [
              "      X          Y\n",
              "0  24.0  21.549452\n",
              "1  50.0  47.464463\n",
              "2  15.0  17.218656\n",
              "3  38.0  36.586398\n",
              "4  87.0  87.288984"
            ]
          },
          "metadata": {
            "tags": []
          },
          "execution_count": 17
        }
      ]
    },
    {
      "cell_type": "markdown",
      "metadata": {
        "id": "aGPfjOQNxvN_",
        "colab_type": "text"
      },
      "source": [
        "Visualize Dataset"
      ]
    },
    {
      "cell_type": "code",
      "metadata": {
        "id": "UdpQUtMyx-t5",
        "colab_type": "code",
        "colab": {}
      },
      "source": [
        "# Convert Dataframe to a NumPy array\n",
        "X = df.values"
      ],
      "execution_count": 0,
      "outputs": []
    },
    {
      "cell_type": "code",
      "metadata": {
        "id": "B-CB_h9MxyIg",
        "colab_type": "code",
        "colab": {
          "base_uri": "https://localhost:8080/",
          "height": 265
        },
        "outputId": "35a81bc2-ca5f-449d-cdd9-a92aae1bf2e3"
      },
      "source": [
        "plt.scatter(X[:,1], X[:,0])\n",
        "plt.show()"
      ],
      "execution_count": 20,
      "outputs": [
        {
          "output_type": "display_data",
          "data": {
            "image/png": "[encoded data removed]",
            "text/plain": [
              "<Figure size 432x288 with 1 Axes>"
            ]
          },
          "metadata": {
            "tags": []
          }
        }
      ]
    },
    {
      "cell_type": "markdown",
      "metadata": {
        "id": "i7VE7nyawh8f",
        "colab_type": "text"
      },
      "source": [
        "Apply Linear Regression on the Dataset"
      ]
    },
    {
      "cell_type": "code",
      "metadata": {
        "id": "7pHAagqUwpvp",
        "colab_type": "code",
        "colab": {
          "base_uri": "https://localhost:8080/",
          "height": 534
        },
        "outputId": "d1585ee7-ec29-41df-a065-553b22fe84ac"
      },
      "source": [
        "# Store feature and target data in separate arrays\n",
        "Y = df['Y'].values\n",
        "X = df['X'].values\n",
        "\n",
        "# Perform standarization on the feature data\n",
        "X = (X - np.mean(X))/np.std(X)\n",
        "\n",
        "linearRegression(X, Y)"
      ],
      "execution_count": 21,
      "outputs": [
        {
          "output_type": "display_data",
          "data": {
            "image/png": "[encoded data removed]",
            "text/plain": [
              "<Figure size 432x288 with 1 Axes>"
            ]
          },
          "metadata": {
            "tags": []
          }
        },
        {
          "output_type": "stream",
          "text": [
            "Final bias and  lambda1 values are =  49.939869170094525 28.95283303358322  respecively.\n"
          ],
          "name": "stdout"
        },
        {
          "output_type": "display_data",
          "data": {
            "image/png": "[encoded data removed]",
            "text/plain": [
              "<Figure size 432x288 with 1 Axes>"
            ]
          },
          "metadata": {
            "tags": []
          }
        }
      ]
    }
  ]
}