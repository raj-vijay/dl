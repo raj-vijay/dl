{
  "nbformat": 4,
  "nbformat_minor": 0,
  "metadata": {
    "colab": {
      "name": "10. One-Hot Encoding in Deep Learning.ipynb",
      "provenance": [],
      "collapsed_sections": [],
      "authorship_tag": "ABX9TyPWx2jsngoT+YFmaXCd3/Ws",
      "include_colab_link": true
    },
    "kernelspec": {
      "name": "python3",
      "display_name": "Python 3"
    }
  },
  "cells": [
    {
      "cell_type": "markdown",
      "metadata": {
        "id": "view-in-github",
        "colab_type": "text"
      },
      "source": [
        "<a href=\"https://colab.research.google.com/github/raj-vijay/dl/blob/master/10_One_Hot_Encoding_in_Deep_Learning.ipynb\" target=\"_parent\"><img src=\"https://colab.research.google.com/assets/colab-badge.svg\" alt=\"Open In Colab\"/></a>"
      ]
    },
    {
      "cell_type": "markdown",
      "metadata": {
        "id": "4-27nUFnSXYr",
        "colab_type": "text"
      },
      "source": [
        "**Using one-hot encoding to represent images**\n",
        "\n",
        "Neural networks expect the labels of classes in a dataset to be organized in a one-hot encoded manner: each row in the array contains zeros in all columns, except the column corresponding to a unique label, which is set to 1.\n",
        "\n",
        "The fashion dataset contains three categories:\n",
        "\n",
        "- Shirts\n",
        "- Dresses\n",
        "- Shoes\n",
        "\n",
        "In this exercise, you will create a one-hot encoding of a small sample of these labels."
      ]
    },
    {
      "cell_type": "code",
      "metadata": {
        "id": "Uui1bZz4qX5I",
        "colab_type": "code",
        "colab": {}
      },
      "source": [
        "labels = ['shoe', 'shirt', 'shoe', 'shirt', 'dress', 'dress', 'dress']"
      ],
      "execution_count": 0,
      "outputs": []
    },
    {
      "cell_type": "code",
      "metadata": {
        "id": "S5IjKBVou1sH",
        "colab_type": "code",
        "colab": {}
      },
      "source": [
        "import numpy as np"
      ],
      "execution_count": 0,
      "outputs": []
    },
    {
      "cell_type": "code",
      "metadata": {
        "id": "KdQbBnI5uxR3",
        "colab_type": "code",
        "colab": {}
      },
      "source": [
        "# The number of image categories\n",
        "n_categories = 3\n",
        "\n",
        "# The unique values of categories in the data\n",
        "categories = np.array([\"shirt\", \"dress\", \"shoe\"])\n",
        "\n",
        "# Initialize ohe_labels as all zeros\n",
        "ohe_labels = np.zeros((len(labels), n_categories))\n",
        "\n",
        "# Loop over the labels\n",
        "for ii in range(len(labels)):\n",
        "    # Find the location of this label in the categories variable\n",
        "    jj = np.where(categories == labels[ii])\n",
        "    # Set the corresponding zero to one\n",
        "    ohe_labels[ii, jj] = 1"
      ],
      "execution_count": 0,
      "outputs": []
    },
    {
      "cell_type": "code",
      "metadata": {
        "id": "uWpLewSWu8E0",
        "colab_type": "code",
        "outputId": "31cb8cb2-67da-40f6-9e74-7199d2be1da5",
        "colab": {
          "base_uri": "https://localhost:8080/",
          "height": 136
        }
      },
      "source": [
        "print(ohe_labels)"
      ],
      "execution_count": 0,
      "outputs": [
        {
          "output_type": "stream",
          "text": [
            "[[0. 0. 1.]\n",
            " [1. 0. 0.]\n",
            " [0. 0. 1.]\n",
            " [1. 0. 0.]\n",
            " [0. 1. 0.]\n",
            " [0. 1. 0.]\n",
            " [0. 1. 0.]]\n"
          ],
          "name": "stdout"
        }
      ]
    },
    {
      "cell_type": "code",
      "metadata": {
        "id": "aasqShKwRmVP",
        "colab_type": "code",
        "colab": {}
      },
      "source": [
        "predictions = np.array([[0., 0., 1.],\n",
        " [0., 1., 0.],\n",
        " [0., 0., 1.],\n",
        " [1., 0., 0.],\n",
        " [0., 0., 1.],\n",
        " [1., 0., 0.],\n",
        " [0., 0., 1.]]\n",
        " )"
      ],
      "execution_count": 0,
      "outputs": []
    },
    {
      "cell_type": "markdown",
      "metadata": {
        "id": "S0umPwPhR8aY",
        "colab_type": "text"
      },
      "source": [
        "**Evaluating a classifier**\n",
        "\n",
        "To evaluate a classifier, we need to test it on images that were not used during training. This is called \"cross-validation\": a prediction of the class (e.g., t-shirt, dress or shoe) is made from each of the test images, and these predictions are compared with the true labels of these images.\n",
        "\n",
        "The results of cross-validation are provided as one-hot encoded arrays: test_labels and predictions."
      ]
    },
    {
      "cell_type": "code",
      "metadata": {
        "id": "AT8eN5ixSBOu",
        "colab_type": "code",
        "outputId": "3016f659-9ea8-4aab-9ba0-ba991d746c6d",
        "colab": {
          "base_uri": "https://localhost:8080/",
          "height": 51
        }
      },
      "source": [
        "# Calculate the number of correct predictions\n",
        "number_correct = (ohe_labels*predictions).sum()\n",
        "print(number_correct)\n",
        "\n",
        "# Calculate the proportion of correct predictions\n",
        "proportion_correct = number_correct/len(predictions)\n",
        "print(round(proportion_correct,2))"
      ],
      "execution_count": 0,
      "outputs": [
        {
          "output_type": "stream",
          "text": [
            "3.0\n",
            "0.43\n"
          ],
          "name": "stdout"
        }
      ]
    }
  ]
}
