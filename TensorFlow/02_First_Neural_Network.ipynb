{
  "nbformat": 4,
  "nbformat_minor": 0,
  "metadata": {
    "colab": {
      "name": "02. First Neural Network.ipynb",
      "provenance": [],
      "collapsed_sections": [],
      "authorship_tag": "ABX9TyNfmqVwrPwQTDrkVEVc6NLe",
      "include_colab_link": true
    },
    "kernelspec": {
      "name": "python3",
      "display_name": "Python 3"
    }
  },
  "cells": [
    {
      "cell_type": "markdown",
      "metadata": {
        "id": "view-in-github",
        "colab_type": "text"
      },
      "source": [
        "<a href=\"https://colab.research.google.com/github/raj-vijay/dl/blob/master/02_First_Neural_Network.ipynb\" target=\"_parent\"><img src=\"https://colab.research.google.com/assets/colab-badge.svg\" alt=\"Open In Colab\"/></a>"
      ]
    },
    {
      "cell_type": "markdown",
      "metadata": {
        "id": "Z4Uyg3YOJ3AS",
        "colab_type": "text"
      },
      "source": [
        "**Build a neural network**\n",
        "\n",
        "Keras library are used to create neural networks and to train these neural networks to classify images. \n",
        "\n",
        "These models will all be of the Sequential type, meaning that the outputs of one layer are provided as inputs only to the next layer.\n",
        "\n",
        "Here, we create a neural network with Dense layers, meaning that each unit in each layer is connected to all of the units in the previous layer. \n",
        "\n",
        "For example, each unit in the first layer is connected to all of the pixels in the input images. The Dense layer object receives as arguments the number of units in that layer, and the activation function for the units. For the first layer in the network, it also receives an input_shape keyword argument."
      ]
    },
    {
      "cell_type": "code",
      "metadata": {
        "id": "QTyK-diFJtBa",
        "colab_type": "code",
        "colab": {}
      },
      "source": [
        "# Import fundamental libraries used for the tensorflow\n",
        "import tensorflow as tf\n",
        "from tensorflow import keras\n",
        "import numpy as np"
      ],
      "execution_count": 0,
      "outputs": []
    },
    {
      "cell_type": "code",
      "metadata": {
        "id": "0CD2Yc08KgPM",
        "colab_type": "code",
        "outputId": "55300b2d-b440-4c08-b2fe-87c2bb6dbcbf",
        "colab": {
          "base_uri": "https://localhost:8080/",
          "height": 153
        }
      },
      "source": [
        "# Load the Fashion MNIST Data from TensorFlow Keras\n",
        "fashion_mnist = tf.keras.datasets.fashion_mnist\n",
        "(train_images, train_labels), (test_images, test_labels) = fashion_mnist.load_data()"
      ],
      "execution_count": 0,
      "outputs": [
        {
          "output_type": "stream",
          "text": [
            "Downloading data from https://storage.googleapis.com/tensorflow/tf-keras-datasets/train-labels-idx1-ubyte.gz\n",
            "32768/29515 [=================================] - 0s 0us/step\n",
            "Downloading data from https://storage.googleapis.com/tensorflow/tf-keras-datasets/train-images-idx3-ubyte.gz\n",
            "26427392/26421880 [==============================] - 0s 0us/step\n",
            "Downloading data from https://storage.googleapis.com/tensorflow/tf-keras-datasets/t10k-labels-idx1-ubyte.gz\n",
            "8192/5148 [===============================================] - 0s 0us/step\n",
            "Downloading data from https://storage.googleapis.com/tensorflow/tf-keras-datasets/t10k-images-idx3-ubyte.gz\n",
            "4423680/4422102 [==============================] - 0s 0us/step\n"
          ],
          "name": "stdout"
        }
      ]
    },
    {
      "cell_type": "code",
      "metadata": {
        "id": "02aSFg43LVRz",
        "colab_type": "code",
        "outputId": "96fa9663-f910-4420-f009-75ca5097d503",
        "colab": {
          "base_uri": "https://localhost:8080/",
          "height": 51
        }
      },
      "source": [
        "# Shape of data\n",
        "print(\"Train Images: \", train_images.shape)\n",
        "print(\"Test Images: \", test_images.shape)"
      ],
      "execution_count": 0,
      "outputs": [
        {
          "output_type": "stream",
          "text": [
            "Train Images:  (60000, 28, 28)\n",
            "Test Images:  (10000, 28, 28)\n"
          ],
          "name": "stdout"
        }
      ]
    },
    {
      "cell_type": "code",
      "metadata": {
        "id": "b7eVD9vvKlaw",
        "colab_type": "code",
        "colab": {}
      },
      "source": [
        "# Imports components from Keras\n",
        "from keras.models import Sequential\n",
        "from keras.layers import Dense\n",
        "\n",
        "# Initializes a sequential model\n",
        "model = Sequential()\n",
        "\n",
        "# First layer\n",
        "model.add(Dense(100, activation='relu', input_shape=(784,)))\n",
        "\n",
        "# Second layer\n",
        "model.add(Dense(100, activation='relu'))\n",
        "\n",
        "# Output layer\n",
        "model.add(Dense(10, activation='softmax'))"
      ],
      "execution_count": 0,
      "outputs": []
    },
    {
      "cell_type": "markdown",
      "metadata": {
        "id": "gcmctQFhKr6O",
        "colab_type": "text"
      },
      "source": [
        "**Compile a neural network**\n",
        "\n",
        "Once we have constructed a model in Keras, the model needs to be compiled before it can be fit to data. \n",
        "\n",
        "This means that you need to specify the optimizer that will be used to fit the model and the loss function that will be used in optimization. \n",
        "\n",
        "Optionally, a list of metrics can be specified that the model will keep track of. \n",
        "\n",
        "For example, if you want to know the classification accuracy, provide the list ['accuracy'] to the metrics keyword argument."
      ]
    },
    {
      "cell_type": "code",
      "metadata": {
        "id": "nnors5MvK8xA",
        "colab_type": "code",
        "colab": {}
      },
      "source": [
        "# Compile the model\n",
        "model.compile(optimizer='adam', \n",
        "           loss='categorical_crossentropy', \n",
        "           metrics=['accuracy'])"
      ],
      "execution_count": 0,
      "outputs": []
    },
    {
      "cell_type": "markdown",
      "metadata": {
        "id": "G52wIrDQMNlj",
        "colab_type": "text"
      },
      "source": [
        "**Fitting a neural network model to clothing data**\n",
        "\n",
        "Here, we fit the fully connected neural network constructed in the previous section to image data. \n",
        "\n",
        "The training data is provided as two variables: train_data that contains the pixel data for 60000 images of the ten clothing classes and train_labels, which contains the labels for each one of these 60000 images. \n",
        "\n",
        "Transform the data into the network's expected input and then fit the model on training data and training labels.\n"
      ]
    },
    {
      "cell_type": "code",
      "metadata": {
        "id": "DWEV0vUmOd9G",
        "colab_type": "code",
        "colab": {}
      },
      "source": [
        "# Reshape the data to two-dimensional array\n",
        "train_images = train_images.reshape(train_images.shape[0], 784)\n"
      ],
      "execution_count": 0,
      "outputs": []
    },
    {
      "cell_type": "markdown",
      "metadata": {
        "id": "68UnEti8RNAe",
        "colab_type": "text"
      },
      "source": [
        "**One-Hot Encoding for Training Labels**"
      ]
    },
    {
      "cell_type": "code",
      "metadata": {
        "id": "ClgRgim4QHEm",
        "colab_type": "code",
        "colab": {}
      },
      "source": [
        "# The number of image categories\n",
        "n_categories = 10\n",
        "\n",
        "# The unique values of categories in the data\n",
        "categories = np.array([0, 1, 2, 3, 4, 5, 6, 7, 8, 9])\n",
        "\n",
        "# Initialize ohe_labels as all zeros\n",
        "ohe_labels = np.zeros((len(train_labels), n_categories))\n",
        "\n",
        "# Loop over the labels\n",
        "for ii in range(len(train_labels)):\n",
        "    # Find the location of this label in the categories variable\n",
        "    jj = np.where(categories == train_labels[ii])\n",
        "    # Set the corresponding zero to one\n",
        "    ohe_labels[ii, jj] = 1"
      ],
      "execution_count": 0,
      "outputs": []
    },
    {
      "cell_type": "code",
      "metadata": {
        "id": "Q_q7PZsmRBRX",
        "colab_type": "code",
        "outputId": "8b5ca7bc-0848-4eb8-cbaf-2c400d807dd8",
        "colab": {
          "base_uri": "https://localhost:8080/",
          "height": 136
        }
      },
      "source": [
        "print(ohe_labels)"
      ],
      "execution_count": 0,
      "outputs": [
        {
          "output_type": "stream",
          "text": [
            "[[0. 0. 0. ... 0. 0. 1.]\n",
            " [1. 0. 0. ... 0. 0. 0.]\n",
            " [1. 0. 0. ... 0. 0. 0.]\n",
            " ...\n",
            " [0. 0. 0. ... 0. 0. 0.]\n",
            " [1. 0. 0. ... 0. 0. 0.]\n",
            " [0. 0. 0. ... 0. 0. 0.]]\n"
          ],
          "name": "stdout"
        }
      ]
    },
    {
      "cell_type": "code",
      "metadata": {
        "id": "PY79apX-LB-i",
        "colab_type": "code",
        "outputId": "dd42cfe4-820b-49f4-d436-0b57979df1c3",
        "colab": {
          "base_uri": "https://localhost:8080/",
          "height": 153
        }
      },
      "source": [
        "# Fit the model\n",
        "model.fit(train_images, ohe_labels, validation_split=0.2, epochs=3)"
      ],
      "execution_count": 0,
      "outputs": [
        {
          "output_type": "stream",
          "text": [
            "Train on 48000 samples, validate on 12000 samples\n",
            "Epoch 1/3\n",
            "48000/48000 [==============================] - 4s 80us/step - loss: 2.8024 - accuracy: 0.7203 - val_loss: 0.8426 - val_accuracy: 0.7487\n",
            "Epoch 2/3\n",
            "48000/48000 [==============================] - 4s 78us/step - loss: 0.7360 - accuracy: 0.7668 - val_loss: 0.6500 - val_accuracy: 0.7877\n",
            "Epoch 3/3\n",
            "48000/48000 [==============================] - 4s 78us/step - loss: 0.6076 - accuracy: 0.7977 - val_loss: 0.5679 - val_accuracy: 0.8067\n"
          ],
          "name": "stdout"
        },
        {
          "output_type": "execute_result",
          "data": {
            "text/plain": [
              "<keras.callbacks.callbacks.History at 0x7f80a7cb0b38>"
            ]
          },
          "metadata": {
            "tags": []
          },
          "execution_count": 40
        }
      ]
    },
    {
      "cell_type": "markdown",
      "metadata": {
        "colab_type": "text",
        "id": "3-142dakRh3N"
      },
      "source": [
        "**One-Hot Encoding for Test Labels**"
      ]
    },
    {
      "cell_type": "code",
      "metadata": {
        "id": "HJDVr3pKRo_A",
        "colab_type": "code",
        "colab": {}
      },
      "source": [
        "# The number of image categories\n",
        "n_categories = 10\n",
        "\n",
        "# The unique values of categories in the data\n",
        "categories = np.array([0, 1, 2, 3, 4, 5, 6, 7, 8, 9])\n",
        "\n",
        "# Initialize ohe_labels as all zeros\n",
        "ohe_test_labels = np.zeros((len(test_labels), n_categories))\n",
        "\n",
        "# Loop over the labels\n",
        "for ii in range(len(test_labels)):\n",
        "    # Find the location of this label in the categories variable\n",
        "    jj = np.where(categories == test_labels[ii])\n",
        "    # Set the corresponding zero to one\n",
        "    ohe_test_labels[ii, jj] = 1"
      ],
      "execution_count": 0,
      "outputs": []
    },
    {
      "cell_type": "code",
      "metadata": {
        "id": "7aBSOQy5RwMK",
        "colab_type": "code",
        "outputId": "55f1925a-7ecb-47af-b591-70a73394747d",
        "colab": {
          "base_uri": "https://localhost:8080/",
          "height": 136
        }
      },
      "source": [
        "print(ohe_test_labels)"
      ],
      "execution_count": 0,
      "outputs": [
        {
          "output_type": "stream",
          "text": [
            "[[0. 0. 0. ... 0. 0. 1.]\n",
            " [0. 0. 1. ... 0. 0. 0.]\n",
            " [0. 1. 0. ... 0. 0. 0.]\n",
            " ...\n",
            " [0. 0. 0. ... 0. 1. 0.]\n",
            " [0. 1. 0. ... 0. 0. 0.]\n",
            " [0. 0. 0. ... 0. 0. 0.]]\n"
          ],
          "name": "stdout"
        }
      ]
    },
    {
      "cell_type": "markdown",
      "metadata": {
        "id": "i5Y56D94SkoP",
        "colab_type": "text"
      },
      "source": [
        "**Cross-validation for neural network evaluation**\n",
        "\n",
        "To evaluate the model, a separate test data-set is used. \n",
        "\n",
        "As in the train data, the images in the test data also need to be reshaped before they can be provided to the fully-connected network because the network expects one column per pixel in the input."
      ]
    },
    {
      "cell_type": "code",
      "metadata": {
        "id": "k-dVX9x7RUr2",
        "colab_type": "code",
        "outputId": "b94c765a-1de4-445e-897b-ca60f31fdb3d",
        "colab": {
          "base_uri": "https://localhost:8080/",
          "height": 51
        }
      },
      "source": [
        "# Reshape test data\n",
        "test_images = test_images.reshape(test_images.shape[0], 784)\n",
        "\n",
        "# Evaluate the model\n",
        "model.evaluate(test_images, ohe_test_labels)"
      ],
      "execution_count": 0,
      "outputs": [
        {
          "output_type": "stream",
          "text": [
            "10000/10000 [==============================] - 0s 25us/step\n"
          ],
          "name": "stdout"
        },
        {
          "output_type": "execute_result",
          "data": {
            "text/plain": [
              "[0.5972538591861725, 0.803600013256073]"
            ]
          },
          "metadata": {
            "tags": []
          },
          "execution_count": 43
        }
      ]
    }
  ]
}
