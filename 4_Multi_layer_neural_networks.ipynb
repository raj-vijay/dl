{
  "nbformat": 4,
  "nbformat_minor": 0,
  "metadata": {
    "colab": {
      "name": "02. Multi-layer neural networks.ipynb",
      "provenance": [],
      "collapsed_sections": [],
      "authorship_tag": "ABX9TyPcirUSFviEiG2cucj7WhE5",
      "include_colab_link": true
    },
    "kernelspec": {
      "name": "python3",
      "display_name": "Python 3"
    }
  },
  "cells": [
    {
      "cell_type": "markdown",
      "metadata": {
        "id": "view-in-github",
        "colab_type": "text"
      },
      "source": [
        "<a href=\"https://colab.research.google.com/github/raj-vijay/dl/blob/master/4_Multi_layer_neural_networks.ipynb\" target=\"_parent\"><img src=\"https://colab.research.google.com/assets/colab-badge.svg\" alt=\"Open In Colab\"/></a>"
      ]
    },
    {
      "cell_type": "markdown",
      "metadata": {
        "id": "msFmntRKjIoY",
        "colab_type": "text"
      },
      "source": [
        "**Forward Propagation in Two Layer Neural Networks**"
      ]
    },
    {
      "cell_type": "markdown",
      "metadata": {
        "id": "aRZUhc6tjDk2",
        "colab_type": "text"
      },
      "source": [
        "Here, we write code to do forward propagation for a neural network with 2 hidden layers. \n",
        "\n",
        "Each hidden layer has two nodes. The input data has been preloaded as input_data. The nodes in the first hidden layer are called node_0_0 and node_0_1. Their weights are pre-loaded as weights['node_0_0'] and weights['node_0_1'] respectively."
      ]
    },
    {
      "cell_type": "markdown",
      "metadata": {
        "id": "jdQ94P0HjuSC",
        "colab_type": "text"
      },
      "source": [
        "![alt text](https://raw.githubusercontent.com/raj-vijay/dl/master/images/Forward%20Propagation.png)"
      ]
    },
    {
      "cell_type": "code",
      "metadata": {
        "id": "uMUWtqkmiiPj",
        "colab_type": "code",
        "colab": {}
      },
      "source": [
        "import numpy as np"
      ],
      "execution_count": null,
      "outputs": []
    },
    {
      "cell_type": "markdown",
      "metadata": {
        "id": "rmOsBSiVjPib",
        "colab_type": "text"
      },
      "source": [
        "Inputs and Weights are Loaded"
      ]
    },
    {
      "cell_type": "code",
      "metadata": {
        "id": "uzwdsm_Yh8WM",
        "colab_type": "code",
        "colab": {}
      },
      "source": [
        "input_data = [3, 5]\n",
        "weights = {'node_0_0': np.array([2, 4]), 'node_1_0': np.array([-1,  2]), 'output': np.array([2, 7]), 'node_0_1': np.array([ 4, -5]), 'node_1_1': np.array([1, 2])}"
      ],
      "execution_count": null,
      "outputs": []
    },
    {
      "cell_type": "code",
      "metadata": {
        "id": "Vmc4zPSMjXKf",
        "colab_type": "code",
        "colab": {}
      },
      "source": [
        "def relu(input):\n",
        "    '''Define your relu activation function here'''\n",
        "    # Calculate the value for the output of the relu function: output\n",
        "    output = max(0, input)\n",
        "    \n",
        "    # Return the value just calculated\n",
        "    return(output)\n"
      ],
      "execution_count": null,
      "outputs": []
    },
    {
      "cell_type": "code",
      "metadata": {
        "id": "pv_d3Zf9hmVr",
        "colab_type": "code",
        "colab": {
          "base_uri": "https://localhost:8080/",
          "height": 34
        },
        "outputId": "08faf05c-66d8-4e7b-d07c-291d2abe4973"
      },
      "source": [
        "def predict_with_network(input_data):\n",
        "    # Calculate node 0 in the first hidden layer\n",
        "    node_0_0_input = (input_data * weights['node_0_0']).sum()\n",
        "    node_0_0_output = relu(node_0_0_input)\n",
        "\n",
        "    # Calculate node 1 in the first hidden layer\n",
        "    node_0_1_input = (input_data * weights['node_0_1']).sum()\n",
        "    node_0_1_output = relu(node_0_1_input)\n",
        "\n",
        "    # Put node values into array: hidden_0_outputs\n",
        "    hidden_0_outputs = np.array([node_0_0_output, node_0_1_output])\n",
        "\n",
        "    # Calculate node 0 in the second hidden layer\n",
        "    node_1_0_input = (hidden_0_outputs * weights['node_1_0']).sum()\n",
        "    node_1_0_output = relu(node_1_0_input)\n",
        "\n",
        "    # Calculate node 1 in the second hidden layer\n",
        "    node_1_1_input = (hidden_0_outputs * weights['node_1_1']).sum()\n",
        "    node_1_1_output = relu(node_1_1_input)\n",
        "\n",
        "    # Put node values into array: hidden_1_outputs\n",
        "    hidden_1_outputs = np.array([node_1_0_output, node_1_1_output])\n",
        "    \n",
        "    # Calculate output here: model_output\n",
        "    model_output = (hidden_1_outputs * weights['output']).sum()\n",
        "    \n",
        "    # Return model_output\n",
        "    return(model_output)\n",
        "\n",
        "output = predict_with_network(input_data)\n",
        "print(output)\n"
      ],
      "execution_count": null,
      "outputs": [
        {
          "output_type": "stream",
          "text": [
            "182\n"
          ],
          "name": "stdout"
        }
      ]
    }
  ]
}