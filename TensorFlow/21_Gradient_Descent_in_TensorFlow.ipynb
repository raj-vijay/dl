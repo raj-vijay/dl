{
  "nbformat": 4,
  "nbformat_minor": 0,
  "metadata": {
    "colab": {
      "name": "21. Gradient Descent in TensorFlow.ipynb",
      "provenance": [],
      "collapsed_sections": [],
      "authorship_tag": "ABX9TyO0aUMnPzCFlzaoFQPcapMl",
      "include_colab_link": true
    },
    "kernelspec": {
      "name": "python3",
      "display_name": "Python 3"
    }
  },
  "cells": [
    {
      "cell_type": "markdown",
      "metadata": {
        "id": "view-in-github",
        "colab_type": "text"
      },
      "source": [
        "<a href=\"https://colab.research.google.com/github/raj-vijay/dl/blob/master/21_Gradient_Descent_in_TensorFlow.ipynb\" target=\"_parent\"><img src=\"https://colab.research.google.com/assets/colab-badge.svg\" alt=\"Open In Colab\"/></a>"
      ]
    },
    {
      "cell_type": "markdown",
      "metadata": {
        "id": "sxA_n8blSnwr",
        "colab_type": "text"
      },
      "source": [
        "**Gradient descent**\n",
        "\n",
        "Gradient descent is an optimization algorithm used to minimize some function by iteratively moving in the direction of steepest descent as defined by the negative of the gradient. In machine learning, we use gradient descent to update the parameters of our model"
      ]
    },
    {
      "cell_type": "markdown",
      "metadata": {
        "id": "022HxkB4ehWH",
        "colab_type": "text"
      },
      "source": [
        "**Stochastic gradient descent (SGD) optimizer**\n",
        "- tf.keras.optimizers.SGD()\n",
        "- learning_rate (typically between 0.5 and 0.001 which will determine how quickly the model parameters adjust during training)\n",
        "- Simple and easy to interpret"
      ]
    },
    {
      "cell_type": "markdown",
      "metadata": {
        "id": "KcpPb6y2e3Lq",
        "colab_type": "text"
      },
      "source": [
        "**Root mean squared (RMS) propagation optimizer**\n",
        "- Applies different learning rates to each feature\n",
        "- tf.keras.optimizers.RMSprop()\n",
        "- learning_rate\n",
        "- momentum\n",
        "- decay\n",
        "\n",
        "Allows for momentum to both build and decay"
      ]
    },
    {
      "cell_type": "markdown",
      "metadata": {
        "id": "I7obnp-bfFBU",
        "colab_type": "text"
      },
      "source": [
        "**Adaptive moment (adam) optimizer**\n",
        "- tf.keras.optimizers.Adam()\n",
        "- learning_rate\n",
        "- beta1\n",
        "\n",
        "Performs well with default parameter values"
      ]
    },
    {
      "cell_type": "markdown",
      "metadata": {
        "id": "4AJE027F2V28",
        "colab_type": "text"
      },
      "source": [
        "**Default of Credit Card Clients Dataset**\n",
        "\n",
        "This research aimed at the case of customers default payments in Taiwan and compares the predictive accuracy of probability of default among six data mining methods. \n",
        "\n",
        "From the perspective of risk management, the result of predictive accuracy of the estimated probability of default will be more valuable than the binary result of classification - credible or not credible clients. \n",
        "\n",
        "Because the real probability of default is unknown, this study presented the novel Sorting Smoothing Method to estimate the real probability of default. With the real probability of default as the response variable (Y), and the predictive probability of default as the independent variable (X), the simple linear regression result (Y = A + BX) shows that the forecasting model produced by artificial neural network has the highest coefficient of determination; its regression intercept (A) is close to zero, and regression coefficient (B) to one. \n",
        "\n",
        "Therefore, among the six data mining techniques, artificial neural network is the only one that can accurately estimate the real probability of default.\n",
        "\n"
      ]
    },
    {
      "cell_type": "markdown",
      "metadata": {
        "id": "64249CqWx5LQ",
        "colab_type": "text"
      },
      "source": [
        "Installing Kaggle Package to access the diabetes dataset from Kaggle."
      ]
    },
    {
      "cell_type": "code",
      "metadata": {
        "id": "Lh74UthzvMhN",
        "colab_type": "code",
        "colab": {
          "base_uri": "https://localhost:8080/",
          "height": 224
        },
        "outputId": "ed14935e-f3e3-4801-89cf-df062a319fe3"
      },
      "source": [
        "!pip install kaggle"
      ],
      "execution_count": null,
      "outputs": [
        {
          "output_type": "stream",
          "text": [
            "Requirement already satisfied: kaggle in /usr/local/lib/python3.6/dist-packages (1.5.6)\n",
            "Requirement already satisfied: requests in /usr/local/lib/python3.6/dist-packages (from kaggle) (2.21.0)\n",
            "Requirement already satisfied: urllib3<1.25,>=1.21.1 in /usr/local/lib/python3.6/dist-packages (from kaggle) (1.24.3)\n",
            "Requirement already satisfied: certifi in /usr/local/lib/python3.6/dist-packages (from kaggle) (2019.11.28)\n",
            "Requirement already satisfied: six>=1.10 in /usr/local/lib/python3.6/dist-packages (from kaggle) (1.12.0)\n",
            "Requirement already satisfied: python-dateutil in /usr/local/lib/python3.6/dist-packages (from kaggle) (2.8.1)\n",
            "Requirement already satisfied: python-slugify in /usr/local/lib/python3.6/dist-packages (from kaggle) (4.0.0)\n",
            "Requirement already satisfied: tqdm in /usr/local/lib/python3.6/dist-packages (from kaggle) (4.38.0)\n",
            "Requirement already satisfied: chardet<3.1.0,>=3.0.2 in /usr/local/lib/python3.6/dist-packages (from requests->kaggle) (3.0.4)\n",
            "Requirement already satisfied: idna<2.9,>=2.5 in /usr/local/lib/python3.6/dist-packages (from requests->kaggle) (2.8)\n",
            "Requirement already satisfied: text-unidecode>=1.3 in /usr/local/lib/python3.6/dist-packages (from python-slugify->kaggle) (1.3)\n"
          ],
          "name": "stdout"
        }
      ]
    },
    {
      "cell_type": "markdown",
      "metadata": {
        "id": "UaBzyWRYx6ZH",
        "colab_type": "text"
      },
      "source": [
        "Make .kaggle directory under root to import the Kaggle Authentication JSON."
      ]
    },
    {
      "cell_type": "code",
      "metadata": {
        "id": "JsMHWbO7x8eI",
        "colab_type": "code",
        "colab": {}
      },
      "source": [
        "!mkdir ~/.kaggle"
      ],
      "execution_count": null,
      "outputs": []
    },
    {
      "cell_type": "markdown",
      "metadata": {
        "id": "HAqlQYbryA_S",
        "colab_type": "text"
      },
      "source": [
        "Change file path to root/.kaggle/kaggle.json"
      ]
    },
    {
      "cell_type": "code",
      "metadata": {
        "id": "Pz4SslxCyBxa",
        "colab_type": "code",
        "colab": {}
      },
      "source": [
        "!cp /content/kaggle.json ~/.kaggle/kaggle.json"
      ],
      "execution_count": null,
      "outputs": []
    },
    {
      "cell_type": "markdown",
      "metadata": {
        "id": "A4MViD2yyFMZ",
        "colab_type": "text"
      },
      "source": [
        "Chmod 600 (chmod a+rwx,u-x,g-rwx,o-rwx) sets permissions so that, (U)ser / owner can read, can write and can't execute. (G)roup can't read, can't write and can't execute. (O)thers can't read, can't write and can't execute."
      ]
    },
    {
      "cell_type": "code",
      "metadata": {
        "id": "LZy93l-pyHe_",
        "colab_type": "code",
        "colab": {}
      },
      "source": [
        "!chmod 600 /root/.kaggle/kaggle.json"
      ],
      "execution_count": null,
      "outputs": []
    },
    {
      "cell_type": "markdown",
      "metadata": {
        "id": "7gxO15ZnyKEQ",
        "colab_type": "text"
      },
      "source": [
        "Download housing dataset from Kaggle!"
      ]
    },
    {
      "cell_type": "code",
      "metadata": {
        "id": "ue7T1xCXyNbD",
        "colab_type": "code",
        "colab": {
          "base_uri": "https://localhost:8080/",
          "height": 68
        },
        "outputId": "b59bc4e0-efec-48d1-b727-362194dd2dcb"
      },
      "source": [
        "!kaggle datasets download -d uciml/default-of-credit-card-clients-dataset"
      ],
      "execution_count": null,
      "outputs": [
        {
          "output_type": "stream",
          "text": [
            "Downloading default-of-credit-card-clients-dataset.zip to /content\n",
            "\r  0% 0.00/0.98M [00:00<?, ?B/s]\n",
            "\r100% 0.98M/0.98M [00:00<00:00, 68.7MB/s]\n"
          ],
          "name": "stdout"
        }
      ]
    },
    {
      "cell_type": "code",
      "metadata": {
        "id": "mrc79J3MWo25",
        "colab_type": "code",
        "colab": {}
      },
      "source": [
        "import pandas as pd\n",
        "file = '/content/default-of-credit-card-clients-dataset.zip'\n",
        "data = pd.read_csv(file, compression = 'zip')"
      ],
      "execution_count": null,
      "outputs": []
    },
    {
      "cell_type": "code",
      "metadata": {
        "id": "reUbv8keW0lp",
        "colab_type": "code",
        "colab": {
          "base_uri": "https://localhost:8080/",
          "height": 224
        },
        "outputId": "7009861d-eaa6-48c4-af44-1ada319502dd"
      },
      "source": [
        "data.head()"
      ],
      "execution_count": null,
      "outputs": [
        {
          "output_type": "execute_result",
          "data": {
            "text/html": [
              "<div>\n",
              "<style scoped>\n",
              "    .dataframe tbody tr th:only-of-type {\n",
              "        vertical-align: middle;\n",
              "    }\n",
              "\n",
              "    .dataframe tbody tr th {\n",
              "        vertical-align: top;\n",
              "    }\n",
              "\n",
              "    .dataframe thead th {\n",
              "        text-align: right;\n",
              "    }\n",
              "</style>\n",
              "<table border=\"1\" class=\"dataframe\">\n",
              "  <thead>\n",
              "    <tr style=\"text-align: right;\">\n",
              "      <th></th>\n",
              "      <th>ID</th>\n",
              "      <th>LIMIT_BAL</th>\n",
              "      <th>SEX</th>\n",
              "      <th>EDUCATION</th>\n",
              "      <th>MARRIAGE</th>\n",
              "      <th>AGE</th>\n",
              "      <th>PAY_0</th>\n",
              "      <th>PAY_2</th>\n",
              "      <th>PAY_3</th>\n",
              "      <th>PAY_4</th>\n",
              "      <th>PAY_5</th>\n",
              "      <th>PAY_6</th>\n",
              "      <th>BILL_AMT1</th>\n",
              "      <th>BILL_AMT2</th>\n",
              "      <th>BILL_AMT3</th>\n",
              "      <th>BILL_AMT4</th>\n",
              "      <th>BILL_AMT5</th>\n",
              "      <th>BILL_AMT6</th>\n",
              "      <th>PAY_AMT1</th>\n",
              "      <th>PAY_AMT2</th>\n",
              "      <th>PAY_AMT3</th>\n",
              "      <th>PAY_AMT4</th>\n",
              "      <th>PAY_AMT5</th>\n",
              "      <th>PAY_AMT6</th>\n",
              "      <th>default.payment.next.month</th>\n",
              "    </tr>\n",
              "  </thead>\n",
              "  <tbody>\n",
              "    <tr>\n",
              "      <th>0</th>\n",
              "      <td>1</td>\n",
              "      <td>20000.0</td>\n",
              "      <td>2</td>\n",
              "      <td>2</td>\n",
              "      <td>1</td>\n",
              "      <td>24</td>\n",
              "      <td>2</td>\n",
              "      <td>2</td>\n",
              "      <td>-1</td>\n",
              "      <td>-1</td>\n",
              "      <td>-2</td>\n",
              "      <td>-2</td>\n",
              "      <td>3913.0</td>\n",
              "      <td>3102.0</td>\n",
              "      <td>689.0</td>\n",
              "      <td>0.0</td>\n",
              "      <td>0.0</td>\n",
              "      <td>0.0</td>\n",
              "      <td>0.0</td>\n",
              "      <td>689.0</td>\n",
              "      <td>0.0</td>\n",
              "      <td>0.0</td>\n",
              "      <td>0.0</td>\n",
              "      <td>0.0</td>\n",
              "      <td>1</td>\n",
              "    </tr>\n",
              "    <tr>\n",
              "      <th>1</th>\n",
              "      <td>2</td>\n",
              "      <td>120000.0</td>\n",
              "      <td>2</td>\n",
              "      <td>2</td>\n",
              "      <td>2</td>\n",
              "      <td>26</td>\n",
              "      <td>-1</td>\n",
              "      <td>2</td>\n",
              "      <td>0</td>\n",
              "      <td>0</td>\n",
              "      <td>0</td>\n",
              "      <td>2</td>\n",
              "      <td>2682.0</td>\n",
              "      <td>1725.0</td>\n",
              "      <td>2682.0</td>\n",
              "      <td>3272.0</td>\n",
              "      <td>3455.0</td>\n",
              "      <td>3261.0</td>\n",
              "      <td>0.0</td>\n",
              "      <td>1000.0</td>\n",
              "      <td>1000.0</td>\n",
              "      <td>1000.0</td>\n",
              "      <td>0.0</td>\n",
              "      <td>2000.0</td>\n",
              "      <td>1</td>\n",
              "    </tr>\n",
              "    <tr>\n",
              "      <th>2</th>\n",
              "      <td>3</td>\n",
              "      <td>90000.0</td>\n",
              "      <td>2</td>\n",
              "      <td>2</td>\n",
              "      <td>2</td>\n",
              "      <td>34</td>\n",
              "      <td>0</td>\n",
              "      <td>0</td>\n",
              "      <td>0</td>\n",
              "      <td>0</td>\n",
              "      <td>0</td>\n",
              "      <td>0</td>\n",
              "      <td>29239.0</td>\n",
              "      <td>14027.0</td>\n",
              "      <td>13559.0</td>\n",
              "      <td>14331.0</td>\n",
              "      <td>14948.0</td>\n",
              "      <td>15549.0</td>\n",
              "      <td>1518.0</td>\n",
              "      <td>1500.0</td>\n",
              "      <td>1000.0</td>\n",
              "      <td>1000.0</td>\n",
              "      <td>1000.0</td>\n",
              "      <td>5000.0</td>\n",
              "      <td>0</td>\n",
              "    </tr>\n",
              "    <tr>\n",
              "      <th>3</th>\n",
              "      <td>4</td>\n",
              "      <td>50000.0</td>\n",
              "      <td>2</td>\n",
              "      <td>2</td>\n",
              "      <td>1</td>\n",
              "      <td>37</td>\n",
              "      <td>0</td>\n",
              "      <td>0</td>\n",
              "      <td>0</td>\n",
              "      <td>0</td>\n",
              "      <td>0</td>\n",
              "      <td>0</td>\n",
              "      <td>46990.0</td>\n",
              "      <td>48233.0</td>\n",
              "      <td>49291.0</td>\n",
              "      <td>28314.0</td>\n",
              "      <td>28959.0</td>\n",
              "      <td>29547.0</td>\n",
              "      <td>2000.0</td>\n",
              "      <td>2019.0</td>\n",
              "      <td>1200.0</td>\n",
              "      <td>1100.0</td>\n",
              "      <td>1069.0</td>\n",
              "      <td>1000.0</td>\n",
              "      <td>0</td>\n",
              "    </tr>\n",
              "    <tr>\n",
              "      <th>4</th>\n",
              "      <td>5</td>\n",
              "      <td>50000.0</td>\n",
              "      <td>1</td>\n",
              "      <td>2</td>\n",
              "      <td>1</td>\n",
              "      <td>57</td>\n",
              "      <td>-1</td>\n",
              "      <td>0</td>\n",
              "      <td>-1</td>\n",
              "      <td>0</td>\n",
              "      <td>0</td>\n",
              "      <td>0</td>\n",
              "      <td>8617.0</td>\n",
              "      <td>5670.0</td>\n",
              "      <td>35835.0</td>\n",
              "      <td>20940.0</td>\n",
              "      <td>19146.0</td>\n",
              "      <td>19131.0</td>\n",
              "      <td>2000.0</td>\n",
              "      <td>36681.0</td>\n",
              "      <td>10000.0</td>\n",
              "      <td>9000.0</td>\n",
              "      <td>689.0</td>\n",
              "      <td>679.0</td>\n",
              "      <td>0</td>\n",
              "    </tr>\n",
              "  </tbody>\n",
              "</table>\n",
              "</div>"
            ],
            "text/plain": [
              "   ID  LIMIT_BAL  SEX  ...  PAY_AMT5  PAY_AMT6  default.payment.next.month\n",
              "0   1    20000.0    2  ...       0.0       0.0                           1\n",
              "1   2   120000.0    2  ...       0.0    2000.0                           1\n",
              "2   3    90000.0    2  ...    1000.0    5000.0                           0\n",
              "3   4    50000.0    2  ...    1069.0    1000.0                           0\n",
              "4   5    50000.0    1  ...     689.0     679.0                           0\n",
              "\n",
              "[5 rows x 25 columns]"
            ]
          },
          "metadata": {
            "tags": []
          },
          "execution_count": 7
        }
      ]
    },
    {
      "cell_type": "markdown",
      "metadata": {
        "id": "ie82-DuGWeJh",
        "colab_type": "text"
      },
      "source": [
        "The input layer contains 3 features: \n",
        "1. Education\n",
        "2. Marital status, and\n",
        "3. Age\n",
        "\n",
        "which are available as borrower_features. \n",
        "\n",
        "The hidden layer contains 2 nodes and the output layer contains a single node."
      ]
    },
    {
      "cell_type": "code",
      "metadata": {
        "id": "sKrCXKy-W4Bq",
        "colab_type": "code",
        "colab": {}
      },
      "source": [
        "borrower_features = data[['EDUCATION','MARRIAGE','AGE']]"
      ],
      "execution_count": null,
      "outputs": []
    },
    {
      "cell_type": "code",
      "metadata": {
        "id": "x6PLChK_XKwp",
        "colab_type": "code",
        "colab": {
          "base_uri": "https://localhost:8080/",
          "height": 204
        },
        "outputId": "d66cdb13-64db-4849-be47-2bfea277b9bb"
      },
      "source": [
        "borrower_features.head()"
      ],
      "execution_count": null,
      "outputs": [
        {
          "output_type": "execute_result",
          "data": {
            "text/html": [
              "<div>\n",
              "<style scoped>\n",
              "    .dataframe tbody tr th:only-of-type {\n",
              "        vertical-align: middle;\n",
              "    }\n",
              "\n",
              "    .dataframe tbody tr th {\n",
              "        vertical-align: top;\n",
              "    }\n",
              "\n",
              "    .dataframe thead th {\n",
              "        text-align: right;\n",
              "    }\n",
              "</style>\n",
              "<table border=\"1\" class=\"dataframe\">\n",
              "  <thead>\n",
              "    <tr style=\"text-align: right;\">\n",
              "      <th></th>\n",
              "      <th>EDUCATION</th>\n",
              "      <th>MARRIAGE</th>\n",
              "      <th>AGE</th>\n",
              "    </tr>\n",
              "  </thead>\n",
              "  <tbody>\n",
              "    <tr>\n",
              "      <th>0</th>\n",
              "      <td>2</td>\n",
              "      <td>1</td>\n",
              "      <td>24</td>\n",
              "    </tr>\n",
              "    <tr>\n",
              "      <th>1</th>\n",
              "      <td>2</td>\n",
              "      <td>2</td>\n",
              "      <td>26</td>\n",
              "    </tr>\n",
              "    <tr>\n",
              "      <th>2</th>\n",
              "      <td>2</td>\n",
              "      <td>2</td>\n",
              "      <td>34</td>\n",
              "    </tr>\n",
              "    <tr>\n",
              "      <th>3</th>\n",
              "      <td>2</td>\n",
              "      <td>1</td>\n",
              "      <td>37</td>\n",
              "    </tr>\n",
              "    <tr>\n",
              "      <th>4</th>\n",
              "      <td>2</td>\n",
              "      <td>1</td>\n",
              "      <td>57</td>\n",
              "    </tr>\n",
              "  </tbody>\n",
              "</table>\n",
              "</div>"
            ],
            "text/plain": [
              "   EDUCATION  MARRIAGE  AGE\n",
              "0          2         1   24\n",
              "1          2         2   26\n",
              "2          2         2   34\n",
              "3          2         1   37\n",
              "4          2         1   57"
            ]
          },
          "metadata": {
            "tags": []
          },
          "execution_count": 9
        }
      ]
    },
    {
      "cell_type": "markdown",
      "metadata": {
        "id": "Q7f2cIpzXzOi",
        "colab_type": "text"
      },
      "source": [
        "For each layer, we take the previous layer as an input, initialize a set of weights, compute the product of the inputs and weights, and then apply an activation function. "
      ]
    },
    {
      "cell_type": "code",
      "metadata": {
        "id": "5N6uX8sxag6P",
        "colab_type": "code",
        "colab": {}
      },
      "source": [
        "borrower_features = data[['EDUCATION',\t'MARRIAGE', 'AGE',\t'BILL_AMT1',\t'BILL_AMT2',\t'BILL_AMT3',\t'BILL_AMT4',\t'BILL_AMT5',\t'BILL_AMT6']]"
      ],
      "execution_count": null,
      "outputs": []
    },
    {
      "cell_type": "code",
      "metadata": {
        "id": "8dNXkTPucXmh",
        "colab_type": "code",
        "colab": {
          "base_uri": "https://localhost:8080/",
          "height": 204
        },
        "outputId": "57482514-ceb1-406c-91da-453722d41238"
      },
      "source": [
        "borrower_features.head()"
      ],
      "execution_count": null,
      "outputs": [
        {
          "output_type": "execute_result",
          "data": {
            "text/html": [
              "<div>\n",
              "<style scoped>\n",
              "    .dataframe tbody tr th:only-of-type {\n",
              "        vertical-align: middle;\n",
              "    }\n",
              "\n",
              "    .dataframe tbody tr th {\n",
              "        vertical-align: top;\n",
              "    }\n",
              "\n",
              "    .dataframe thead th {\n",
              "        text-align: right;\n",
              "    }\n",
              "</style>\n",
              "<table border=\"1\" class=\"dataframe\">\n",
              "  <thead>\n",
              "    <tr style=\"text-align: right;\">\n",
              "      <th></th>\n",
              "      <th>EDUCATION</th>\n",
              "      <th>MARRIAGE</th>\n",
              "      <th>AGE</th>\n",
              "      <th>BILL_AMT1</th>\n",
              "      <th>BILL_AMT2</th>\n",
              "      <th>BILL_AMT3</th>\n",
              "      <th>BILL_AMT4</th>\n",
              "      <th>BILL_AMT5</th>\n",
              "      <th>BILL_AMT6</th>\n",
              "    </tr>\n",
              "  </thead>\n",
              "  <tbody>\n",
              "    <tr>\n",
              "      <th>0</th>\n",
              "      <td>2</td>\n",
              "      <td>1</td>\n",
              "      <td>24</td>\n",
              "      <td>3913.0</td>\n",
              "      <td>3102.0</td>\n",
              "      <td>689.0</td>\n",
              "      <td>0.0</td>\n",
              "      <td>0.0</td>\n",
              "      <td>0.0</td>\n",
              "    </tr>\n",
              "    <tr>\n",
              "      <th>1</th>\n",
              "      <td>2</td>\n",
              "      <td>2</td>\n",
              "      <td>26</td>\n",
              "      <td>2682.0</td>\n",
              "      <td>1725.0</td>\n",
              "      <td>2682.0</td>\n",
              "      <td>3272.0</td>\n",
              "      <td>3455.0</td>\n",
              "      <td>3261.0</td>\n",
              "    </tr>\n",
              "    <tr>\n",
              "      <th>2</th>\n",
              "      <td>2</td>\n",
              "      <td>2</td>\n",
              "      <td>34</td>\n",
              "      <td>29239.0</td>\n",
              "      <td>14027.0</td>\n",
              "      <td>13559.0</td>\n",
              "      <td>14331.0</td>\n",
              "      <td>14948.0</td>\n",
              "      <td>15549.0</td>\n",
              "    </tr>\n",
              "    <tr>\n",
              "      <th>3</th>\n",
              "      <td>2</td>\n",
              "      <td>1</td>\n",
              "      <td>37</td>\n",
              "      <td>46990.0</td>\n",
              "      <td>48233.0</td>\n",
              "      <td>49291.0</td>\n",
              "      <td>28314.0</td>\n",
              "      <td>28959.0</td>\n",
              "      <td>29547.0</td>\n",
              "    </tr>\n",
              "    <tr>\n",
              "      <th>4</th>\n",
              "      <td>2</td>\n",
              "      <td>1</td>\n",
              "      <td>57</td>\n",
              "      <td>8617.0</td>\n",
              "      <td>5670.0</td>\n",
              "      <td>35835.0</td>\n",
              "      <td>20940.0</td>\n",
              "      <td>19146.0</td>\n",
              "      <td>19131.0</td>\n",
              "    </tr>\n",
              "  </tbody>\n",
              "</table>\n",
              "</div>"
            ],
            "text/plain": [
              "   EDUCATION  MARRIAGE  AGE  ...  BILL_AMT4  BILL_AMT5  BILL_AMT6\n",
              "0          2         1   24  ...        0.0        0.0        0.0\n",
              "1          2         2   26  ...     3272.0     3455.0     3261.0\n",
              "2          2         2   34  ...    14331.0    14948.0    15549.0\n",
              "3          2         1   37  ...    28314.0    28959.0    29547.0\n",
              "4          2         1   57  ...    20940.0    19146.0    19131.0\n",
              "\n",
              "[5 rows x 9 columns]"
            ]
          },
          "metadata": {
            "tags": []
          },
          "execution_count": 11
        }
      ]
    },
    {
      "cell_type": "code",
      "metadata": {
        "id": "Ld63mKamgjGr",
        "colab_type": "code",
        "colab": {}
      },
      "source": [
        "default = data['default.payment.next.month']"
      ],
      "execution_count": null,
      "outputs": []
    },
    {
      "cell_type": "code",
      "metadata": {
        "id": "zjCVMrtXgQb5",
        "colab_type": "code",
        "colab": {}
      },
      "source": [
        "import tensorflow as tf"
      ],
      "execution_count": null,
      "outputs": []
    },
    {
      "cell_type": "code",
      "metadata": {
        "id": "pe-z11WegRE4",
        "colab_type": "code",
        "colab": {}
      },
      "source": [
        "borrower_features = tf.constant(borrower_features, tf.float32)\n",
        "default = tf.constant(default, tf.float32)"
      ],
      "execution_count": null,
      "outputs": []
    },
    {
      "cell_type": "code",
      "metadata": {
        "id": "-b7gWPgDgB-x",
        "colab_type": "code",
        "colab": {}
      },
      "source": [
        "# Define the model function\n",
        "def model(bias, weights, features = borrower_features):\n",
        "  product = tf.matmul(features, weights)\n",
        "  return tf.keras.activations.sigmoid(product+bias)"
      ],
      "execution_count": null,
      "outputs": []
    },
    {
      "cell_type": "code",
      "metadata": {
        "id": "xnbKrUbfgcPq",
        "colab_type": "code",
        "colab": {}
      },
      "source": [
        "# Compute the predicted values and loss\n",
        "def loss_function(bias, weights, targets = default, features = borrower_features):\n",
        "  predictions = model(bias, weights)\n",
        "  return tf.keras.losses.binary_crossentropy(targets, predictions)"
      ],
      "execution_count": null,
      "outputs": []
    },
    {
      "cell_type": "code",
      "metadata": {
        "id": "Kema5CWwgueJ",
        "colab_type": "code",
        "colab": {}
      },
      "source": [
        "# Minimize the loss function with RMS propagation\n",
        "opt = tf.keras.optimizers.RMSprop(learning_rate=0.01, momentum=0.9)\n",
        "opt.minimize(lambda: loss_function(bias, weights), var_list=[bias, weights])"
      ],
      "execution_count": null,
      "outputs": []
    },
    {
      "cell_type": "markdown",
      "metadata": {
        "id": "GvWteq9msS3Z",
        "colab_type": "text"
      },
      "source": [
        "**Dangers of local minima**"
      ]
    },
    {
      "cell_type": "markdown",
      "metadata": {
        "id": "R0B5RRvHvLiT",
        "colab_type": "text"
      },
      "source": [
        "Here we determing the global minimum of loss_function() using keras.optimizers.SGD(). \n",
        "\n",
        "It is done twice, each time with a different initial values of the input to loss_function(). \n",
        "\n",
        "First, use x_1, which is a variable with an initial value of 6.0. \n",
        "Second, use x_2, which is a variable with an initial value of 0.3. \n",
        "\n",
        "That loss_function() is defined as below."
      ]
    },
    {
      "cell_type": "markdown",
      "metadata": {
        "id": "gpe6_wyZv9IO",
        "colab_type": "text"
      },
      "source": [
        "![alt text](https://assets.datacamp.com/production/repositories/3953/datasets/42876c85cba5c14941a3fac191eff75b41597112/local_minima_dots_4_10.png)"
      ]
    },
    {
      "cell_type": "code",
      "metadata": {
        "id": "FUiPcm_tsY4j",
        "colab_type": "code",
        "colab": {}
      },
      "source": [
        "import math\n",
        "\n",
        "def divide(x, y, name=None):\n",
        "  \"\"\"Computes Python style division of `x` by `y`.\"\"\"\n",
        "\n",
        "  if name is not None:\n",
        "    # Cannot use tensors operator overload, because it has no way to track\n",
        "    # override names. Use a dummy class to track the runtime division behavior\n",
        "    return DivideDelegateWithName(x, name) / y\n",
        "  else:\n",
        "    return x / y\n",
        "\n",
        "\n",
        "def loss_function(x):\n",
        "\treturn 4.0*math.cos(x-1) + divide(math.cos(2.0*math.pi*x),x)"
      ],
      "execution_count": null,
      "outputs": []
    },
    {
      "cell_type": "code",
      "metadata": {
        "id": "hqr3KVAtsVzB",
        "colab_type": "code",
        "colab": {
          "base_uri": "https://localhost:8080/",
          "height": 34
        },
        "outputId": "2695f386-9306-4ee9-e0ae-d8d5ee3ba7e8"
      },
      "source": [
        "# Initialize x_1 and x_2\n",
        "x_1 = tf.Variable(6.0, tf.float32)\n",
        "x_2 = tf.Variable(0.3, tf.float32)\n",
        "\n",
        "# Define the optimization operation\n",
        "opt = tf.keras.optimizers.SGD(learning_rate=0.01)\n",
        "\n",
        "for j in range(100):\n",
        "\t# Perform minimization using the loss function and x_1\n",
        "\topt.minimize(lambda: loss_function(x_1), var_list=[x_1])\n",
        "\t# Perform minimization using the loss function and x_2\n",
        "\topt.minimize(lambda: loss_function(x_2), var_list=[x_2])\n",
        "\n",
        "# Print x_1 and x_2 as numpy arrays\n",
        "print(x_1.numpy(), x_2.numpy())"
      ],
      "execution_count": null,
      "outputs": [
        {
          "output_type": "stream",
          "text": [
            "6.027515 0.25\n"
          ],
          "name": "stdout"
        }
      ]
    },
    {
      "cell_type": "markdown",
      "metadata": {
        "id": "wscg8snmuSpm",
        "colab_type": "text"
      },
      "source": [
        "**Avoiding local minima**"
      ]
    },
    {
      "cell_type": "markdown",
      "metadata": {
        "id": "li31BhhQuWJj",
        "colab_type": "text"
      },
      "source": [
        "We had a simple optimization problem in one variable and gradient descent still failed to deliver the global minimum when we had to travel through local minima first. \n",
        "\n",
        "One way to avoid this problem is to use momentum, which allows the optimizer to break through local minima. "
      ]
    },
    {
      "cell_type": "code",
      "metadata": {
        "id": "is9es7YsuEZb",
        "colab_type": "code",
        "colab": {
          "base_uri": "https://localhost:8080/",
          "height": 34
        },
        "outputId": "64414be1-cd52-4346-e90c-893b8f3d27aa"
      },
      "source": [
        "# Initialize x_1 and x_2\n",
        "x_1 = tf.Variable(0.05, tf.float32)\n",
        "x_2 = tf.Variable(0.05, tf.float32)\n",
        "\n",
        "# Define the optimization operation for opt_1 and opt_2\n",
        "opt_1 = tf.keras.optimizers.RMSprop(learning_rate=0.01, momentum=0.99)\n",
        "opt_2 = tf.keras.optimizers.RMSprop(learning_rate=0.01, momentum=0.00)\n",
        "\n",
        "for j in range(100):\n",
        "\topt_1.minimize(lambda: loss_function(x_1), var_list=[x_1])\n",
        "    # Define the minimization operation for opt_2\n",
        "\topt_2.minimize(lambda: loss_function(x_2), var_list=[x_2])\n",
        "\n",
        "# Print x_1 and x_2 as numpy arrays\n",
        "print(x_1.numpy(), x_2.numpy())"
      ],
      "execution_count": null,
      "outputs": [
        {
          "output_type": "stream",
          "text": [
            "2.744511 0.24999999\n"
          ],
          "name": "stdout"
        }
      ]
    }
  ]
}
