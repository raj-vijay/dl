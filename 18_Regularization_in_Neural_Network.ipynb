{
  "nbformat": 4,
  "nbformat_minor": 0,
  "metadata": {
    "colab": {
      "name": "18. Regularization in Neural Network.ipynb",
      "provenance": [],
      "collapsed_sections": [],
      "authorship_tag": "ABX9TyOJkuhFIscdhQ9jgP6nCnho",
      "include_colab_link": true
    },
    "kernelspec": {
      "name": "python3",
      "display_name": "Python 3"
    }
  },
  "cells": [
    {
      "cell_type": "markdown",
      "metadata": {
        "id": "view-in-github",
        "colab_type": "text"
      },
      "source": [
        "<a href=\"https://colab.research.google.com/github/raj-vijay/dl/blob/master/18_Regularization_in_Neural_Network.ipynb\" target=\"_parent\"><img src=\"https://colab.research.google.com/assets/colab-badge.svg\" alt=\"Open In Colab\"/></a>"
      ]
    },
    {
      "cell_type": "markdown",
      "metadata": {
        "id": "l_6pJ6o8tYUs",
        "colab_type": "text"
      },
      "source": [
        "**Dropout in Neural Network**\n",
        "\n",
        "Dropout is a regularization technique patented by Google for reducing overfitting in neural networks by preventing complex co-adaptations on training data. \n",
        "\n",
        "It is a very efficient way of performing model averaging with neural networks. The term \"dropout\" refers to dropping out units (both hidden and visible) in a neural network.\n",
        "\n",
        "Dropout\n",
        "\n",
        "In each learning step:\n",
        "- Select a subset of the units\n",
        "- Ignore it in the forward pass\n",
        "- And in the back-propagation of error\n"
      ]
    },
    {
      "cell_type": "markdown",
      "metadata": {
        "id": "P_x8TXm5t6kn",
        "colab_type": "text"
      },
      "source": [
        "**Adding dropout to a network**\n",
        "\n",
        "Dropout is a form of regularization that removes a different random subset of the units in a layer in each round of training. \n",
        "\n",
        "Here, we add dropout to the convolutional neural network:\n",
        "\n",
        "- Convolution (100 units, kernel size 2, 'relu' activation)\n",
        "- Dropout (20%)\n",
        "- Convolution (50 units, kernel size 2, 'relu' activation)\n",
        "- Flatten\n",
        "- Dense (10 units, 'softmax' activation)"
      ]
    },
    {
      "cell_type": "code",
      "metadata": {
        "id": "QTyK-diFJtBa",
        "colab_type": "code",
        "colab": {}
      },
      "source": [
        "# Import fundamental libraries used for the tensorflow\n",
        "import tensorflow as tf\n",
        "from tensorflow import keras\n",
        "import numpy as np"
      ],
      "execution_count": null,
      "outputs": []
    },
    {
      "cell_type": "code",
      "metadata": {
        "id": "0CD2Yc08KgPM",
        "colab_type": "code",
        "colab": {
          "base_uri": "https://localhost:8080/",
          "height": 153
        },
        "outputId": "4aeeeb1c-a151-45ca-c2fc-dffcba94ac37"
      },
      "source": [
        "# Load the Fashion MNIST Data from TensorFlow Keras\n",
        "fashion_mnist = tf.keras.datasets.fashion_mnist\n",
        "(train_images, train_labels), (test_images, test_labels) = fashion_mnist.load_data()"
      ],
      "execution_count": null,
      "outputs": [
        {
          "output_type": "stream",
          "text": [
            "Downloading data from https://storage.googleapis.com/tensorflow/tf-keras-datasets/train-labels-idx1-ubyte.gz\n",
            "32768/29515 [=================================] - 0s 0us/step\n",
            "Downloading data from https://storage.googleapis.com/tensorflow/tf-keras-datasets/train-images-idx3-ubyte.gz\n",
            "26427392/26421880 [==============================] - 0s 0us/step\n",
            "Downloading data from https://storage.googleapis.com/tensorflow/tf-keras-datasets/t10k-labels-idx1-ubyte.gz\n",
            "8192/5148 [===============================================] - 0s 0us/step\n",
            "Downloading data from https://storage.googleapis.com/tensorflow/tf-keras-datasets/t10k-images-idx3-ubyte.gz\n",
            "4423680/4422102 [==============================] - 0s 0us/step\n"
          ],
          "name": "stdout"
        }
      ]
    },
    {
      "cell_type": "code",
      "metadata": {
        "id": "02aSFg43LVRz",
        "colab_type": "code",
        "colab": {
          "base_uri": "https://localhost:8080/",
          "height": 51
        },
        "outputId": "19d4c6a4-06ca-4c93-9d57-b12d68cd90b4"
      },
      "source": [
        "# Shape of data\n",
        "print(\"Train Images: \", train_images.shape)\n",
        "print(\"Test Images: \", test_images.shape)"
      ],
      "execution_count": null,
      "outputs": [
        {
          "output_type": "stream",
          "text": [
            "Train Images:  (60000, 28, 28)\n",
            "Test Images:  (10000, 28, 28)\n"
          ],
          "name": "stdout"
        }
      ]
    },
    {
      "cell_type": "code",
      "metadata": {
        "id": "MZkrm9kryYId",
        "colab_type": "code",
        "colab": {
          "base_uri": "https://localhost:8080/",
          "height": 51
        },
        "outputId": "c4ff099b-1add-4d8d-bba8-4700d5c2eb0e"
      },
      "source": [
        "# Reshape input data from (28, 28) to (28, 28, 1)\n",
        "w, h = 28, 28\n",
        "train_images = train_images.reshape(train_images.shape[0], w, h, 1)\n",
        "test_images = test_images.reshape(test_images.shape[0], w, h, 1)\n",
        "\n",
        "# One-hot encode the labels\n",
        "train_labels = tf.keras.utils.to_categorical(train_labels, 10)\n",
        "test_labels = tf.keras.utils.to_categorical(test_labels, 10)\n",
        "\n",
        "# Shape of data\n",
        "print(\"Reshaped Train Images: \", train_images.shape)\n",
        "print(\"Reshaped Test Images: \", test_images.shape)"
      ],
      "execution_count": null,
      "outputs": [
        {
          "output_type": "stream",
          "text": [
            "Reshaped Train Images:  (60000, 28, 28, 1)\n",
            "Reshaped Test Images:  (10000, 28, 28, 1)\n"
          ],
          "name": "stdout"
        }
      ]
    },
    {
      "cell_type": "code",
      "metadata": {
        "id": "p3lJ5DmavW0D",
        "colab_type": "code",
        "colab": {
          "base_uri": "https://localhost:8080/",
          "height": 323
        },
        "outputId": "4becce35-ebe3-4338-893e-9cbdf90ff963"
      },
      "source": [
        "from keras.models import Sequential\n",
        "from keras.layers import Dense, Conv2D, Flatten, MaxPool2D, Dropout, BatchNormalization\n",
        "\n",
        "model = Sequential()\n",
        "\n",
        "# Add a convolutional layer\n",
        "model.add(Conv2D(100, kernel_size=2, activation='relu', \n",
        "                 input_shape=(28, 28, 1)))\n",
        "\n",
        "# Add a dropout layer\n",
        "model.add(Dropout(0.2))\n",
        "\n",
        "# Add another convolutional layer\n",
        "model.add(Conv2D(50, kernel_size=2, activation='relu'))\n",
        "\n",
        "# Flatten and feed to output layer\n",
        "model.add(Flatten())\n",
        "model.add(Dense(10, activation='softmax'))\n",
        "\n",
        "model.summary()"
      ],
      "execution_count": null,
      "outputs": [
        {
          "output_type": "stream",
          "text": [
            "Model: \"sequential_7\"\n",
            "_________________________________________________________________\n",
            "Layer (type)                 Output Shape              Param #   \n",
            "=================================================================\n",
            "conv2d_5 (Conv2D)            (None, 27, 27, 100)       500       \n",
            "_________________________________________________________________\n",
            "dropout_2 (Dropout)          (None, 27, 27, 100)       0         \n",
            "_________________________________________________________________\n",
            "conv2d_6 (Conv2D)            (None, 26, 26, 50)        20050     \n",
            "_________________________________________________________________\n",
            "flatten_2 (Flatten)          (None, 33800)             0         \n",
            "_________________________________________________________________\n",
            "dense_2 (Dense)              (None, 10)                338010    \n",
            "=================================================================\n",
            "Total params: 358,560\n",
            "Trainable params: 358,560\n",
            "Non-trainable params: 0\n",
            "_________________________________________________________________\n"
          ],
          "name": "stdout"
        }
      ]
    },
    {
      "cell_type": "code",
      "metadata": {
        "id": "-cX4ettFZmG4",
        "colab_type": "code",
        "colab": {}
      },
      "source": [
        "# Compile the model \n",
        "model.compile(optimizer='adam', \n",
        "              loss='categorical_crossentropy', \n",
        "              metrics=['accuracy'])"
      ],
      "execution_count": null,
      "outputs": []
    },
    {
      "cell_type": "markdown",
      "metadata": {
        "id": "PW5A0UpXNrII",
        "colab_type": "text"
      },
      "source": [
        "**Plot the learning curves**\n",
        "\n",
        "During learning, the model will store the loss function evaluated in each epoch. Looking at the learning curves can tell us quite a bit about the learning process."
      ]
    },
    {
      "cell_type": "code",
      "metadata": {
        "id": "9rtNL8aR9JpR",
        "colab_type": "code",
        "colab": {
          "base_uri": "https://localhost:8080/",
          "height": 384
        },
        "outputId": "39a4a89f-3b54-471a-dadc-a7528e18132b"
      },
      "source": [
        "import matplotlib.pyplot as plt\n",
        "\n",
        "# Train the model and store the training object\n",
        "training = model.fit(train_images, train_labels,\n",
        "epochs=3, batch_size = 10, validation_split=0.2)\n",
        "\n",
        "# Extract the history from the training object\n",
        "history = training.history\n",
        "\n",
        "# Plot the training loss \n",
        "plt.plot(history['loss'])\n",
        "# Plot the validation loss\n",
        "plt.plot(history['val_loss'])\n",
        "\n",
        "# Show the figure\n",
        "plt.show()"
      ],
      "execution_count": null,
      "outputs": [
        {
          "output_type": "stream",
          "text": [
            "Train on 48000 samples, validate on 12000 samples\n",
            "Epoch 1/3\n",
            "48000/48000 [==============================] - 228s 5ms/step - loss: 0.2585 - accuracy: 0.9037 - val_loss: 0.3739 - val_accuracy: 0.8763\n",
            "Epoch 2/3\n",
            "48000/48000 [==============================] - 227s 5ms/step - loss: 0.2399 - accuracy: 0.9113 - val_loss: 0.3731 - val_accuracy: 0.8746\n",
            "Epoch 3/3\n",
            "48000/48000 [==============================] - 228s 5ms/step - loss: 0.2227 - accuracy: 0.9187 - val_loss: 0.3849 - val_accuracy: 0.8737\n"
          ],
          "name": "stdout"
        },
        {
          "output_type": "display_data",
          "data": {
            "image/png": "[encoded data removed]",
            "text/plain": [
              "<Figure size 432x288 with 1 Axes>"
            ]
          },
          "metadata": {
            "tags": [],
            "needs_background": "light"
          }
        }
      ]
    },
    {
      "cell_type": "markdown",
      "metadata": {
        "id": "2m57eNEK0CBM",
        "colab_type": "text"
      },
      "source": [
        "**Evaluating a CNN with test data**\n",
        "\n",
        "To evaluate a trained neural network, provide a separate testing data set of labeled images."
      ]
    },
    {
      "cell_type": "code",
      "metadata": {
        "id": "UK_GCeW-0Il3",
        "colab_type": "code",
        "colab": {
          "base_uri": "https://localhost:8080/",
          "height": 51
        },
        "outputId": "83b35171-eb20-4119-9ba9-b9cc91d1e49d"
      },
      "source": [
        "# Evaluate the model on separate test data\n",
        "model.evaluate(test_images, test_labels, batch_size=10)"
      ],
      "execution_count": null,
      "outputs": [
        {
          "output_type": "stream",
          "text": [
            "10000/10000 [==============================] - 10s 986us/step\n"
          ],
          "name": "stdout"
        },
        {
          "output_type": "execute_result",
          "data": {
            "text/plain": [
              "[0.3988304269183864, 0.8679999709129333]"
            ]
          },
          "metadata": {
            "tags": []
          },
          "execution_count": 17
        }
      ]
    },
    {
      "cell_type": "markdown",
      "metadata": {
        "id": "1Bb4jCYcwKp-",
        "colab_type": "text"
      },
      "source": [
        "**Add batch normalization to your network**\n",
        "\n",
        "Batch normalization is another form of regularization that rescales the outputs of a layer to make sure that they have mean 0 and standard deviation 1. \n",
        "\n",
        "Now, we add batch normalization to the convolutional neural network from above.\n",
        "\n",
        "- Convolution (100 units, kernel size 2, 'relu' activation)\n",
        "- Batch normalization\n",
        "- Convolution (50 unites, kernel size 2, 'relu' activation)\n",
        "- Flatten\n",
        "- Dense (10 units, 'softmax' activation)"
      ]
    },
    {
      "cell_type": "code",
      "metadata": {
        "id": "IWeiHlQwv32D",
        "colab_type": "code",
        "colab": {
          "base_uri": "https://localhost:8080/",
          "height": 323
        },
        "outputId": "c3e7ceb8-7815-4dd4-a9a7-a70f34304a1c"
      },
      "source": [
        "model1 = Sequential()\n",
        "\n",
        "# Add a convolutional layer\n",
        "model1.add(Conv2D(100, kernel_size=2, activation='relu',\n",
        "input_shape=(28, 28, 1)))\n",
        "\n",
        "\n",
        "# Add batch normalization layer\n",
        "model1.add(BatchNormalization())\n",
        "\n",
        "# Add another convolutional layer\n",
        "model1.add(Conv2D(50, kernel_size=2, activation='relu'))\n",
        "\n",
        "# Flatten and feed to output layer\n",
        "model1.add(Flatten())\n",
        "model1.add(Dense(10, activation='softmax'))\n",
        "\n",
        "model1.summary()"
      ],
      "execution_count": null,
      "outputs": [
        {
          "output_type": "stream",
          "text": [
            "Model: \"sequential_11\"\n",
            "_________________________________________________________________\n",
            "Layer (type)                 Output Shape              Param #   \n",
            "=================================================================\n",
            "conv2d_13 (Conv2D)           (None, 27, 27, 100)       500       \n",
            "_________________________________________________________________\n",
            "batch_normalization_4 (Batch (None, 27, 27, 100)       400       \n",
            "_________________________________________________________________\n",
            "conv2d_14 (Conv2D)           (None, 26, 26, 50)        20050     \n",
            "_________________________________________________________________\n",
            "flatten_6 (Flatten)          (None, 33800)             0         \n",
            "_________________________________________________________________\n",
            "dense_6 (Dense)              (None, 10)                338010    \n",
            "=================================================================\n",
            "Total params: 358,960\n",
            "Trainable params: 358,760\n",
            "Non-trainable params: 200\n",
            "_________________________________________________________________\n"
          ],
          "name": "stdout"
        }
      ]
    },
    {
      "cell_type": "code",
      "metadata": {
        "id": "5svMzESbBNfq",
        "colab_type": "code",
        "colab": {}
      },
      "source": [
        "# Compile the model \n",
        "model1.compile(optimizer='adam', \n",
        "              loss='categorical_crossentropy', \n",
        "              metrics=['accuracy'])"
      ],
      "execution_count": null,
      "outputs": []
    },
    {
      "cell_type": "code",
      "metadata": {
        "id": "gNKbuz9hBdv-",
        "colab_type": "code",
        "colab": {
          "base_uri": "https://localhost:8080/",
          "height": 384
        },
        "outputId": "1f4d6980-3859-4a6c-ff46-9b05b9681903"
      },
      "source": [
        "import matplotlib.pyplot as plt\n",
        "\n",
        "# Train the model and store the training object\n",
        "training = model1.fit(train_images, train_labels,\n",
        "epochs=3, batch_size = 10, validation_split=0.2)\n",
        "\n",
        "# Extract the history from the training object\n",
        "history = training.history\n",
        "\n",
        "# Plot the training loss \n",
        "plt.plot(history['loss'])\n",
        "# Plot the validation loss\n",
        "plt.plot(history['val_loss'])\n",
        "\n",
        "# Show the figure\n",
        "plt.show()"
      ],
      "execution_count": null,
      "outputs": [
        {
          "output_type": "stream",
          "text": [
            "Train on 48000 samples, validate on 12000 samples\n",
            "Epoch 1/3\n",
            "48000/48000 [==============================] - 240s 5ms/step - loss: 0.4608 - accuracy: 0.8511 - val_loss: 0.3565 - val_accuracy: 0.8722\n",
            "Epoch 2/3\n",
            "48000/48000 [==============================] - 242s 5ms/step - loss: 0.2954 - accuracy: 0.8964 - val_loss: 0.3223 - val_accuracy: 0.8895\n",
            "Epoch 3/3\n",
            "48000/48000 [==============================] - 243s 5ms/step - loss: 0.2293 - accuracy: 0.9200 - val_loss: 0.3421 - val_accuracy: 0.8890\n"
          ],
          "name": "stdout"
        },
        {
          "output_type": "display_data",
          "data": {
            "image/png": "[encoded data removed]",
            "text/plain": [
              "<Figure size 432x288 with 1 Axes>"
            ]
          },
          "metadata": {
            "tags": [],
            "needs_background": "light"
          }
        }
      ]
    }
  ]
}